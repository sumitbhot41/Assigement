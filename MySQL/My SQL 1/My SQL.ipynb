{
 "cells": [
  {
   "cell_type": "code",
   "execution_count": null,
   "id": "33fe9e93-3ec4-41c1-957c-ee16abce25a6",
   "metadata": {},
   "outputs": [],
   "source": [
    "Q1. What is a database? Differentiate between SQL and NoSQL databases."
   ]
  },
  {
   "cell_type": "raw",
   "id": "703a7915-3684-4d33-98eb-38e511bbc7b8",
   "metadata": {},
   "source": [
    ". A database is a structured collection of data that is organized and stored in a computer system. It allows for efficient retrieval, insertion, updating, and deletion of data. Databases can be broadly classified into two categories:"
   ]
  },
  {
   "cell_type": "raw",
   "id": "468030dd-1e81-426d-8c07-9a710d67685e",
   "metadata": {},
   "source": [
    "SQL (Structured Query Language) databases: SQL databases are relational databases that use SQL as the standard language for interacting with the data. They store data in tables with predefined schemas and support ACID (Atomicity, Consistency, Isolation, Durability) properties. Examples include MySQL, PostgreSQL, SQLite, Oracle Database, and SQL Server.\n",
    "\n",
    "NoSQL (Not Only SQL) databases: NoSQL databases are non-relational databases that provide a flexible data model and typically do not require a fixed schema. They are designed to handle large volumes of unstructured or semi-structured data and offer scalability and high availability. NoSQL databases come in various types, including document-oriented, key-value stores, column-family stores, and graph databases. Examples include MongoDB, Couchbase, Cassandra, Redis, and Neo4j."
   ]
  },
  {
   "cell_type": "raw",
   "id": "a194aa14-dd10-4569-8ad0-02ebb4f1861f",
   "metadata": {},
   "source": [
    ". What is DDL? Explain why CREATE, DROP, ALTER, and TRUNCATE are used with an example."
   ]
  },
  {
   "cell_type": "raw",
   "id": "08e931e9-5a8f-4035-a5cb-1701d57fb815",
   "metadata": {},
   "source": [
    "CREATE: Used to create new database objects such as tables, indexes, or views.\n",
    "DROP: Used to delete existing database objects.\n",
    "ALTER: Used to modify the structure of existing database objects.\n",
    "TRUNCATE: Used to remove all rows from a table without deleting the table structure."
   ]
  },
  {
   "cell_type": "code",
   "execution_count": null,
   "id": "289dd650-3f60-4a6e-af97-f56ef34eac93",
   "metadata": {},
   "outputs": [],
   "source": [
    "What is DML? Explain INSERT, UPDATE, and DELETE with an example."
   ]
  },
  {
   "cell_type": "code",
   "execution_count": null,
   "id": "6c514fa0-c7e2-4fcc-a757-d81db203ae0e",
   "metadata": {},
   "outputs": [],
   "source": [
    "INSERT: Used to insert new records into a table.\n",
    "UPDATE: Used to modify existing records in a table.\n",
    "DELETE: Used to remove records from a table"
   ]
  },
  {
   "cell_type": "code",
   "execution_count": null,
   "id": "e19d89a4-4b73-4d60-bcc1-9c18cfb1a09a",
   "metadata": {},
   "outputs": [],
   "source": [
    "What is DQL? Explain SELECT with an example."
   ]
  },
  {
   "cell_type": "code",
   "execution_count": null,
   "id": "2f99c3a9-d6e0-4285-a692-84f02bd2e75f",
   "metadata": {},
   "outputs": [],
   "source": [
    "DQL (Data Query Language) is a subset of SQL used to retrieve data from database objects. The main DQL command is:\n",
    "\n",
    "SELECT: Used to retrieve data from one or more tables based on specified criteria."
   ]
  },
  {
   "cell_type": "code",
   "execution_count": null,
   "id": "72d29be7-6e27-455e-8ef9-d1ba82c3cbd6",
   "metadata": {},
   "outputs": [],
   "source": [
    "Explain Primary Key and Foreign Key."
   ]
  },
  {
   "cell_type": "raw",
   "id": "7aa7896a-cb1a-418c-a9c2-0511b02b11e7",
   "metadata": {},
   "source": [
    "Primary Key: A primary key is a column or a set of columns that uniquely identifies each record in a table. It ensures that each row in a table is unique and serves as the primary means of accessing and referencing data within the table. Primary keys enforce entity integrity and are typically used to establish relationships with other tables.\n",
    "\n",
    "Foreign Key: A foreign key is a column or a set of columns in one table that references the primary key of another table. It establishes a link between two tables and enforces referential integrity by ensuring that values in the foreign key column(s) correspond to existing values in the primary key column(s) of the referenced table. Foreign keys define relationships between tables, such as one-to-many or many-to-many relationships."
   ]
  },
  {
   "cell_type": "code",
   "execution_count": null,
   "id": "219e38cc-45d3-4521-8852-56b4ff1d99c3",
   "metadata": {},
   "outputs": [],
   "source": [
    " Give the order of execution of SQL clauses in an SQL query."
   ]
  },
  {
   "cell_type": "code",
   "execution_count": null,
   "id": "3ceda9c9-4906-4149-a33d-5c84f967b8b9",
   "metadata": {},
   "outputs": [],
   "source": [
    "FROM: Specifies the tables from which to retrieve data.\n",
    "WHERE: Filters the rows based on specified conditions.\n",
    "GROUP BY: Groups the rows that have the same values into summary rows.\n",
    "HAVING: Filters the groups based on specified conditions.\n",
    "SELECT: Retrieves the specified columns or expressions from the result set.\n",
    "DISTINCT: Removes duplicate rows from the result set.\n",
    "ORDER BY: Sorts the rows in the result set based on specified criteria.\n",
    "LIMIT/OFFSET: Limits the number of rows returned by the query or skips a specified number of rows."
   ]
  },
  {
   "cell_type": "code",
   "execution_count": null,
   "id": "3527d6ed-1230-4e63-b164-f5dcd037f6d1",
   "metadata": {},
   "outputs": [],
   "source": []
  },
  {
   "cell_type": "code",
   "execution_count": null,
   "id": "53a583f7-013d-4bf5-96e9-e95e0a8395c8",
   "metadata": {},
   "outputs": [],
   "source": []
  },
  {
   "cell_type": "code",
   "execution_count": null,
   "id": "661a2d3d-81e2-4f22-afc7-3a5b305d2a9e",
   "metadata": {},
   "outputs": [],
   "source": []
  },
  {
   "cell_type": "code",
   "execution_count": null,
   "id": "73e75634-4737-4b0d-ba20-394aa3f25fbf",
   "metadata": {},
   "outputs": [],
   "source": []
  },
  {
   "cell_type": "code",
   "execution_count": null,
   "id": "1dd1408f-1f8e-40be-9426-5886663bbe53",
   "metadata": {},
   "outputs": [],
   "source": []
  },
  {
   "cell_type": "code",
   "execution_count": null,
   "id": "bbf89393-0cc6-46d5-9a1e-04dbb593471e",
   "metadata": {},
   "outputs": [],
   "source": []
  },
  {
   "cell_type": "code",
   "execution_count": null,
   "id": "e0c903a0-aee7-4031-9a49-e61f291143cd",
   "metadata": {},
   "outputs": [],
   "source": []
  },
  {
   "cell_type": "code",
   "execution_count": null,
   "id": "a61d1686-798d-49b4-be66-6f8a95c1f351",
   "metadata": {},
   "outputs": [],
   "source": []
  }
 ],
 "metadata": {
  "kernelspec": {
   "display_name": "Python 3 (ipykernel)",
   "language": "python",
   "name": "python3"
  },
  "language_info": {
   "codemirror_mode": {
    "name": "ipython",
    "version": 3
   },
   "file_extension": ".py",
   "mimetype": "text/x-python",
   "name": "python",
   "nbconvert_exporter": "python",
   "pygments_lexer": "ipython3",
   "version": "3.11.5"
  }
 },
 "nbformat": 4,
 "nbformat_minor": 5
}
