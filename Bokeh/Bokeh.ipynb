{
 "cells": [
  {
   "cell_type": "code",
   "execution_count": null,
   "id": "0788fe27-03fa-4380-946b-eca576689e59",
   "metadata": {},
   "outputs": [],
   "source": [
    "Q1. How can you create a Bokeh plot using Python code?"
   ]
  },
  {
   "cell_type": "raw",
   "id": "a287ea41-6a91-4707-b99b-9e3c507e2db2",
   "metadata": {},
   "source": [
    "Import necessary modules from Bokeh.\n",
    "Prepare your data.\n",
    "Create a figure object.\n",
    "Add glyphs (visual markers such as lines, circles, etc.) to the figure.\n",
    "Customize the plot as needed.\n",
    "Show or save the plot."
   ]
  },
  {
   "cell_type": "code",
   "execution_count": 4,
   "id": "647022b3-2066-4e62-a665-5781d4038f45",
   "metadata": {},
   "outputs": [],
   "source": [
    "from bokeh.plotting import figure, show\n",
    "import numpy as np\n",
    "\n",
    "# Prepare data\n",
    "x = np.linspace(0, 10, 100)\n",
    "y = np.sin(x)\n",
    "\n",
    "# Create a figure object\n",
    "p = figure(title=\"Sin Wave\", x_axis_label='X', y_axis_label='Y')\n",
    "\n",
    "# Add a line glyph\n",
    "p.line(x, y, legend_label=\"sin(x)\", line_width=2)\n",
    "\n",
    "# Show the plot\n",
    "show(p)"
   ]
  },
  {
   "cell_type": "code",
   "execution_count": 2,
   "id": "a2aa96bb-c5f7-4630-987f-952a8eb9d754",
   "metadata": {},
   "outputs": [
    {
     "name": "stdout",
     "output_type": "stream",
     "text": [
      "Collecting bokeh\n",
      "  Obtaining dependency information for bokeh from https://files.pythonhosted.org/packages/f9/24/d8949753839db67197a33014b854cbed2126f8c871e03723e7abddcca12a/bokeh-3.4.0-py3-none-any.whl.metadata\n",
      "  Downloading bokeh-3.4.0-py3-none-any.whl.metadata (12 kB)\n",
      "Requirement already satisfied: Jinja2>=2.9 in c:\\users\\sumit bhot\\appdata\\local\\programs\\python\\python311\\lib\\site-packages (from bokeh) (3.1.2)\n",
      "Requirement already satisfied: contourpy>=1.2 in c:\\users\\sumit bhot\\appdata\\local\\programs\\python\\python311\\lib\\site-packages (from bokeh) (1.2.0)\n",
      "Requirement already satisfied: numpy>=1.16 in c:\\users\\sumit bhot\\appdata\\local\\programs\\python\\python311\\lib\\site-packages (from bokeh) (1.26.2)\n",
      "Requirement already satisfied: packaging>=16.8 in c:\\users\\sumit bhot\\appdata\\local\\programs\\python\\python311\\lib\\site-packages (from bokeh) (23.2)\n",
      "Requirement already satisfied: pandas>=1.2 in c:\\users\\sumit bhot\\appdata\\local\\programs\\python\\python311\\lib\\site-packages (from bokeh) (2.1.3)\n",
      "Requirement already satisfied: pillow>=7.1.0 in c:\\users\\sumit bhot\\appdata\\local\\programs\\python\\python311\\lib\\site-packages (from bokeh) (10.1.0)\n",
      "Requirement already satisfied: PyYAML>=3.10 in c:\\users\\sumit bhot\\appdata\\local\\programs\\python\\python311\\lib\\site-packages (from bokeh) (6.0.1)\n",
      "Requirement already satisfied: tornado>=6.2 in c:\\users\\sumit bhot\\appdata\\local\\programs\\python\\python311\\lib\\site-packages (from bokeh) (6.4)\n",
      "Collecting xyzservices>=2021.09.1 (from bokeh)\n",
      "  Obtaining dependency information for xyzservices>=2021.09.1 from https://files.pythonhosted.org/packages/82/c3/e06dfa46464cce3eda4b86df8847cab99d9bc545c76807ee689545187a4c/xyzservices-2023.10.1-py3-none-any.whl.metadata\n",
      "  Downloading xyzservices-2023.10.1-py3-none-any.whl.metadata (4.0 kB)\n",
      "Requirement already satisfied: MarkupSafe>=2.0 in c:\\users\\sumit bhot\\appdata\\local\\programs\\python\\python311\\lib\\site-packages (from Jinja2>=2.9->bokeh) (2.1.3)\n",
      "Requirement already satisfied: python-dateutil>=2.8.2 in c:\\users\\sumit bhot\\appdata\\local\\programs\\python\\python311\\lib\\site-packages (from pandas>=1.2->bokeh) (2.8.2)\n",
      "Requirement already satisfied: pytz>=2020.1 in c:\\users\\sumit bhot\\appdata\\local\\programs\\python\\python311\\lib\\site-packages (from pandas>=1.2->bokeh) (2023.3.post1)\n",
      "Requirement already satisfied: tzdata>=2022.1 in c:\\users\\sumit bhot\\appdata\\local\\programs\\python\\python311\\lib\\site-packages (from pandas>=1.2->bokeh) (2023.3)\n",
      "Requirement already satisfied: six>=1.5 in c:\\users\\sumit bhot\\appdata\\local\\programs\\python\\python311\\lib\\site-packages (from python-dateutil>=2.8.2->pandas>=1.2->bokeh) (1.16.0)\n",
      "Downloading bokeh-3.4.0-py3-none-any.whl (7.0 MB)\n",
      "   ---------------------------------------- 0.0/7.0 MB ? eta -:--:--\n",
      "   ---------------------------------------- 0.0/7.0 MB ? eta -:--:--\n",
      "   ---------------------------------------- 0.1/7.0 MB 975.2 kB/s eta 0:00:08\n",
      "   - -------------------------------------- 0.2/7.0 MB 1.9 MB/s eta 0:00:04\n",
      "   -- ------------------------------------- 0.5/7.0 MB 2.8 MB/s eta 0:00:03\n",
      "   ---- ----------------------------------- 0.8/7.0 MB 3.7 MB/s eta 0:00:02\n",
      "   ------- -------------------------------- 1.3/7.0 MB 5.5 MB/s eta 0:00:02\n",
      "   ---------- ----------------------------- 1.8/7.0 MB 6.3 MB/s eta 0:00:01\n",
      "   ------------- -------------------------- 2.4/7.0 MB 7.3 MB/s eta 0:00:01\n",
      "   ---------------- ----------------------- 2.9/7.0 MB 7.6 MB/s eta 0:00:01\n",
      "   ------------------ --------------------- 3.3/7.0 MB 8.1 MB/s eta 0:00:01\n",
      "   --------------------- ------------------ 3.8/7.0 MB 8.3 MB/s eta 0:00:01\n",
      "   ------------------------ --------------- 4.3/7.0 MB 8.6 MB/s eta 0:00:01\n",
      "   ---------------------------- ----------- 4.9/7.0 MB 9.0 MB/s eta 0:00:01\n",
      "   ------------------------------- -------- 5.6/7.0 MB 9.3 MB/s eta 0:00:01\n",
      "   ---------------------------------- ----- 6.1/7.0 MB 9.3 MB/s eta 0:00:01\n",
      "   ------------------------------------- -- 6.6/7.0 MB 9.6 MB/s eta 0:00:01\n",
      "   ---------------------------------------  7.0/7.0 MB 9.7 MB/s eta 0:00:01\n",
      "   ---------------------------------------- 7.0/7.0 MB 9.3 MB/s eta 0:00:00\n",
      "Downloading xyzservices-2023.10.1-py3-none-any.whl (56 kB)\n",
      "   ---------------------------------------- 0.0/56.3 kB ? eta -:--:--\n",
      "   ---------------------------------------- 56.3/56.3 kB 2.9 MB/s eta 0:00:00\n",
      "Installing collected packages: xyzservices, bokeh\n",
      "Successfully installed bokeh-3.4.0 xyzservices-2023.10.1\n",
      "Note: you may need to restart the kernel to use updated packages.\n"
     ]
    },
    {
     "name": "stderr",
     "output_type": "stream",
     "text": [
      "\n",
      "[notice] A new release of pip is available: 23.2.1 -> 24.0\n",
      "[notice] To update, run: C:\\Users\\sumit bhot\\AppData\\Local\\Programs\\Python\\Python311\\python.exe -m pip install --upgrade pip\n"
     ]
    }
   ],
   "source": [
    "pip install bokeh\n"
   ]
  },
  {
   "cell_type": "raw",
   "id": "ef844e5a-c338-4027-84d6-e61e0246f177",
   "metadata": {},
   "source": [
    "Q2. What are glyphs in Bokeh, and how can you add them to a Bokeh plot? Explain with an example.\n",
    "\n",
    "Glyphs in Bokeh are visual markers such as lines, circles, squares, etc., used to represent data points or shapes on a plot. You can add glyphs to a Bokeh plot using methods like line(), circle(), square(), etc. Each glyph method allows you to specify properties such as position, size, color, etc.\n",
    "\n",
    "Here's an example adding circles as glyphs to a plot:"
   ]
  },
  {
   "cell_type": "code",
   "execution_count": 6,
   "id": "9a9d96ce-02c8-4664-8bfd-ce129ca99eee",
   "metadata": {},
   "outputs": [
    {
     "name": "stderr",
     "output_type": "stream",
     "text": [
      "BokehDeprecationWarning: 'circle() method with size value' was deprecated in Bokeh 3.4.0 and will be removed, use 'scatter(size=...) instead' instead.\n"
     ]
    }
   ],
   "source": [
    "from bokeh.plotting import figure, show\n",
    "\n",
    "# Prepare data\n",
    "x = [1, 2, 3, 4, 5]\n",
    "y = [6, 7, 2, 4, 5]\n",
    "\n",
    "# Create a figure object\n",
    "p = figure(title=\"Glyph Example\", x_axis_label='X', y_axis_label='Y')\n",
    "\n",
    "# Add circles as glyphs\n",
    "p.circle(x, y, size=10, color=\"navy\", alpha=0.5)\n",
    "\n",
    "# Show the plot\n",
    "show(p)"
   ]
  },
  {
   "cell_type": "raw",
   "id": "a088cde1-d787-44b6-aa8b-12c46ccf6c59",
   "metadata": {},
   "source": [
    "3. How can you customize the appearance of a Bokeh plot, including the axes, title, and legend?\n",
    "\n",
    "You can customize various aspects of a Bokeh plot using attributes and methods provided by the figure object and other Bokeh models. For example:\n",
    "\n",
    "To customize the title: Use the title attribute of the figure object.\n",
    "To customize axes: Use xaxis and yaxis attributes to access axis objects and customize their properties like labels, ticks, etc.\n",
    "To customize the legend: Pass a legend_label parameter when adding glyphs, and optionally, use the legend attribute of the figure object to further customize legend properties."
   ]
  },
  {
   "cell_type": "code",
   "execution_count": 8,
   "id": "8f318fd3-e1c0-4dfb-b25a-b571e2da3120",
   "metadata": {},
   "outputs": [],
   "source": [
    "from bokeh.plotting import figure, show\n",
    "\n",
    "# Prepare data\n",
    "x = [1, 2, 3, 4, 5]\n",
    "y = [6, 7, 2, 4, 5]\n",
    "\n",
    "# Create a figure object with customized properties\n",
    "p = figure(title=\"Customized Plot\", x_axis_label='X', y_axis_label='Y',\n",
    "           width=400, height=300)  # Corrected attribute names\n",
    "\n",
    "# Add a line glyph\n",
    "p.line(x, y, legend_label=\"Line\", line_width=2, line_color=\"blue\")\n",
    "\n",
    "# Customize axes\n",
    "p.xaxis.axis_label_text_color = \"orange\"\n",
    "p.yaxis.axis_label_text_font_style = \"italic\"\n",
    "\n",
    "# Customize title\n",
    "p.title.text_color = \"green\"\n",
    "p.title.text_font_size = \"16pt\"\n",
    "\n",
    "# Show legend\n",
    "p.legend.location = \"top_left\"\n",
    "\n",
    "# Show the plot\n",
    "show(p)"
   ]
  },
  {
   "cell_type": "raw",
   "id": "00a0512c-3f4c-4da4-bc32-9a2ab0cdd9c9",
   "metadata": {},
   "source": [
    "Q5. How can you embed a Bokeh plot into a web page or dashboard using Flask or Django?\n",
    "\n",
    "To embed a Bokeh plot into a web page or dashboard using Flask or Django, you typically follow these steps:\n",
    "\n",
    "Create a Bokeh plot as usual.\n",
    "Serialize the plot using Bokeh's json_item() or components() function to generate the necessary HTML and JavaScript code.\n",
    "Pass the serialized plot to your Flask or Django template.\n",
    "Render the template within your Flask or Django application."
   ]
  },
  {
   "cell_type": "code",
   "execution_count": 12,
   "id": "2ba7e511-21e9-4566-8693-6c5d649b94e4",
   "metadata": {},
   "outputs": [
    {
     "name": "stdout",
     "output_type": "stream",
     "text": [
      "Collecting flask\n",
      "  Obtaining dependency information for flask from https://files.pythonhosted.org/packages/93/a6/aa98bfe0eb9b8b15d36cdfd03c8ca86a03968a87f27ce224fb4f766acb23/flask-3.0.2-py3-none-any.whl.metadata\n",
      "  Downloading flask-3.0.2-py3-none-any.whl.metadata (3.6 kB)\n",
      "Collecting Werkzeug>=3.0.0 (from flask)\n",
      "  Obtaining dependency information for Werkzeug>=3.0.0 from https://files.pythonhosted.org/packages/c3/fc/254c3e9b5feb89ff5b9076a23218dafbc99c96ac5941e900b71206e6313b/werkzeug-3.0.1-py3-none-any.whl.metadata\n",
      "  Downloading werkzeug-3.0.1-py3-none-any.whl.metadata (4.1 kB)\n",
      "Requirement already satisfied: Jinja2>=3.1.2 in c:\\users\\sumit bhot\\appdata\\local\\programs\\python\\python311\\lib\\site-packages (from flask) (3.1.2)\n",
      "Collecting itsdangerous>=2.1.2 (from flask)\n",
      "  Obtaining dependency information for itsdangerous>=2.1.2 from https://files.pythonhosted.org/packages/68/5f/447e04e828f47465eeab35b5d408b7ebaaaee207f48b7136c5a7267a30ae/itsdangerous-2.1.2-py3-none-any.whl.metadata\n",
      "  Downloading itsdangerous-2.1.2-py3-none-any.whl.metadata (2.9 kB)\n",
      "Collecting click>=8.1.3 (from flask)\n",
      "  Obtaining dependency information for click>=8.1.3 from https://files.pythonhosted.org/packages/00/2e/d53fa4befbf2cfa713304affc7ca780ce4fc1fd8710527771b58311a3229/click-8.1.7-py3-none-any.whl.metadata\n",
      "  Downloading click-8.1.7-py3-none-any.whl.metadata (3.0 kB)\n",
      "Collecting blinker>=1.6.2 (from flask)\n",
      "  Obtaining dependency information for blinker>=1.6.2 from https://files.pythonhosted.org/packages/fa/2a/7f3714cbc6356a0efec525ce7a0613d581072ed6eb53eb7b9754f33db807/blinker-1.7.0-py3-none-any.whl.metadata\n",
      "  Downloading blinker-1.7.0-py3-none-any.whl.metadata (1.9 kB)\n",
      "Requirement already satisfied: colorama in c:\\users\\sumit bhot\\appdata\\local\\programs\\python\\python311\\lib\\site-packages (from click>=8.1.3->flask) (0.4.6)\n",
      "Requirement already satisfied: MarkupSafe>=2.0 in c:\\users\\sumit bhot\\appdata\\local\\programs\\python\\python311\\lib\\site-packages (from Jinja2>=3.1.2->flask) (2.1.3)\n",
      "Downloading flask-3.0.2-py3-none-any.whl (101 kB)\n",
      "   ---------------------------------------- 0.0/101.3 kB ? eta -:--:--\n",
      "   ---- ----------------------------------- 10.2/101.3 kB ? eta -:--:--\n",
      "   --------------- ----------------------- 41.0/101.3 kB 487.6 kB/s eta 0:00:01\n",
      "   -------------------------------------- 101.3/101.3 kB 827.8 kB/s eta 0:00:00\n",
      "Downloading blinker-1.7.0-py3-none-any.whl (13 kB)\n",
      "Downloading click-8.1.7-py3-none-any.whl (97 kB)\n",
      "   ---------------------------------------- 0.0/97.9 kB ? eta -:--:--\n",
      "   ---------------------------------------- 97.9/97.9 kB 5.5 MB/s eta 0:00:00\n",
      "Downloading itsdangerous-2.1.2-py3-none-any.whl (15 kB)\n",
      "Downloading werkzeug-3.0.1-py3-none-any.whl (226 kB)\n",
      "   ---------------------------------------- 0.0/226.7 kB ? eta -:--:--\n",
      "   --------------------- ------------------ 122.9/226.7 kB 7.0 MB/s eta 0:00:01\n",
      "   ---------------------------------------- 226.7/226.7 kB 2.3 MB/s eta 0:00:00\n",
      "Installing collected packages: Werkzeug, itsdangerous, click, blinker, flask\n",
      "Successfully installed Werkzeug-3.0.1 blinker-1.7.0 click-8.1.7 flask-3.0.2 itsdangerous-2.1.2\n",
      "Note: you may need to restart the kernel to use updated packages.\n"
     ]
    },
    {
     "name": "stderr",
     "output_type": "stream",
     "text": [
      "\n",
      "[notice] A new release of pip is available: 23.2.1 -> 24.0\n",
      "[notice] To update, run: C:\\Users\\sumit bhot\\AppData\\Local\\Programs\\Python\\Python311\\python.exe -m pip install --upgrade pip\n"
     ]
    }
   ],
   "source": [
    "pip install flask\n"
   ]
  },
  {
   "cell_type": "code",
   "execution_count": 16,
   "id": "752ebc2e-c5ca-4263-9a6c-6aeda4477938",
   "metadata": {},
   "outputs": [
    {
     "name": "stdout",
     "output_type": "stream",
     "text": [
      "Requirement already satisfied: Flask in c:\\users\\sumit bhot\\appdata\\local\\programs\\python\\python311\\lib\\site-packages (3.0.2)\n",
      "Requirement already satisfied: bokeh in c:\\users\\sumit bhot\\appdata\\local\\programs\\python\\python311\\lib\\site-packages (3.4.0)\n",
      "Requirement already satisfied: Werkzeug>=3.0.0 in c:\\users\\sumit bhot\\appdata\\local\\programs\\python\\python311\\lib\\site-packages (from Flask) (3.0.1)\n",
      "Requirement already satisfied: Jinja2>=3.1.2 in c:\\users\\sumit bhot\\appdata\\local\\programs\\python\\python311\\lib\\site-packages (from Flask) (3.1.2)\n",
      "Requirement already satisfied: itsdangerous>=2.1.2 in c:\\users\\sumit bhot\\appdata\\local\\programs\\python\\python311\\lib\\site-packages (from Flask) (2.1.2)\n",
      "Requirement already satisfied: click>=8.1.3 in c:\\users\\sumit bhot\\appdata\\local\\programs\\python\\python311\\lib\\site-packages (from Flask) (8.1.7)\n",
      "Requirement already satisfied: blinker>=1.6.2 in c:\\users\\sumit bhot\\appdata\\local\\programs\\python\\python311\\lib\\site-packages (from Flask) (1.7.0)\n",
      "Requirement already satisfied: contourpy>=1.2 in c:\\users\\sumit bhot\\appdata\\local\\programs\\python\\python311\\lib\\site-packages (from bokeh) (1.2.0)\n",
      "Requirement already satisfied: numpy>=1.16 in c:\\users\\sumit bhot\\appdata\\local\\programs\\python\\python311\\lib\\site-packages (from bokeh) (1.26.2)\n",
      "Requirement already satisfied: packaging>=16.8 in c:\\users\\sumit bhot\\appdata\\local\\programs\\python\\python311\\lib\\site-packages (from bokeh) (23.2)\n",
      "Requirement already satisfied: pandas>=1.2 in c:\\users\\sumit bhot\\appdata\\local\\programs\\python\\python311\\lib\\site-packages (from bokeh) (2.1.3)\n",
      "Requirement already satisfied: pillow>=7.1.0 in c:\\users\\sumit bhot\\appdata\\local\\programs\\python\\python311\\lib\\site-packages (from bokeh) (10.1.0)\n",
      "Requirement already satisfied: PyYAML>=3.10 in c:\\users\\sumit bhot\\appdata\\local\\programs\\python\\python311\\lib\\site-packages (from bokeh) (6.0.1)\n",
      "Requirement already satisfied: tornado>=6.2 in c:\\users\\sumit bhot\\appdata\\local\\programs\\python\\python311\\lib\\site-packages (from bokeh) (6.4)\n",
      "Requirement already satisfied: xyzservices>=2021.09.1 in c:\\users\\sumit bhot\\appdata\\local\\programs\\python\\python311\\lib\\site-packages (from bokeh) (2023.10.1)\n",
      "Requirement already satisfied: colorama in c:\\users\\sumit bhot\\appdata\\local\\programs\\python\\python311\\lib\\site-packages (from click>=8.1.3->Flask) (0.4.6)\n",
      "Requirement already satisfied: MarkupSafe>=2.0 in c:\\users\\sumit bhot\\appdata\\local\\programs\\python\\python311\\lib\\site-packages (from Jinja2>=3.1.2->Flask) (2.1.3)\n",
      "Requirement already satisfied: python-dateutil>=2.8.2 in c:\\users\\sumit bhot\\appdata\\local\\programs\\python\\python311\\lib\\site-packages (from pandas>=1.2->bokeh) (2.8.2)\n",
      "Requirement already satisfied: pytz>=2020.1 in c:\\users\\sumit bhot\\appdata\\local\\programs\\python\\python311\\lib\\site-packages (from pandas>=1.2->bokeh) (2023.3.post1)\n",
      "Requirement already satisfied: tzdata>=2022.1 in c:\\users\\sumit bhot\\appdata\\local\\programs\\python\\python311\\lib\\site-packages (from pandas>=1.2->bokeh) (2023.3)\n",
      "Requirement already satisfied: six>=1.5 in c:\\users\\sumit bhot\\appdata\\local\\programs\\python\\python311\\lib\\site-packages (from python-dateutil>=2.8.2->pandas>=1.2->bokeh) (1.16.0)\n",
      "Note: you may need to restart the kernel to use updated packages.\n"
     ]
    },
    {
     "name": "stderr",
     "output_type": "stream",
     "text": [
      "\n",
      "[notice] A new release of pip is available: 23.2.1 -> 24.0\n",
      "[notice] To update, run: C:\\Users\\sumit bhot\\AppData\\Local\\Programs\\Python\\Python311\\python.exe -m pip install --upgrade pip\n"
     ]
    }
   ],
   "source": [
    "pip install Flask bokeh"
   ]
  },
  {
   "cell_type": "code",
   "execution_count": null,
   "id": "b68c1223-41ef-47f3-910a-36c15b57ab8f",
   "metadata": {},
   "outputs": [],
   "source": []
  },
  {
   "cell_type": "code",
   "execution_count": null,
   "id": "3dd1c829-07d9-462f-8404-c35a99fe816e",
   "metadata": {},
   "outputs": [],
   "source": []
  },
  {
   "cell_type": "code",
   "execution_count": null,
   "id": "29861e8d-44b4-4a5e-afb4-a827be0d67fb",
   "metadata": {},
   "outputs": [],
   "source": []
  },
  {
   "cell_type": "code",
   "execution_count": null,
   "id": "1ec2d988-75ff-4f6e-8986-4637ac097371",
   "metadata": {},
   "outputs": [],
   "source": []
  },
  {
   "cell_type": "code",
   "execution_count": null,
   "id": "499e98c0-710b-406a-b197-22115a5bc236",
   "metadata": {},
   "outputs": [],
   "source": []
  },
  {
   "cell_type": "code",
   "execution_count": null,
   "id": "b8cb5483-5a85-45c1-8557-8c255e80569a",
   "metadata": {},
   "outputs": [],
   "source": []
  },
  {
   "cell_type": "code",
   "execution_count": null,
   "id": "8bfd6fb0-aaac-47df-bc73-21046ad5010e",
   "metadata": {},
   "outputs": [],
   "source": []
  }
 ],
 "metadata": {
  "kernelspec": {
   "display_name": "Python 3 (ipykernel)",
   "language": "python",
   "name": "python3"
  },
  "language_info": {
   "codemirror_mode": {
    "name": "ipython",
    "version": 3
   },
   "file_extension": ".py",
   "mimetype": "text/x-python",
   "name": "python",
   "nbconvert_exporter": "python",
   "pygments_lexer": "ipython3",
   "version": "3.11.5"
  }
 },
 "nbformat": 4,
 "nbformat_minor": 5
}
