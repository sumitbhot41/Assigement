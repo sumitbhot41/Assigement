{
 "cells": [
  {
   "cell_type": "code",
   "execution_count": null,
   "id": "6e17eef6-02b9-448d-95ce-b88e6dd18260",
   "metadata": {},
   "outputs": [],
   "source": [
    "hi \n"
   ]
  },
  {
   "cell_type": "code",
   "execution_count": null,
   "id": "295c730a-d409-4653-b8d8-50e55f27a12e",
   "metadata": {},
   "outputs": [],
   "source": [
    "this is my new program \n"
   ]
  }
 ],
 "metadata": {
  "kernelspec": {
   "display_name": "Python 3 (ipykernel)",
   "language": "python",
   "name": "python3"
  },
  "language_info": {
   "codemirror_mode": {
    "name": "ipython",
    "version": 3
   },
   "file_extension": ".py",
   "mimetype": "text/x-python",
   "name": "python",
   "nbconvert_exporter": "python",
   "pygments_lexer": "ipython3",
   "version": "3.11.5"
  }
 },
 "nbformat": 4,
 "nbformat_minor": 5
}
