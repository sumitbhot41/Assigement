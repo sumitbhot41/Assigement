{
 "cells": [
  {
   "cell_type": "code",
   "execution_count": null,
   "id": "950e6073-8ca7-4df5-a145-5ad2cdd7e7cf",
   "metadata": {},
   "outputs": [],
   "source": [
    "Q1. Explain Class and Object with respect to Object-Oriented Programming. Give a suitable example.\n",
    "\n",
    "Class: A class is a blueprint for creating objects (instances). It defines the attributes and methods that objects of the class will have. It serves as a template to create multiple objects with similar properties and behaviors.\n",
    "\n",
    "Object: An object is an instance of a class. It is a real-world entity that has state (attributes) and behavior (methods). Objects are created based on the structure defined by their class."
   ]
  },
  {
   "cell_type": "code",
   "execution_count": 1,
   "id": "1246ff94-7249-49ff-b978-cd718cfeabe0",
   "metadata": {},
   "outputs": [
    {
     "name": "stdout",
     "output_type": "stream",
     "text": [
      "Car: Toyota, Model: Camry\n",
      "Car: Honda, Model: Civic\n"
     ]
    }
   ],
   "source": [
    "class Car:\n",
    "    def __init__(self, brand, model):\n",
    "        self.brand = brand\n",
    "        self.model = model\n",
    "    \n",
    "    def display_info(self):\n",
    "        print(f\"Car: {self.brand}, Model: {self.model}\")\n",
    "\n",
    "# Creating objects (instances) of the Car class\n",
    "car1 = Car(\"Toyota\", \"Camry\")\n",
    "car2 = Car(\"Honda\", \"Civic\")\n",
    "\n",
    "# Accessing attributes and methods of objects\n",
    "car1.display_info()  # Output: Car: Toyota, Model: Camry\n",
    "car2.display_info()"
   ]
  },
  {
   "cell_type": "code",
   "execution_count": null,
   "id": "5adab19c-82c0-4f63-8a51-05da63a3d6c8",
   "metadata": {},
   "outputs": [],
   "source": [
    "Q2. Name the four pillars of OOPs.\n",
    "The four pillars of Object-Oriented Programming are:\n",
    "\n",
    "Encapsulation\n",
    "Abstraction\n",
    "Inheritance\n",
    "Polymorphism"
   ]
  },
  {
   "cell_type": "code",
   "execution_count": null,
   "id": "b8efb101-2f61-4b19-8408-56108510977e",
   "metadata": {},
   "outputs": [],
   "source": [
    "Q3. Explain why the __init__() function is used. Give a suitable example.\n",
    "The __init__() function is a constructor method in Python that gets called automatically when an object of a class is created. It is used to initialize the object's state by assigning values to its attributes."
   ]
  },
  {
   "cell_type": "code",
   "execution_count": null,
   "id": "ec466220-c10b-421d-99e5-b5d2bd7613ae",
   "metadata": {},
   "outputs": [],
   "source": [
    "Q4. Why self is used in OOPs?"
   ]
  },
  {
   "cell_type": "code",
   "execution_count": null,
   "id": "df0ae7d7-6a58-488b-a102-f6300477c7d8",
   "metadata": {},
   "outputs": [],
   "source": [
    "self is a reference to the current instance of a class. It is used to access variables and methods of the current object within the class definition. It helps differentiate between instance variables and local variables."
   ]
  },
  {
   "cell_type": "code",
   "execution_count": null,
   "id": "a79bc239-5ba0-4cfc-bffe-e83506003318",
   "metadata": {},
   "outputs": [],
   "source": []
  },
  {
   "cell_type": "code",
   "execution_count": null,
   "id": "61ea68e1-3bc0-4ad3-adbd-fd3244e02ac9",
   "metadata": {},
   "outputs": [],
   "source": []
  },
  {
   "cell_type": "code",
   "execution_count": null,
   "id": "9158b4d6-ec51-4160-bce0-5aed1467fbe8",
   "metadata": {},
   "outputs": [],
   "source": []
  },
  {
   "cell_type": "code",
   "execution_count": null,
   "id": "45e1ed02-ffb8-4992-93b0-1a98c12f3270",
   "metadata": {},
   "outputs": [],
   "source": []
  },
  {
   "cell_type": "code",
   "execution_count": null,
   "id": "82bc8457-c836-4a51-b0a8-d73b7f8e6846",
   "metadata": {},
   "outputs": [],
   "source": []
  },
  {
   "cell_type": "code",
   "execution_count": null,
   "id": "01a2d2f7-c6a6-49e5-a4d8-47137142653c",
   "metadata": {},
   "outputs": [],
   "source": []
  },
  {
   "cell_type": "code",
   "execution_count": null,
   "id": "7ae9809b-86cf-47b9-b7ee-4f7d878a69b6",
   "metadata": {},
   "outputs": [],
   "source": []
  }
 ],
 "metadata": {
  "kernelspec": {
   "display_name": "Python 3 (ipykernel)",
   "language": "python",
   "name": "python3"
  },
  "language_info": {
   "codemirror_mode": {
    "name": "ipython",
    "version": 3
   },
   "file_extension": ".py",
   "mimetype": "text/x-python",
   "name": "python",
   "nbconvert_exporter": "python",
   "pygments_lexer": "ipython3",
   "version": "3.11.5"
  }
 },
 "nbformat": 4,
 "nbformat_minor": 5
}
