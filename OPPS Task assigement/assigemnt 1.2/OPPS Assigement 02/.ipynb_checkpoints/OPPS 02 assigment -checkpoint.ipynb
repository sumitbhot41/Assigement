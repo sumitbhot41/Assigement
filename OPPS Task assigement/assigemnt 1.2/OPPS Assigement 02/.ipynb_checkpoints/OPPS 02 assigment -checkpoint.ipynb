{
 "cells": [
  {
   "cell_type": "code",
   "execution_count": null,
   "id": "3e98a8ac-9b74-4f8f-8df0-049735a5381a",
   "metadata": {},
   "outputs": [],
   "source": [
    " What is Abstraction in OOPs? Explain with an example."
   ]
  },
  {
   "cell_type": "code",
   "execution_count": null,
   "id": "6e036cbc-f105-4e9e-849f-ca5362e94bbc",
   "metadata": {},
   "outputs": [],
   "source": [
    "Abstraction is the concept of hiding the implementation details and showing only the necessary features of an object to the outside world. It focuses on what an object does rather than how it does it. In other words, abstraction allows us to represent complex real-world objects in a simplified manner."
   ]
  },
  {
   "cell_type": "code",
   "execution_count": 2,
   "id": "57ebcf30-24e4-4ae2-bbc9-e49bc0699962",
   "metadata": {},
   "outputs": [
    {
     "name": "stdout",
     "output_type": "stream",
     "text": [
      "Draw a circle\n",
      "Draw a rectangle\n"
     ]
    }
   ],
   "source": [
    "class Shape:\n",
    "    def draw(self):\n",
    "        pass\n",
    "\n",
    "class Circle(Shape):\n",
    "    def draw(self):\n",
    "        print(\"Draw a circle\")\n",
    "\n",
    "class Rectangle(Shape):\n",
    "    def draw(self):\n",
    "        print(\"Draw a rectangle\")\n",
    "\n",
    "circle = Circle()\n",
    "circle.draw()  # Output: Draw a circle\n",
    "\n",
    "rectangle = Rectangle()\n",
    "rectangle.draw()"
   ]
  },
  {
   "cell_type": "raw",
   "id": "3839f8fc-0783-43e4-83e0-fa235d7f00db",
   "metadata": {},
   "source": [
    "Q2. Differentiate between Abstraction and Encapsulation. Explain with an example."
   ]
  },
  {
   "cell_type": "code",
   "execution_count": null,
   "id": "158333ca-d7f2-464c-a2af-b2c531899922",
   "metadata": {},
   "outputs": [],
   "source": [
    "Abstraction is about hiding unnecessary details and showing only the essential features of an object, while Encapsulation is about wrapping the data (attributes) and methods (behavior) into a single unit (class), preventing direct access to the data from outside the class."
   ]
  },
  {
   "cell_type": "code",
   "execution_count": 4,
   "id": "3a5b97ad-9d24-4e0c-af53-4c2fb0b5f1aa",
   "metadata": {},
   "outputs": [
    {
     "name": "stdout",
     "output_type": "stream",
     "text": [
      "Car: Toyota, Model: Camry\n"
     ]
    }
   ],
   "source": [
    "class Animal:\n",
    "    def make_sound(self):\n",
    "        pass\n",
    "\n",
    "class Dog(Animal):\n",
    "    def make_sound(self):\n",
    "        print(\"Bark\")\n",
    "\n",
    "# Encapsulation\n",
    "class Car:\n",
    "    def __init__(self, brand, model):\n",
    "        self.brand = brand  # Encapsulated attribute\n",
    "        self.model = model  # Encapsulated attribute\n",
    "\n",
    "    def display_info(self):\n",
    "        print(f\"Car: {self.brand}, Model: {self.model}\")  # Encapsulated method\n",
    "\n",
    "car = Car(\"Toyota\", \"Camry\")\n",
    "car.display_info()  # Output: Car: Toyota, Model: Camry"
   ]
  },
  {
   "cell_type": "code",
   "execution_count": null,
   "id": "1387e558-9765-4c15-89cb-fcd5ac3b58da",
   "metadata": {},
   "outputs": [],
   "source": [
    "Q3. What is abc module in Python? Why is it used?"
   ]
  },
  {
   "cell_type": "raw",
   "id": "54029f58-cf2f-49d3-bdc5-80d683a71463",
   "metadata": {},
   "source": [
    "The abc module in Python stands for \"Abstract Base Classes.\" It provides the infrastructure for defining abstract base classes in Python. Abstract base classes are classes that contain one or more abstract methods, which are methods declared but not implemented. These classes are meant to be subclassed, and their abstract methods must be overridden by the subclasses."
   ]
  },
  {
   "cell_type": "raw",
   "id": "0a724eeb-8f05-4ace-bf5c-f7447b9bbe30",
   "metadata": {},
   "source": [
    "Q4. How can we achieve data abstraction?\n",
    "\n",
    "Data abstraction can be achieved in Python by using abstract classes and abstract methods. Abstract classes are defined using the abc module, and abstract methods are declared using the @abstractmethod decorator. Subclasses of abstract classes must implement all the abstract methods, providing their own implementations."
   ]
  },
  {
   "cell_type": "raw",
   "id": "560cefc8-6dc1-423b-81cb-b62c257b6faf",
   "metadata": {},
   "source": [
    "Q5. Can we create an instance of an abstract class? Explain your answer.\n",
    "\n",
    "No, we cannot create an instance of an abstract class in Python. Attempting to instantiate an abstract class will result in an error. Abstract classes are meant to be subclassed, and their abstract methods must be overridden by the subclasses. They serve as templates for other classes to inherit from and provide concrete implementations for the abstract methods.\n",
    "These explanations should provide a clear understanding of abstraction, encapsulation, the abc module, and data abstraction in Python."
   ]
  },
  {
   "cell_type": "code",
   "execution_count": null,
   "id": "0e0e4b41-138e-450f-ad02-a81827b28c56",
   "metadata": {},
   "outputs": [],
   "source": []
  }
 ],
 "metadata": {
  "kernelspec": {
   "display_name": "Python 3 (ipykernel)",
   "language": "python",
   "name": "python3"
  },
  "language_info": {
   "codemirror_mode": {
    "name": "ipython",
    "version": 3
   },
   "file_extension": ".py",
   "mimetype": "text/x-python",
   "name": "python",
   "nbconvert_exporter": "python",
   "pygments_lexer": "ipython3",
   "version": "3.11.5"
  }
 },
 "nbformat": 4,
 "nbformat_minor": 5
}
