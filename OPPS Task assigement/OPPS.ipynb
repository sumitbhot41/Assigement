{
 "cells": [
  {
   "cell_type": "code",
   "execution_count": null,
   "id": "93f8b102-7035-4e65-94ee-a1e19a127540",
   "metadata": {},
   "outputs": [],
   "source": [
    "Q1. Create a vehicle class with an init method having instance variables as name_of_vehicle, max_speed and average_of_vehicle."
   ]
  },
  {
   "cell_type": "code",
   "execution_count": 1,
   "id": "9e04861e-da50-4b01-9567-f232c17ed7ee",
   "metadata": {},
   "outputs": [],
   "source": [
    "class Vehicle:\n",
    "    def __init__(self, name_of_vehicle, max_speed, average_of_vehicle):\n",
    "        self.name_of_vehicle = name_of_vehicle\n",
    "        self.max_speed = max_speed\n",
    "        self.average_of_vehicle = average_of_vehicle"
   ]
  },
  {
   "cell_type": "code",
   "execution_count": null,
   "id": "e5b4ddc3-472e-48fa-a589-6a76a6f56410",
   "metadata": {},
   "outputs": [],
   "source": [
    "Q2. Create a child class car from the vehicle class created in Que 1, which will inherit the vehicle class. Create a method named seating_capacity which takes capacity as an argument and returns the name of the vehicle and its seating capacity."
   ]
  },
  {
   "cell_type": "code",
   "execution_count": 2,
   "id": "653be2fe-a1f8-4250-8044-5ea74a553f00",
   "metadata": {},
   "outputs": [],
   "source": [
    "class Car(Vehicle):\n",
    "    def seating_capacity(self, capacity):\n",
    "        return f\"{self.name_of_vehicle} has a seating capacity of {capacity} people.\""
   ]
  },
  {
   "cell_type": "code",
   "execution_count": null,
   "id": "1a8a4869-ccb5-4a91-9042-c3fe2250749b",
   "metadata": {},
   "outputs": [],
   "source": [
    "Q3. Multiple inheritance occurs when a class is derived from more than one base class. It allows a class to inherit attributes and methods from multiple parent classes. Here's a Python code demonstrating multiple inheritance:"
   ]
  },
  {
   "cell_type": "code",
   "execution_count": 3,
   "id": "3cfecd49-fa7b-4b87-bf53-98a57cdf11df",
   "metadata": {},
   "outputs": [
    {
     "name": "stdout",
     "output_type": "stream",
     "text": [
      "Base1 method\n",
      "Base2 method\n",
      "MultiDerived method\n"
     ]
    }
   ],
   "source": [
    "class Base1:\n",
    "    def display_base1(self):\n",
    "        print(\"Base1 method\")\n",
    "\n",
    "class Base2:\n",
    "    def display_base2(self):\n",
    "        print(\"Base2 method\")\n",
    "\n",
    "class MultiDerived(Base1, Base2):\n",
    "    def display_multi(self):\n",
    "        print(\"MultiDerived method\")\n",
    "\n",
    "obj = MultiDerived()\n",
    "obj.display_base1()\n",
    "obj.display_base2()\n",
    "obj.display_multi()"
   ]
  },
  {
   "cell_type": "raw",
   "id": "d93f7705-e74a-46b1-bf11-879c0572ca81",
   "metadata": {},
   "source": [
    "Q4. Getter and setter methods are used to access and modify private attributes of a class respectively. Here's a class demonstrating getter and setter methods:"
   ]
  },
  {
   "cell_type": "code",
   "execution_count": 5,
   "id": "8fad2b91-bb2a-4d24-b3f6-dc97f3c17acf",
   "metadata": {},
   "outputs": [
    {
     "name": "stdout",
     "output_type": "stream",
     "text": [
      "10\n"
     ]
    }
   ],
   "source": [
    "class MyClass:\n",
    "    def __init__(self):\n",
    "        self._value = None\n",
    "\n",
    "    def get_value(self):\n",
    "        return self._value\n",
    "\n",
    "    def set_value(self, value):\n",
    "        self._value = value\n",
    "\n",
    "obj = MyClass()\n",
    "obj.set_value(10)\n",
    "print(obj.get_value())  # Output will be 10"
   ]
  },
  {
   "cell_type": "code",
   "execution_count": null,
   "id": "011338e1-3371-4345-8bae-f8285edd74c0",
   "metadata": {},
   "outputs": [],
   "source": [
    "Q5. Method overriding in Python occurs when a subclass provides a specific implementation of a method that is already provided by its parent class. Here's a Python code demonstrating method overriding"
   ]
  },
  {
   "cell_type": "code",
   "execution_count": 6,
   "id": "151ceadd-30b9-4de2-87d6-3cbae10c59ee",
   "metadata": {},
   "outputs": [
    {
     "name": "stdout",
     "output_type": "stream",
     "text": [
      "Child method\n"
     ]
    }
   ],
   "source": [
    "class Parent:\n",
    "    def show(self):\n",
    "        print(\"Parent method\")\n",
    "\n",
    "class Child(Parent):\n",
    "    def show(self):\n",
    "        print(\"Child method\")\n",
    "\n",
    "child_obj = Child()\n",
    "child_obj.show()  # Output will be \"Child method\""
   ]
  },
  {
   "cell_type": "code",
   "execution_count": null,
   "id": "f63e4ab6-0903-462a-9828-6cf3f75fcd79",
   "metadata": {},
   "outputs": [],
   "source": []
  },
  {
   "cell_type": "code",
   "execution_count": null,
   "id": "7b001f0a-0e8e-43cf-94ea-31fd31473bdf",
   "metadata": {},
   "outputs": [],
   "source": []
  },
  {
   "cell_type": "code",
   "execution_count": null,
   "id": "5381df92-7185-4257-852a-53ac9390f17e",
   "metadata": {},
   "outputs": [],
   "source": []
  },
  {
   "cell_type": "code",
   "execution_count": null,
   "id": "3049e591-a374-4ec0-87b4-75420a3c4646",
   "metadata": {},
   "outputs": [],
   "source": []
  },
  {
   "cell_type": "code",
   "execution_count": null,
   "id": "3e6119d6-6607-49f7-aecc-e5e6e6fadd0e",
   "metadata": {},
   "outputs": [],
   "source": []
  },
  {
   "cell_type": "code",
   "execution_count": null,
   "id": "85d2dd9d-bdb6-43a4-9704-fddbc00ac96f",
   "metadata": {},
   "outputs": [],
   "source": []
  }
 ],
 "metadata": {
  "kernelspec": {
   "display_name": "Python 3 (ipykernel)",
   "language": "python",
   "name": "python3"
  },
  "language_info": {
   "codemirror_mode": {
    "name": "ipython",
    "version": 3
   },
   "file_extension": ".py",
   "mimetype": "text/x-python",
   "name": "python",
   "nbconvert_exporter": "python",
   "pygments_lexer": "ipython3",
   "version": "3.11.5"
  }
 },
 "nbformat": 4,
 "nbformat_minor": 5
}
