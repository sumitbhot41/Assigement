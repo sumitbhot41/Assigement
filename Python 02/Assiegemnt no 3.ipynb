{
 "cells": [
  {
   "cell_type": "raw",
   "id": "196fc7c7-4af5-4dd1-a4aa-5dd3ab4d0d4d",
   "metadata": {},
   "source": [
    "Which keyword is used to create a function? Create a function to return a list of odd numbers in the range of 1 to 25."
   ]
  },
  {
   "cell_type": "code",
   "execution_count": 1,
   "id": "97616aef-1602-4d49-91dc-84d46da8f8d0",
   "metadata": {},
   "outputs": [
    {
     "name": "stdout",
     "output_type": "stream",
     "text": [
      "[1, 3, 5, 7, 9, 11, 13, 15, 17, 19, 21, 23, 25]\n"
     ]
    }
   ],
   "source": [
    "odd_numbers = lambda: [num for num in range(1, 26) if num % 2 != 0]\n",
    "\n",
    "print(odd_numbers())"
   ]
  },
  {
   "cell_type": "raw",
   "id": "2f784f33-2031-4140-9574-c59831a97ea4",
   "metadata": {},
   "source": [
    "Q2. **Why *args and **kwargs are used in some functions? Create a function each for *args and kwargs to demonstrate their use."
   ]
  },
  {
   "cell_type": "code",
   "execution_count": 4,
   "id": "b75acd86-8d01-47dc-87cc-aacb06fe322f",
   "metadata": {},
   "outputs": [
    {
     "name": "stdout",
     "output_type": "stream",
     "text": [
      "1\n",
      "2\n",
      "3\n",
      "name : John\n",
      "age : 30\n"
     ]
    }
   ],
   "source": [
    "def args_example(*args):\n",
    "    for arg in args:\n",
    "        print(arg)\n",
    "\n",
    "def kwargs_example(**kwargs):\n",
    "    for key, value in kwargs.items():\n",
    "        print(key, \":\", value)\n",
    "\n",
    "args_example(1, 2, 3)\n",
    "kwargs_example(name=\"John\", age=30)\n",
    "        "
   ]
  },
  {
   "cell_type": "code",
   "execution_count": null,
   "id": "bcf573bf-4644-4e1b-8fef-9e3a6f0312c8",
   "metadata": {},
   "outputs": [],
   "source": [
    "*args and **kwargs are used in functions when you want to accept any number of positional or keyword arguments, respectively. Here are examples of functions using *args and **kwargs"
   ]
  },
  {
   "cell_type": "code",
   "execution_count": null,
   "id": "b7d754bf-c91c-4bda-addd-1c923dd03046",
   "metadata": {},
   "outputs": [],
   "source": [
    "Q3. What is an iterator in Python? Name the method used to initialize the iterator object and the method used for iteration. Use these methods to print the first five elements of the given list [2, 4, 6, 8, 10, 12, 14, 16, 18, 20]."
   ]
  },
  {
   "cell_type": "code",
   "execution_count": null,
   "id": "592d5cca-b612-438e-9779-a11740029c85",
   "metadata": {},
   "outputs": [],
   "source": [
    "n iterator in Python is an object that can be iterated upon, meaning you can traverse through all the values. The iter() method is used to initialize the iterator object, and the next() method is used for iteration. Here's how to print the first five elements of the given list:"
   ]
  },
  {
   "cell_type": "code",
   "execution_count": 5,
   "id": "bb46ddd9-55c1-4b69-b83c-ecfd13facc71",
   "metadata": {},
   "outputs": [
    {
     "name": "stdout",
     "output_type": "stream",
     "text": [
      "2\n",
      "4\n",
      "6\n",
      "8\n",
      "10\n"
     ]
    }
   ],
   "source": [
    "my_list = [2, 4, 6, 8, 10, 12, 14, 16, 18, 20]\n",
    "iterator = iter(my_list)\n",
    "for _ in range(5):\n",
    "    print(next(iterator))"
   ]
  },
  {
   "cell_type": "raw",
   "id": "cbf4003b-e80a-442e-a162-8172597c56f9",
   "metadata": {},
   "source": [
    " What is a generator function in Python? Why is the yield keyword used? Give an example of a generator function."
   ]
  },
  {
   "cell_type": "code",
   "execution_count": 7,
   "id": "fe973643-42f9-4b23-a6ed-4fb88b963748",
   "metadata": {},
   "outputs": [
    {
     "name": "stdout",
     "output_type": "stream",
     "text": [
      "0\n",
      "1\n",
      "2\n",
      "3\n",
      "4\n"
     ]
    }
   ],
   "source": [
    "def generate_numbers():\n",
    "    for i in range(5):\n",
    "        yield i\n",
    "\n",
    "for num in generate_numbers():\n",
    "    print(num)"
   ]
  },
  {
   "cell_type": "code",
   "execution_count": null,
   "id": "9710527e-6ad1-4bdd-8c7a-c331d16305de",
   "metadata": {},
   "outputs": [],
   "source": [
    "Q5. Create a generator function for prime numbers less than 1000. Use the next() method to print the first 20 prime numbers."
   ]
  },
  {
   "cell_type": "code",
   "execution_count": 8,
   "id": "d5dd93a4-aec9-48cb-93ec-f86cc2922179",
   "metadata": {},
   "outputs": [
    {
     "name": "stdout",
     "output_type": "stream",
     "text": [
      "2\n",
      "3\n",
      "5\n",
      "7\n",
      "11\n",
      "13\n",
      "17\n",
      "19\n",
      "23\n",
      "29\n",
      "31\n",
      "37\n",
      "41\n",
      "43\n",
      "47\n",
      "53\n",
      "59\n",
      "61\n",
      "67\n",
      "71\n"
     ]
    }
   ],
   "source": [
    "def is_prime(num):\n",
    "    if num <= 1:\n",
    "        return False\n",
    "    for i in range(2, int(num**0.5) + 1):\n",
    "        if num % i == 0:\n",
    "            return False\n",
    "    return True\n",
    "\n",
    "def prime_generator():\n",
    "    num = 2\n",
    "    count = 0\n",
    "    while count < 20:\n",
    "        if is_prime(num):\n",
    "            yield num\n",
    "            count += 1\n",
    "        num += 1\n",
    "\n",
    "prime_gen = prime_generator()\n",
    "for _ in range(20):\n",
    "    print(next(prime_gen))"
   ]
  },
  {
   "cell_type": "code",
   "execution_count": null,
   "id": "14e63b32-8120-446b-a0d3-53e8ba33ae3c",
   "metadata": {},
   "outputs": [],
   "source": [
    "Q6. Write a Python program to print the first 10 Fibonacci numbers using a while loop."
   ]
  },
  {
   "cell_type": "code",
   "execution_count": 10,
   "id": "1d0bb57c-be58-4f0e-8171-f14597903b1c",
   "metadata": {},
   "outputs": [
    {
     "name": "stdout",
     "output_type": "stream",
     "text": [
      "0 1 1 2 3 5 8 13 21 34 "
     ]
    }
   ],
   "source": [
    "n = 10\n",
    "a, b = 0, 1\n",
    "count = 0\n",
    "while count < n:\n",
    "    print(a, end=\" \")\n",
    "    a, b = b, a + b\n",
    "    count += 1"
   ]
  },
  {
   "cell_type": "code",
   "execution_count": 11,
   "id": "2e6b03f9-4174-4e92-a0fa-3a384610b02b",
   "metadata": {},
   "outputs": [
    {
     "name": "stdout",
     "output_type": "stream",
     "text": [
      "['p', 'w', 's', 'k', 'i', 'l', 'l', 's']\n"
     ]
    }
   ],
   "source": [
    "string = 'pwskills'\n",
    "output = [char for char in string]\n",
    "print(output)"
   ]
  },
  {
   "cell_type": "code",
   "execution_count": null,
   "id": "8d2b1c0c-ce1a-4a8c-9a0f-15e693a18d58",
   "metadata": {},
   "outputs": [],
   "source": []
  },
  {
   "cell_type": "code",
   "execution_count": null,
   "id": "f5b72116-b182-4b44-99d9-a644700c93c1",
   "metadata": {},
   "outputs": [],
   "source": [
    "Q8. Write a Python program to check whether a given number is Palindrome or not using a while loop."
   ]
  },
  {
   "cell_type": "code",
   "execution_count": 12,
   "id": "25896bbb-932f-4f0e-94d2-54943304486f",
   "metadata": {},
   "outputs": [
    {
     "name": "stdout",
     "output_type": "stream",
     "text": [
      "Palindrome\n"
     ]
    }
   ],
   "source": [
    "def is_palindrome(num):\n",
    "    temp = num\n",
    "    reverse = 0\n",
    "    while temp > 0:\n",
    "        digit = temp % 10\n",
    "        reverse = reverse * 10 + digit\n",
    "        temp //= 10\n",
    "    return num == reverse\n",
    "\n",
    "num = 12321  # Example number\n",
    "if is_palindrome(num):\n",
    "    print(\"Palindrome\")\n",
    "else:\n",
    "    print(\"Not Palindrome\")"
   ]
  },
  {
   "cell_type": "code",
   "execution_count": null,
   "id": "72813689-dfbc-4eef-814b-7c8c6d8aa961",
   "metadata": {},
   "outputs": [],
   "source": [
    "\n",
    "\n"
   ]
  },
  {
   "cell_type": "code",
   "execution_count": null,
   "id": "63b7fe76-f2c2-49a1-9872-5b14d3f62420",
   "metadata": {},
   "outputs": [],
   "source": []
  },
  {
   "cell_type": "code",
   "execution_count": null,
   "id": "6408dca8-0a59-4e20-ba7e-31c17343bfe5",
   "metadata": {},
   "outputs": [],
   "source": []
  },
  {
   "cell_type": "code",
   "execution_count": null,
   "id": "01845c2b-ab86-4991-b408-2b8246a18648",
   "metadata": {},
   "outputs": [],
   "source": []
  },
  {
   "cell_type": "code",
   "execution_count": null,
   "id": "f774273d-025b-4bfb-bc45-3e859938557f",
   "metadata": {},
   "outputs": [],
   "source": []
  },
  {
   "cell_type": "code",
   "execution_count": null,
   "id": "662b8c8f-4128-455b-853d-80468e840cf5",
   "metadata": {},
   "outputs": [],
   "source": []
  },
  {
   "cell_type": "code",
   "execution_count": null,
   "id": "3b8f360f-6a97-43ce-a193-22731fb5b5ee",
   "metadata": {},
   "outputs": [],
   "source": []
  },
  {
   "cell_type": "code",
   "execution_count": null,
   "id": "1b33dc29-d5f0-46f8-b887-72a4b9f3b5fc",
   "metadata": {},
   "outputs": [],
   "source": []
  },
  {
   "cell_type": "code",
   "execution_count": null,
   "id": "2e8a673e-3f95-4edd-b01f-2b232c2ec36c",
   "metadata": {},
   "outputs": [],
   "source": []
  }
 ],
 "metadata": {
  "kernelspec": {
   "display_name": "Python 3 (ipykernel)",
   "language": "python",
   "name": "python3"
  },
  "language_info": {
   "codemirror_mode": {
    "name": "ipython",
    "version": 3
   },
   "file_extension": ".py",
   "mimetype": "text/x-python",
   "name": "python",
   "nbconvert_exporter": "python",
   "pygments_lexer": "ipython3",
   "version": "3.11.5"
  }
 },
 "nbformat": 4,
 "nbformat_minor": 5
}
