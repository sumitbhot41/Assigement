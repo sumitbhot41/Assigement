{
 "cells": [
  {
   "cell_type": "raw",
   "id": "06541073-9098-4705-9c3b-77e9ccea3b02",
   "metadata": {},
   "source": [
    "Q1. What is MongoDB? Explain non-relational databases in short. In which scenarios is it preferred to use MongoDB over SQL databases?"
   ]
  },
  {
   "cell_type": "raw",
   "id": "04eb7497-185c-4dc3-84a0-a73ae311dc64",
   "metadata": {},
   "source": [
    "MongoDB is a popular, open-source NoSQL (non-relational) database management system. Unlike traditional SQL databases, which store data in tables and rows, MongoDB stores data in flexible, JSON-like documents with dynamic schemas, known as BSON."
   ]
  },
  {
   "cell_type": "code",
   "execution_count": null,
   "id": "5aae9b56-61cc-47dc-884e-c94bac4a75b3",
   "metadata": {},
   "outputs": [],
   "source": [
    "Q2 State and Explain the features of MongoDB."
   ]
  },
  {
   "cell_type": "raw",
   "id": "79a8b49d-17f0-475d-9302-a68d898780b0",
   "metadata": {},
   "source": [
    "Document-Oriented Storage: Data is stored in flexible, JSON-like documents, enabling faster data access and eliminating the need for complex joins.\n",
    "Dynamic Schema: Documents in MongoDB can have varying structures, allowing for easier evolution of data models.\n",
    "Scalability: MongoDB supports horizontal scalability through sharding, distributing data across multiple servers to handle large datasets and high traffic loads.\n",
    "High Availability: MongoDB offers built-in replication and failover support, ensuring data availability and reliability.\n",
    "Indexing: MongoDB supports various types of indexes, including compound indexes and geospatial indexes, to optimize query performance.\n",
    "Aggregation Framework: MongoDB provides a powerful aggregation framework for performing complex data processing operations, such as filtering, grouping, and joining.\n",
    "Full-text Search: MongoDB offers full-text search capabilities, enabling efficient searching of text data within documents.\n",
    "Security: MongoDB provides authentication, authorization, and encryption features to ensure data security and compliance.\n",
    "Schema Validation: MongoDB allows users to define schema validation rules to enforce data consistency and integrity.\n",
    "Geospatial Queries: MongoDB supports geospatial queries, making it suitable for location-based applications."
   ]
  },
  {
   "cell_type": "code",
   "execution_count": null,
   "id": "803b754e-533f-42c1-b260-31c8f56a6f81",
   "metadata": {},
   "outputs": [],
   "source": [
    "Q3. Write code to connect MongoDB to Python. Also, create a database and a collection in MongoDB."
   ]
  },
  {
   "cell_type": "code",
   "execution_count": null,
   "id": "0b25f503-2e99-4b88-9b65-f9f8374744cd",
   "metadata": {},
   "outputs": [],
   "source": []
  },
  {
   "cell_type": "code",
   "execution_count": null,
   "id": "0d728c60-ead0-416e-a6e7-8be663c60164",
   "metadata": {},
   "outputs": [],
   "source": [
    "# Connect to MongoDB\n",
    "client = pymongo.MongoClient(\"mongodb://localhost:27017/\")\n",
    "\n",
    "# Create or access a database\n",
    "mydb = client[\"mydatabase\"]\n",
    "\n",
    "# Create or access a collection\n",
    "mycol = mydb[\"customers\"]"
   ]
  },
  {
   "cell_type": "code",
   "execution_count": null,
   "id": "351c5284-6c30-4ae2-ae83-26f626bede9c",
   "metadata": {},
   "outputs": [],
   "source": [
    "mydict = { \"name\": \"John\", \"address\": \"Highway 37\" }\n",
    "x = mycol.insert_one(mydict)\n",
    "\n",
    "# Insert many records\n",
    "mylist = [\n",
    "  { \"name\": \"Amy\", \"address\": \"Apple st 652\"},\n",
    "  { \"name\": \"Hannah\", \"address\": \"Mountain 21\"},\n",
    "  { \"name\": \"Michael\", \"address\": \"Valley 345\"},\n",
    "  { \"name\": \"Sandy\", \"address\": \"Ocean blvd 2\"},\n",
    "  { \"name\": \"Betty\", \"address\": \"Green Grass 1\"},\n",
    "  { \"name\": \"Richard\", \"address\": \"Sky st 331\"},\n",
    "  { \"name\": \"Susan\", \"address\": \"One way 98\"},\n",
    "  { \"name\": \"Vicky\", \"address\": \"Yellow Garden 2\"},\n",
    "  { \"name\": \"Ben\", \"address\": \"Park Lane 38\"},\n",
    "  { \"name\": \"William\", \"address\": \"Central st 954\"},\n",
    "  { \"name\": \"Chuck\", \"address\": \"Main Road 989\"},\n",
    "  { \"name\": \"Viola\", \"address\": \"Sideway 1633\"}\n",
    "]\n",
    "x = mycol.insert_many(mylist)\n",
    "\n",
    "# Print inserted records\n",
    "print(\"Inserted record:\", x.inserted_id)\n",
    "print(\"Find one:\", mycol.find_one())\n",
    "print(\"Find all:\")\n",
    "for x in mycol.find():\n",
    "  print(x)"
   ]
  },
  {
   "cell_type": "code",
   "execution_count": null,
   "id": "d8ba941d-8dff-444a-8ac1-01fe3bc0eb63",
   "metadata": {},
   "outputs": [],
   "source": [
    "Q5 Explain how you can use the find() method to query the MongoDB database. Write a simple code to demonstrate this."
   ]
  },
  {
   "cell_type": "raw",
   "id": "2db8dd11-89cd-4347-aa82-7c7bfaf9b4cb",
   "metadata": {},
   "source": [
    "The find() method in MongoDB is used to query documents in a collection. It returns a cursor, which can be iterated to retrieve documents matching the query criteria."
   ]
  },
  {
   "cell_type": "code",
   "execution_count": null,
   "id": "f97a8aa3-4f88-451c-876d-be6be80f77b6",
   "metadata": {},
   "outputs": [],
   "source": []
  },
  {
   "cell_type": "code",
   "execution_count": null,
   "id": "a6aa5797-7c12-4da5-a5ab-dbb342eed9cb",
   "metadata": {},
   "outputs": [],
   "source": []
  },
  {
   "cell_type": "code",
   "execution_count": null,
   "id": "8f72528f-4b39-4a81-87fa-84ee3346af3f",
   "metadata": {},
   "outputs": [],
   "source": []
  },
  {
   "cell_type": "code",
   "execution_count": null,
   "id": "cfeb8838-fb18-4bcc-886c-af3029a8649b",
   "metadata": {},
   "outputs": [],
   "source": []
  },
  {
   "cell_type": "code",
   "execution_count": null,
   "id": "d3fa22b7-c6bc-498c-a236-1832c9002edd",
   "metadata": {},
   "outputs": [],
   "source": []
  }
 ],
 "metadata": {
  "kernelspec": {
   "display_name": "Python 3 (ipykernel)",
   "language": "python",
   "name": "python3"
  },
  "language_info": {
   "codemirror_mode": {
    "name": "ipython",
    "version": 3
   },
   "file_extension": ".py",
   "mimetype": "text/x-python",
   "name": "python",
   "nbconvert_exporter": "python",
   "pygments_lexer": "ipython3",
   "version": "3.11.5"
  }
 },
 "nbformat": 4,
 "nbformat_minor": 5
}
