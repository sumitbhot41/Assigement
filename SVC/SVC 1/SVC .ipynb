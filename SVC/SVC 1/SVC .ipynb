{
 "cells": [
  {
   "cell_type": "code",
   "execution_count": null,
   "id": "43fa41d3-8505-4c06-a294-867063856cac",
   "metadata": {},
   "outputs": [],
   "source": [
    "\n",
    "Q1. The mathematical formula for a linear Support Vector Machine (SVM) is given by:"
   ]
  },
  {
   "cell_type": "code",
   "execution_count": null,
   "id": "4c01db9f-aa54-48ef-a318-8bf794c8bd67",
   "metadata": {},
   "outputs": [],
   "source": [
    "f(x)=sign(w⋅x+b)\n",
    "�\n",
    "(\n",
    "�\n",
    ")\n",
    "f(x) is the decision function that determines the class of the input vector \n",
    "�\n",
    "x.\n",
    "�\n",
    "w is the weight vector.\n",
    "�\n",
    "x is the input feature vector.\n",
    "�\n",
    "b is the bias term."
   ]
  },
  {
   "cell_type": "raw",
   "id": "e45b9eed-e55b-49b4-b770-235b08818b3e",
   "metadata": {},
   "source": [
    "2. The objective function of a linear SVM is to maximize the margin between the hyperplane and the nearest data points (support vectors). This can be formulated as the minimization of the following objective function:"
   ]
  },
  {
   "cell_type": "code",
   "execution_count": null,
   "id": "1244863d-984d-41f0-9b9c-ee92656ab461",
   "metadata": {},
   "outputs": [],
   "source": [
    "min \n",
    "w,b\n",
    "​  \n",
    "2\n",
    "1\n",
    "\n",
    " ∣∣w∣∣ \n",
    "2\n",
    " \n",
    "\n",
    "subject to the constraints:\n",
    "\n",
    "�\n",
    "�\n",
    "(\n",
    "�\n",
    "⋅\n",
    "�\n",
    "�\n",
    "+\n",
    "�\n",
    ")\n",
    "≥\n",
    "1\n",
    "y \n",
    "i\n",
    "​\n",
    " (w⋅x \n",
    "i\n",
    "​\n",
    " +b)≥1\n",
    "\n",
    "where:\n",
    "\n",
    "�\n",
    "w is the weight vector.\n",
    "�\n",
    "b is the bias term.\n",
    "�\n",
    "�\n",
    "x \n",
    "i\n",
    "​\n",
    "  are the feature vectors.\n",
    "�\n",
    "�\n",
    "y \n",
    "i\n",
    "​\n",
    "  are the class labels."
   ]
  },
  {
   "cell_type": "raw",
   "id": "f6ebb05f-2fce-44dc-8234-ba50a8bb7604",
   "metadata": {},
   "source": [
    "Q3. The kernel trick in SVM allows for the nonlinear transformation of the input features into a higher-dimensional space. It involves computing the inner products between the transformed feature vectors without explicitly computing the transformation. This is achieved by using a kernel function, such as the radial basis function (RBF) kernel or polynomial kerne"
   ]
  },
  {
   "cell_type": "raw",
   "id": "e6b4c693-255a-4d82-a29e-244fa4f9d77b",
   "metadata": {},
   "source": [
    "Q4. Support vectors are the data points that lie closest to the decision boundary (hyperplane). They play a crucial role in defining the decision boundary and margin in SVM. These points are the ones that have non-zero weights in the optimal solution and are typically the most informative points for determining the decision boundary.\n",
    "\n",
    "For example, consider a binary classification problem with two classes (positive and negative). The support vectors are the data points that belong to either class and are closest to the decision boundary. In the case of a linear SVM, these support vectors lie on or within the margin boundary."
   ]
  },
  {
   "cell_type": "code",
   "execution_count": null,
   "id": "28eff872-a882-4a4e-a57e-c5faa45f345c",
   "metadata": {},
   "outputs": [],
   "source": [
    "Q5. Here are the explanations and illustrations for Hyperplane, Marginal plane, Soft margin, and Hard margin in SVM"
   ]
  },
  {
   "cell_type": "raw",
   "id": "facc0f87-e982-485b-aaf0-3c68ca0cd1c3",
   "metadata": {},
   "source": [
    "Hyperplane: In SVM, a hyperplane is a decision boundary that separates classes in a high-dimensional space. For a binary classification problem, the hyperplane is a line in two dimensions, a plane in three dimensions, and a hyperplane in higher dimensions.\n",
    "\n",
    "Marginal Plane: The marginal plane is the boundary that defines the margin around the hyperplane. It is determined by the support vectors, which are the data points closest to the hyperplane. The distance between the hyperplane and the marginal plane is the margin.\n",
    "\n",
    "Soft Margin: In cases where the data is not linearly separable, a soft margin SVM allows for some misclassification of training examples. It introduces a penalty term for misclassified points, allowing for a more flexible decision boundary.\n",
    "\n",
    "Hard Margin: In contrast, a hard margin SVM requires that all training examples are correctly classified with no misclassification allowed. It works well when the data is linearly separable but may not be suitable for noisy or overlapping data"
   ]
  },
  {
   "cell_type": "code",
   "execution_count": null,
   "id": "e98b6501-b339-4e74-a50a-f2bdc9a15185",
   "metadata": {},
   "outputs": [],
   "source": [
    "Q6. Implementing SVM through Iris dataset:"
   ]
  },
  {
   "cell_type": "code",
   "execution_count": 1,
   "id": "76b5b97a-fe06-4bb8-ba7e-21a4bd007a0b",
   "metadata": {},
   "outputs": [],
   "source": [
    "from sklearn.datasets import load_iris\n",
    "from sklearn.model_selection import train_test_split\n",
    "from sklearn.svm import SVC\n",
    "from sklearn.metrics import accuracy_score\n",
    "import numpy as np\n",
    "import matplotlib.pyplot as plt"
   ]
  },
  {
   "cell_type": "code",
   "execution_count": 4,
   "id": "d858a152-edd4-47b3-8c3b-5e20ccac56c3",
   "metadata": {},
   "outputs": [
    {
     "ename": "ValueError",
     "evalue": "cannot reshape array of size 2700 into shape (30,30)",
     "output_type": "error",
     "traceback": [
      "\u001b[1;31m---------------------------------------------------------------------------\u001b[0m",
      "\u001b[1;31mValueError\u001b[0m                                Traceback (most recent call last)",
      "Cell \u001b[1;32mIn[4], line 19\u001b[0m\n\u001b[0;32m     17\u001b[0m YY, XX \u001b[38;5;241m=\u001b[39m np\u001b[38;5;241m.\u001b[39mmeshgrid(yy, xx)\n\u001b[0;32m     18\u001b[0m xy \u001b[38;5;241m=\u001b[39m np\u001b[38;5;241m.\u001b[39mvstack([XX\u001b[38;5;241m.\u001b[39mravel(), YY\u001b[38;5;241m.\u001b[39mravel(), np\u001b[38;5;241m.\u001b[39mzeros_like(XX\u001b[38;5;241m.\u001b[39mravel()), np\u001b[38;5;241m.\u001b[39mzeros_like(XX\u001b[38;5;241m.\u001b[39mravel())])\u001b[38;5;241m.\u001b[39mT  \u001b[38;5;66;03m# Ensure all four features are provided\u001b[39;00m\n\u001b[1;32m---> 19\u001b[0m Z \u001b[38;5;241m=\u001b[39m \u001b[43msvm_classifier\u001b[49m\u001b[38;5;241;43m.\u001b[39;49m\u001b[43mdecision_function\u001b[49m\u001b[43m(\u001b[49m\u001b[43mxy\u001b[49m\u001b[43m)\u001b[49m\u001b[38;5;241;43m.\u001b[39;49m\u001b[43mreshape\u001b[49m\u001b[43m(\u001b[49m\u001b[43mXX\u001b[49m\u001b[38;5;241;43m.\u001b[39;49m\u001b[43mshape\u001b[49m\u001b[43m[\u001b[49m\u001b[38;5;241;43m0\u001b[39;49m\u001b[43m]\u001b[49m\u001b[43m,\u001b[49m\u001b[43m \u001b[49m\u001b[43mXX\u001b[49m\u001b[38;5;241;43m.\u001b[39;49m\u001b[43mshape\u001b[49m\u001b[43m[\u001b[49m\u001b[38;5;241;43m1\u001b[39;49m\u001b[43m]\u001b[49m\u001b[43m)\u001b[49m\n\u001b[0;32m     21\u001b[0m \u001b[38;5;66;03m# Plot decision boundary and margins\u001b[39;00m\n\u001b[0;32m     22\u001b[0m ax\u001b[38;5;241m.\u001b[39mcontour(XX, YY, Z, colors\u001b[38;5;241m=\u001b[39m\u001b[38;5;124m'\u001b[39m\u001b[38;5;124mk\u001b[39m\u001b[38;5;124m'\u001b[39m, levels\u001b[38;5;241m=\u001b[39m[\u001b[38;5;241m-\u001b[39m\u001b[38;5;241m1\u001b[39m, \u001b[38;5;241m0\u001b[39m, \u001b[38;5;241m1\u001b[39m], alpha\u001b[38;5;241m=\u001b[39m\u001b[38;5;241m0.5\u001b[39m, linestyles\u001b[38;5;241m=\u001b[39m[\u001b[38;5;124m'\u001b[39m\u001b[38;5;124m--\u001b[39m\u001b[38;5;124m'\u001b[39m, \u001b[38;5;124m'\u001b[39m\u001b[38;5;124m-\u001b[39m\u001b[38;5;124m'\u001b[39m, \u001b[38;5;124m'\u001b[39m\u001b[38;5;124m--\u001b[39m\u001b[38;5;124m'\u001b[39m])\n",
      "\u001b[1;31mValueError\u001b[0m: cannot reshape array of size 2700 into shape (30,30)"
     ]
    },
    {
     "data": {
      "image/png": "[encoded data removed]",
      "text/plain": [
       "<Figure size 1000x600 with 1 Axes>"
      ]
     },
     "metadata": {},
     "output_type": "display_data"
    }
   ],
   "source": [
    "# Plotting decision boundaries using two features\n",
    "# Considering the first two features for visualization\n",
    "X_subset = X_train[:, :2]\n",
    "\n",
    "# Plotting decision boundaries\n",
    "plt.figure(figsize=(10, 6))\n",
    "plt.scatter(X_subset[:, 0], X_subset[:, 1], c=y_train, cmap=plt.cm.coolwarm, s=30)\n",
    "\n",
    "# Plot the decision function\n",
    "ax = plt.gca()\n",
    "xlim = ax.get_xlim()\n",
    "ylim = ax.get_ylim()\n",
    "\n",
    "# Creating grid to evaluate model\n",
    "xx = np.linspace(xlim[0], xlim[1], 30)\n",
    "yy = np.linspace(ylim[0], ylim[1], 30)\n",
    "YY, XX = np.meshgrid(yy, xx)\n",
    "xy = np.vstack([XX.ravel(), YY.ravel(), np.zeros_like(XX.ravel()), np.zeros_like(XX.ravel())]).T  # Ensure all four features are provided\n",
    "Z = svm_classifier.decision_function(xy).reshape(XX.shape[0], XX.shape[1])\n",
    "\n",
    "# Plot decision boundary and margins\n",
    "ax.contour(XX, YY, Z, colors='k', levels=[-1, 0, 1], alpha=0.5, linestyles=['--', '-', '--'])\n",
    "ax.scatter(svm_classifier.support_vectors_[:, 0], svm_classifier.support_vectors_[:, 1], s=100, linewidth=1, facecolors='none', edgecolors='k')\n",
    "plt.xlabel(iris.feature_names[0])\n",
    "plt.ylabel(iris.feature_names[1])\n",
    "plt.title('Decision boundaries of SVM classifier')\n",
    "plt.show()\n"
   ]
  },
  {
   "cell_type": "code",
   "execution_count": null,
   "id": "c733268d-dd99-4680-9d3b-77a39f22b2a0",
   "metadata": {},
   "outputs": [],
   "source": []
  },
  {
   "cell_type": "code",
   "execution_count": null,
   "id": "4413cd8c-9d82-4320-813c-03013534eb3f",
   "metadata": {},
   "outputs": [],
   "source": []
  },
  {
   "cell_type": "code",
   "execution_count": null,
   "id": "55fa05e7-9379-477e-bf1c-d3a9f08f1be7",
   "metadata": {},
   "outputs": [],
   "source": []
  },
  {
   "cell_type": "code",
   "execution_count": null,
   "id": "7a92dcff-5b1e-488d-bbc8-08e1ed48ff92",
   "metadata": {},
   "outputs": [],
   "source": []
  },
  {
   "cell_type": "code",
   "execution_count": null,
   "id": "659691fb-2b24-447b-80ea-b8b4fd52f55b",
   "metadata": {},
   "outputs": [],
   "source": []
  },
  {
   "cell_type": "code",
   "execution_count": null,
   "id": "49dbe8ba-93b2-45bc-89ac-8858b196535d",
   "metadata": {},
   "outputs": [],
   "source": []
  },
  {
   "cell_type": "code",
   "execution_count": null,
   "id": "155fba1b-5d6d-4319-b66c-e309c1dad866",
   "metadata": {},
   "outputs": [],
   "source": []
  }
 ],
 "metadata": {
  "kernelspec": {
   "display_name": "Python 3 (ipykernel)",
   "language": "python",
   "name": "python3"
  },
  "language_info": {
   "codemirror_mode": {
    "name": "ipython",
    "version": 3
   },
   "file_extension": ".py",
   "mimetype": "text/x-python",
   "name": "python",
   "nbconvert_exporter": "python",
   "pygments_lexer": "ipython3",
   "version": "3.11.5"
  }
 },
 "nbformat": 4,
 "nbformat_minor": 5
}
