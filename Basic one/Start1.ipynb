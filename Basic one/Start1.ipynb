{
 "cells": [
  {
   "cell_type": "code",
   "execution_count": null,
   "id": "f6e99e77-85a2-4e25-af53-dcea6ab47e54",
   "metadata": {},
   "outputs": [],
   "source": [
    "\n",
    "Q1. Creating variables of different data types:"
   ]
  },
  {
   "cell_type": "code",
   "execution_count": null,
   "id": "6c42d6cb-6e22-4d51-a2c9-5f16d5dee520",
   "metadata": {},
   "outputs": [],
   "source": [
    "string_var = \"Hello, World!\""
   ]
  },
  {
   "cell_type": "code",
   "execution_count": null,
   "id": "cfe85a88-66cc-49ef-9884-6fdfc3440eea",
   "metadata": {},
   "outputs": [],
   "source": [
    "list_var = [1, 2, 3, 4, 5]"
   ]
  },
  {
   "cell_type": "code",
   "execution_count": null,
   "id": "dc61caa4-7cb2-4980-b34a-7b78fc9bc3bd",
   "metadata": {},
   "outputs": [],
   "source": [
    "float_var = 3.14"
   ]
  },
  {
   "cell_type": "code",
   "execution_count": null,
   "id": "81351aca-ca75-43f6-b1e1-467304fde227",
   "metadata": {},
   "outputs": [],
   "source": [
    "tuple_var = (1, 2, 3, 4, 5)"
   ]
  },
  {
   "cell_type": "code",
   "execution_count": null,
   "id": "8b598a9a-880b-4602-a2aa-28e50222d0e5",
   "metadata": {},
   "outputs": [],
   "source": [
    "Data types of given variables:"
   ]
  },
  {
   "cell_type": "code",
   "execution_count": 1,
   "id": "e7d6a6d2-c47e-44bf-bd86-52ce01cac817",
   "metadata": {},
   "outputs": [],
   "source": [
    "# (i) var1\n",
    "# string\n",
    "# (ii) var2\n",
    "# string\n",
    "# (iii) var3\n",
    "# list\n",
    "# (iv) var4\n",
    "# float"
   ]
  },
  {
   "cell_type": "code",
   "execution_count": null,
   "id": "69830f2f-7edf-401c-a843-fcdf127506d2",
   "metadata": {},
   "outputs": [],
   "source": [
    "Explanation of operators:"
   ]
  },
  {
   "cell_type": "raw",
   "id": "437b64b0-1eb7-4422-9c96-ed474a3e0229",
   "metadata": {},
   "source": [
    "/: Division operator. It performs division between two operands.\n",
    "%: Modulus operator. It returns the remainder of the division operation.\n",
    "//: Floor division operator. It performs division and returns the integer part of the quotient.\n",
    "**: Exponentiation operator. It raises the first operand to the power of the second operand."
   ]
  },
  {
   "cell_type": "raw",
   "id": "d5a895cd-a32b-4294-8ebf-84b187296ed2",
   "metadata": {},
   "source": [
    " Creating a list and printing elements along with their data types:"
   ]
  },
  {
   "cell_type": "code",
   "execution_count": 5,
   "id": "1e87f382-1093-40f8-b3cb-4813e1e9fbaa",
   "metadata": {},
   "outputs": [
    {
     "name": "stdout",
     "output_type": "stream",
     "text": [
      "1 <class 'int'>\n",
      "3.14 <class 'float'>\n",
      "Hello <class 'str'>\n",
      "True <class 'bool'>\n",
      "[5, 6] <class 'list'>\n",
      "(7, 8) <class 'tuple'>\n",
      "{'a': 1, 'b': 2} <class 'dict'>\n",
      "None <class 'NoneType'>\n",
      "(9+2j) <class 'complex'>\n",
      "b'bytes' <class 'bytes'>\n"
     ]
    }
   ],
   "source": [
    "mixed_list = [1, 3.14, \"Hello\", True, [5, 6], (7, 8), {'a': 1, 'b': 2}, None, 9+2j, b\"bytes\"]\n",
    "for item in mixed_list:\n",
    "    print(item, type(item))"
   ]
  },
  {
   "cell_type": "code",
   "execution_count": null,
   "id": "d013c581-687f-473d-a1a8-ee9048d4d9dd",
   "metadata": {},
   "outputs": [],
   "source": [
    "Verifying if number A is divisible by number B using a while loop\n"
   ]
  },
  {
   "cell_type": "code",
   "execution_count": 6,
   "id": "bebe4550-8b0b-46b5-8e5f-0f69701c3884",
   "metadata": {},
   "outputs": [
    {
     "name": "stdout",
     "output_type": "stream",
     "text": [
      "A is divisible by B 1 times.\n"
     ]
    }
   ],
   "source": [
    "A = 30\n",
    "B = 6\n",
    "count = 0\n",
    "while A % B == 0:\n",
    "    count += 1\n",
    "    A /= B\n",
    "print(\"A is divisible by B\", count, \"times.\")"
   ]
  },
  {
   "cell_type": "code",
   "execution_count": null,
   "id": "03e0b55c-1684-415e-a43a-6afb562e84e3",
   "metadata": {},
   "outputs": [],
   "source": []
  },
  {
   "cell_type": "code",
   "execution_count": null,
   "id": "7574d02f-c96e-4e05-a4d5-24ece64c7bd3",
   "metadata": {},
   "outputs": [],
   "source": []
  },
  {
   "cell_type": "code",
   "execution_count": null,
   "id": "ae21af7b-d9cc-45b6-9018-f030754a1ed9",
   "metadata": {},
   "outputs": [],
   "source": []
  }
 ],
 "metadata": {
  "kernelspec": {
   "display_name": "Python 3 (ipykernel)",
   "language": "python",
   "name": "python3"
  },
  "language_info": {
   "codemirror_mode": {
    "name": "ipython",
    "version": 3
   },
   "file_extension": ".py",
   "mimetype": "text/x-python",
   "name": "python",
   "nbconvert_exporter": "python",
   "pygments_lexer": "ipython3",
   "version": "3.11.5"
  }
 },
 "nbformat": 4,
 "nbformat_minor": 5
}
