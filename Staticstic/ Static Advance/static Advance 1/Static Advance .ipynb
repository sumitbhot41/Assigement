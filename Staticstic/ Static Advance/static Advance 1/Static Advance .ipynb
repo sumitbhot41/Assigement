{
 "cells": [
  {
   "cell_type": "code",
   "execution_count": null,
   "id": "d13372a2-1f65-41bf-be4b-ec8f14e09c1d",
   "metadata": {},
   "outputs": [],
   "source": [
    "Q1. What is the Probability density function?\n",
    "Q2. What are the types of Probability distribution?\n",
    "Q3. Write a Python function to calculate the probability density function of a normal distribution with\n",
    "given mean and standard deviation at a given point.\n",
    "Q4. What are the properties of Binomial distribution? Give two examples of events where binomial\n",
    "distribution can be applied.\n",
    "Q5. Generate a random sample of size 1000 from a binomial distribution with probability of success 0.4\n",
    "and plot a histogram of the results using matplotlib.\n",
    "Q6. Write a Python function to calculate the cumulative distribution function of a Poisson distribution\n",
    "with given mean at a given point.\n",
    "Q7. How Binomial distribution different from Poisson distribution?\n",
    "Q8. Generate a random sample of size 1000 from a Poisson distribution with mean 5 and calculate the\n",
    "sample mean and variance.\n",
    "Q9. How mean and variance are related in Binomial distribution and Poisson distribution?\n",
    "Q10. In normal distribution with respect to mean position, where does the least frequent data appear?"
   ]
  },
  {
   "cell_type": "raw",
   "id": "95192eeb-1055-42ab-ab3e-964eb9ab83a3",
   "metadata": {},
   "source": [
    "Q1. What is the Probability Density Function (PDF)?\n",
    "The Probability Density Function (PDF) is a function that describes the likelihood of a continuous random variable taking on a particular value. It provides the probability of the variable falling within a specific range of values. In mathematical terms, the PDF represents the relative likelihood of the random variable having a particular value."
   ]
  },
  {
   "cell_type": "code",
   "execution_count": null,
   "id": "02478aa6-e6c0-4b40-8ec8-9e2b828ca0f4",
   "metadata": {},
   "outputs": [],
   "source": [
    "Q2. Types of Probability Distributions:\n",
    "There are various types of probability distributions, including:\n",
    "\n",
    "Normal Distribution\n",
    "Binomial Distribution\n",
    "Poisson Distribution\n",
    "Exponential Distribution\n",
    "Uniform Distribution\n",
    "Chi-square Distribution\n",
    "Student's t-Distribution\n",
    "F Distribution\n",
    "Log-Normal Distribution\n",
    "Gamma Distribution\n",
    "Beta Distribution"
   ]
  },
  {
   "cell_type": "code",
   "execution_count": null,
   "id": "42e4326e-a931-43b4-a2a6-352599e4e819",
   "metadata": {},
   "outputs": [],
   "source": [
    "Python function to calculate the Probability Density Function (PDF) of a Normal Distribution:"
   ]
  },
  {
   "cell_type": "code",
   "execution_count": 1,
   "id": "7d062146-923e-49e2-9a02-9a78cee3e573",
   "metadata": {},
   "outputs": [
    {
     "name": "stdout",
     "output_type": "stream",
     "text": [
      "PDF at x = 2.5 : 0.2515888184619955\n"
     ]
    }
   ],
   "source": [
    "import numpy as np\n",
    "import scipy.stats\n",
    "\n",
    "def calculate_normal_pdf(x, mean, std_dev):\n",
    "    pdf = scipy.stats.norm.pdf(x, mean, std_dev)\n",
    "    return pdf\n",
    "\n",
    "# Example usage:\n",
    "x_value = 2.5\n",
    "mean_value = 3\n",
    "std_dev_value = 1.5\n",
    "pdf_value = calculate_normal_pdf(x_value, mean_value, std_dev_value)\n",
    "print(\"PDF at x =\", x_value, \":\", pdf_value)"
   ]
  },
  {
   "cell_type": "code",
   "execution_count": null,
   "id": "a8c01259-2a92-416d-b5a0-bf39794a2eb1",
   "metadata": {},
   "outputs": [],
   "source": [
    "Q4. Properties of Binomial Distribution:\n",
    "\n",
    "The Binomial distribution is characterized by two parameters: the number of trials (n) and the probability of success (p).\n",
    "It represents the number of successes in a fixed number of independent Bernoulli trials.\n",
    "Properties:\n",
    "Each trial has two possible outcomes: success or failure.\n",
    "Trials are independent of each other.\n",
    "Probability of success (p) remains constant for each trial.\n",
    "Examples of events where Binomial distribution can be applied:\n",
    "\n",
    "Tossing a coin multiple times and counting the number of heads.\n",
    "Testing the success rate of a new drug on a group of patients, where success is defined as the recovery of the patient."
   ]
  },
  {
   "cell_type": "code",
   "execution_count": null,
   "id": "aff12b0e-47f2-40b9-8750-b44eff7614c1",
   "metadata": {},
   "outputs": [],
   "source": [
    "Q5. Generate a random sample from a Binomial distribution and plot a histogram:"
   ]
  },
  {
   "cell_type": "code",
   "execution_count": 2,
   "id": "e632c803-f5f6-4215-ac2c-3baeb327d179",
   "metadata": {},
   "outputs": [
    {
     "data": {
      "image/png": "[encoded data removed]",
      "text/plain": [
       "<Figure size 640x480 with 1 Axes>"
      ]
     },
     "metadata": {},
     "output_type": "display_data"
    }
   ],
   "source": [
    "import numpy as np\n",
    "import matplotlib.pyplot as plt\n",
    "\n",
    "# Generate random sample from Binomial distribution\n",
    "sample = np.random.binomial(n=1000, p=0.4, size=1000)\n",
    "\n",
    "# Plot histogram\n",
    "plt.hist(sample, bins=30, density=True, alpha=0.7, color='blue', edgecolor='black')\n",
    "plt.title('Histogram of Binomial Distribution')\n",
    "plt.xlabel('Number of Successes')\n",
    "plt.ylabel('Probability Density')\n",
    "plt.show()"
   ]
  },
  {
   "cell_type": "code",
   "execution_count": null,
   "id": "776ccb92-2627-409b-a4a4-354e27eddf56",
   "metadata": {},
   "outputs": [],
   "source": [
    "6. Python function to calculate the Cumulative Distribution Function (CDF) of a Poisson Distribution:"
   ]
  },
  {
   "cell_type": "code",
   "execution_count": 3,
   "id": "f50794d8-1ebe-47bd-aa01-339164fc506e",
   "metadata": {},
   "outputs": [
    {
     "name": "stdout",
     "output_type": "stream",
     "text": [
      "CDF at x = 3 : 0.2650259152973615\n"
     ]
    }
   ],
   "source": [
    "import numpy as np\n",
    "import scipy.stats\n",
    "\n",
    "def calculate_poisson_cdf(x, mean):\n",
    "    cdf = scipy.stats.poisson.cdf(x, mean)\n",
    "    return cdf\n",
    "\n",
    "# Example usage:\n",
    "x_value = 3\n",
    "mean_value = 5\n",
    "cdf_value = calculate_poisson_cdf(x_value, mean_value)\n",
    "print(\"CDF at x =\", x_value, \":\", cdf_value)"
   ]
  },
  {
   "cell_type": "code",
   "execution_count": null,
   "id": "9137e873-9721-4fe7-944c-331b5de2bddb",
   "metadata": {},
   "outputs": [],
   "source": [
    "Q7. Difference between Binomial and Poisson Distributions:\n",
    "\n"
   ]
  },
  {
   "cell_type": "code",
   "execution_count": null,
   "id": "2b0e4735-a52a-48fd-a74f-af4cf9dfd1b2",
   "metadata": {},
   "outputs": [],
   "source": [
    "Binomial Distribution: Represents the number of successes in a fixed number of independent Bernoulli trials.\n",
    "Poisson Distribution: Represents the number of events occurring in a fixed interval of time or space, given a known average rate of occurrence."
   ]
  },
  {
   "cell_type": "code",
   "execution_count": null,
   "id": "5d2d06c0-811d-486d-975e-8fb1450fae55",
   "metadata": {},
   "outputs": [],
   "source": [
    "Q8. Generate a random sample from a Poisson distribution and calculate sample mean and variance:"
   ]
  },
  {
   "cell_type": "code",
   "execution_count": 4,
   "id": "e8a4216f-db64-4c46-b920-7fdb8cecdb78",
   "metadata": {},
   "outputs": [
    {
     "name": "stdout",
     "output_type": "stream",
     "text": [
      "Sample Mean: 4.97\n",
      "Sample Variance: 5.173100000000001\n"
     ]
    }
   ],
   "source": [
    "import numpy as np\n",
    "\n",
    "# Generate random sample from Poisson distribution\n",
    "sample_poisson = np.random.poisson(lam=5, size=1000)\n",
    "\n",
    "# Calculate sample mean and variance\n",
    "sample_mean = np.mean(sample_poisson)\n",
    "sample_variance = np.var(sample_poisson)\n",
    "\n",
    "print(\"Sample Mean:\", sample_mean)\n",
    "print(\"Sample Variance:\", sample_variance)"
   ]
  },
  {
   "cell_type": "code",
   "execution_count": null,
   "id": "654bb487-1b93-4e53-8a93-1fdd17ef4320",
   "metadata": {},
   "outputs": [],
   "source": [
    "Q9. Relationship between mean and variance in Binomial and Poisson Distributions:\n",
    "\n",
    "Binomial Distribution: Mean (\n",
    "�\n",
    "μ) = \n",
    "�\n",
    "×\n",
    "�\n",
    "n×p, Variance (\n",
    "�\n",
    "2\n",
    "σ \n",
    "2\n",
    " ) = \n",
    "�\n",
    "×\n",
    "�\n",
    "×\n",
    "(\n",
    "1\n",
    "−\n",
    "�\n",
    ")\n",
    "n×p×(1−p)\n",
    "Poisson Distribution: Mean (\n",
    "�\n",
    "μ) = Variance (\n",
    "�\n",
    "2\n",
    "σ \n",
    "2\n",
    " ) = \n",
    "�\n",
    "λ, where \n",
    "�\n",
    "λ is the rate parameter.\n",
    "In both distributions, the mean and variance are equal."
   ]
  },
  {
   "cell_type": "code",
   "execution_count": null,
   "id": "9a6a9b83-5c38-4849-9587-e5c5f52d44f2",
   "metadata": {},
   "outputs": [],
   "source": [
    "10. Least frequent data in Normal Distribution with respect to mean position:\n",
    "In a Normal Distribution, the least frequent data appears at the tails of the distribution, farthest away from the mean."
   ]
  }
 ],
 "metadata": {
  "kernelspec": {
   "display_name": "Python 3 (ipykernel)",
   "language": "python",
   "name": "python3"
  },
  "language_info": {
   "codemirror_mode": {
    "name": "ipython",
    "version": 3
   },
   "file_extension": ".py",
   "mimetype": "text/x-python",
   "name": "python",
   "nbconvert_exporter": "python",
   "pygments_lexer": "ipython3",
   "version": "3.11.5"
  }
 },
 "nbformat": 4,
 "nbformat_minor": 5
}
