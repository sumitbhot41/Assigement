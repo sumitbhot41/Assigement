{
 "cells": [
  {
   "cell_type": "raw",
   "id": "313c8b68-5448-4d26-ac69-38c39e1c627b",
   "metadata": {},
   "source": [
    "\n",
    "Q1: Probability Mass Function (PMF) and Probability Density Function (PDF):\n",
    "\n",
    "Probability Mass Function (PMF): PMF is a function that gives the probability that a discrete random variable is equal to a specific value. It is defined for discrete random variables.\n",
    "Probability Density Function (PDF): PDF is a function that describes the probability density at each possible value of a continuous random variable. It represents the relative likelihood of the variable taking on a particular value within a range.\n",
    "Example:\n",
    "PMF Example: Consider rolling a fair six-sided die. The PMF of getting each face (1, 2, 3, 4, 5, 6) is \n",
    "1\n",
    "6\n",
    "6\n",
    "1\n",
    "​\n",
    " .\n",
    "PDF Example: Consider the height of adult males. The PDF of height values between 5 feet and 6 feet might show a peak around the average height with a bell-shaped curve."
   ]
  },
  {
   "cell_type": "raw",
   "id": "60bb8928-4fef-4c91-97bb-2112bbf35715",
   "metadata": {},
   "source": [
    " Cumulative Density Function (CDF):\n",
    "\n",
    "CDF is a function that gives the probability that a random variable takes on a value less than or equal to a specific value. It is the cumulative sum of probabilities up to a certain point.\n",
    "CDF is used to determine the probability of observing a value less than or equal to a given point.\n",
    "Example:\n",
    "Consider rolling a fair six-sided die. The CDF would show the cumulative probability of rolling a number less than or equal to each face (1, 2, 3, 4, 5, 6)."
   ]
  },
  {
   "cell_type": "raw",
   "id": "f1c234f9-3588-4e95-b60f-079a8cfc7012",
   "metadata": {},
   "source": [
    "Q3: Examples of situations where normal distribution might be used:\n",
    "\n",
    "Heights of people in a population.\n",
    "IQ scores of a population.\n",
    "Errors in measurements.\n",
    "Test scores of students in a large class.\n",
    "The parameters of the normal distribution (mean and standard deviation) determine the location and spread of the distribution. A higher mean shifts the distribution to the right, while a larger standard deviation spreads out the distribution."
   ]
  },
  {
   "cell_type": "code",
   "execution_count": null,
   "id": "1a5d97c9-2660-44c9-a37f-f6ad075c3fe2",
   "metadata": {},
   "outputs": [],
   "source": []
  },
  {
   "cell_type": "raw",
   "id": "550ba0d3-9261-4c5b-a04f-8d23a547ff3c",
   "metadata": {},
   "source": [
    "4: Importance of Normal Distribution:\n",
    "\n",
    "The Normal distribution is fundamental in statistics and probability theory.\n",
    "Many natural phenomena and human characteristics follow a normal distribution.\n",
    "It simplifies complex situations and provides a basis for inferential statistics.\n",
    "Examples:\n",
    "Height distribution in a population.\n",
    "IQ scores of a population.\n",
    "Distribution of errors in measurements."
   ]
  },
  {
   "cell_type": "raw",
   "id": "d8016684-d2ab-4fe7-9047-a3105238e047",
   "metadata": {},
   "source": [
    "5: Bernoulli Distribution:\n",
    "\n",
    "Bernoulli Distribution represents the probability of success or failure in a single trial of a binary experiment.\n",
    "Example: Tossing a coin (success = heads, failure = tails).\n",
    "Difference between Bernoulli Distribution and Binomial Distribution:\n",
    "Bernoulli Distribution has only one trial, whereas Binomial Distribution has multiple independent trials."
   ]
  },
  {
   "cell_type": "raw",
   "id": "ea4bb210-001d-449d-95c7-3bbd4dda88ec",
   "metadata": {},
   "source": [
    "6: Probability calculation for a normally distributed dataset:\n",
    "\n",
    "Using the z-score formula: \n",
    "�\n",
    "=\n",
    "�\n",
    "−\n",
    "�\n",
    "�\n",
    "z= \n",
    "σ\n",
    "x−μ\n",
    "​\n",
    " \n",
    "�\n",
    "=\n",
    "60\n",
    "−\n",
    "50\n",
    "10\n",
    "=\n",
    "1\n",
    "z= \n",
    "10\n",
    "60−50\n",
    "​\n",
    " =1\n",
    "Look up the z-score in the standard normal distribution table to find the probability corresponding to a z-score of 1.\n",
    "The probability of a randomly selected observation being greater than 60 is the area under the curve to the right of the z-score of 1."
   ]
  },
  {
   "cell_type": "code",
   "execution_count": null,
   "id": "9dd9999c-9739-490f-b940-3469e91f001c",
   "metadata": {},
   "outputs": [],
   "source": [
    "7: Uniform Distribution:\n",
    "\n",
    "Uniform Distribution is a probability distribution where every possible outcome is equally likely.\n",
    "Example: Rolling a fair six-sided die, where each face has an equal probability of \n",
    "1\n",
    "6\n",
    "6\n",
    "1\n",
    "​\n",
    " .\n",
    "In a uniform distribution, the PDF is a horizontal line, indicating constant probability density across the range"
   ]
  },
  {
   "cell_type": "code",
   "execution_count": null,
   "id": "96a22c8d-3db1-4dd6-8b16-d4b4b0f76832",
   "metadata": {},
   "outputs": [],
   "source": [
    "8: Z-score:\n",
    "\n",
    "Z-score measures the number of standard deviations a data point is from the mean of a dataset.\n",
    "It is calculated as \n",
    "�\n",
    "=\n",
    "�\n",
    "−\n",
    "�\n",
    "�\n",
    "z= \n",
    "σ\n",
    "x−μ\n",
    "​\n",
    " , where \n",
    "�\n",
    "x is the data point, \n",
    "�\n",
    "μ is the mean, and \n",
    "�\n",
    "σ is the standard deviation.\n",
    "Importance: It allows for standardizing and comparing data across different distributions"
   ]
  },
  {
   "cell_type": "code",
   "execution_count": null,
   "id": "2089c713-115d-432b-90f4-892eb956028f",
   "metadata": {},
   "outputs": [],
   "source": [
    "8: Z-score:\n",
    "\n",
    "Z-score measures the number of standard deviations a data point is from the mean of a dataset.\n",
    "It is calculated as \n",
    "�\n",
    "=\n",
    "�\n",
    "−\n",
    "�\n",
    "�\n",
    "z= \n",
    "σ\n",
    "x−μ\n",
    "​\n",
    " , where \n",
    "�\n",
    "x is the data point, \n",
    "�\n",
    "μ is the mean, and \n",
    "�\n",
    "σ is the standard deviation.\n",
    "Importance: It allows for standardizing and comparing data across different distributions"
   ]
  },
  {
   "cell_type": "code",
   "execution_count": null,
   "id": "1224c9e6-e173-4e92-ab52-5b9fcfe046fb",
   "metadata": {},
   "outputs": [],
   "source": [
    "9: Central Limit Theorem (CLT):\n",
    "\n",
    "CLT states that the distribution of the sample means of large samples from any population will be approximately normally distributed, regardless of the shape of the original population distribution.\n",
    "Significance: It forms the basis of inferential statistics, allowing for the use of normal distribution assumptions in hypothesis testing and confidence interval estimation."
   ]
  },
  {
   "cell_type": "code",
   "execution_count": null,
   "id": "76d7a675-109c-4c18-8c4d-e6133a8745b7",
   "metadata": {},
   "outputs": [],
   "source": [
    "10: Assumptions of the Central Limit Theorem:\n",
    "\n",
    "The samples are independent.\n",
    "The population distribution has a finite mean and standard deviation.\n",
    "The sample size is sufficiently large (usually n ≥ 30 for a reasonably symmetric population)."
   ]
  },
  {
   "cell_type": "code",
   "execution_count": null,
   "id": "759b3316-7e29-4c8a-826f-f6edf41ad878",
   "metadata": {},
   "outputs": [],
   "source": []
  },
  {
   "cell_type": "code",
   "execution_count": null,
   "id": "8aa845c8-8e78-4353-837f-3b6466b2bdfe",
   "metadata": {},
   "outputs": [],
   "source": []
  },
  {
   "cell_type": "code",
   "execution_count": null,
   "id": "5f280b10-a2c1-4521-a257-9340a7395231",
   "metadata": {},
   "outputs": [],
   "source": []
  },
  {
   "cell_type": "code",
   "execution_count": null,
   "id": "c31d04f4-d4f4-4234-8506-a41e1205aaca",
   "metadata": {},
   "outputs": [],
   "source": []
  },
  {
   "cell_type": "code",
   "execution_count": null,
   "id": "f4279860-21fd-4a61-a8fb-4b4bdf6d609e",
   "metadata": {},
   "outputs": [],
   "source": []
  },
  {
   "cell_type": "code",
   "execution_count": null,
   "id": "573fc0c9-3f17-4f65-9c0f-00a7e499bb9e",
   "metadata": {},
   "outputs": [],
   "source": []
  },
  {
   "cell_type": "code",
   "execution_count": null,
   "id": "f4c7d28e-db89-4e31-9a22-7c44cba6b24e",
   "metadata": {},
   "outputs": [],
   "source": []
  },
  {
   "cell_type": "code",
   "execution_count": null,
   "id": "50fcfec8-9c85-4277-bf49-c5eb9ad7590c",
   "metadata": {},
   "outputs": [],
   "source": []
  }
 ],
 "metadata": {
  "kernelspec": {
   "display_name": "Python 3 (ipykernel)",
   "language": "python",
   "name": "python3"
  },
  "language_info": {
   "codemirror_mode": {
    "name": "ipython",
    "version": 3
   },
   "file_extension": ".py",
   "mimetype": "text/x-python",
   "name": "python",
   "nbconvert_exporter": "python",
   "pygments_lexer": "ipython3",
   "version": "3.11.5"
  }
 },
 "nbformat": 4,
 "nbformat_minor": 5
}
