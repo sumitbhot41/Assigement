{
 "cells": [
  {
   "cell_type": "raw",
   "id": "70e4d734-4239-4102-9418-cb5037058ad8",
   "metadata": {},
   "source": [
    "\n",
    "\n",
    "**Q2. You have built an SVM regression model and are trying to decide between using MSE or R-squared as your evaluation metric. Which metric would be more appropriate if your goal is to predict the actual price of a house as accurately as possible?**\n",
    "\n",
    "When the goal is to predict the actual price of a house as accurately as possible, Mean Squared Error (MSE) would be the more appropriate evaluation metric. MSE measures the average squared difference between the predicted and actual prices, providing a direct measure of the prediction accuracy. Lower MSE indicates better predictive performance, making it suitable for evaluating the accuracy of house price predictions.\n",
    "\n",
    "**Q3. You have a dataset with a significant number of outliers and are trying to select an appropriate regression metric to use with your SVM model. Which metric would be the most appropriate in this scenario?**\n",
    "\n",
    "In scenarios with a significant number of outliers, Mean Absolute Error (MAE) would be the most appropriate regression metric to use with your SVM model. MAE is less sensitive to outliers compared to MSE, as it measures the average absolute difference between the predicted and actual values. This makes MAE more robust in the presence of outliers, providing a more accurate assessment of the model's performance.\n",
    "\n",
    "**Q4. You have built an SVM regression model using a polynomial kernel and are trying to select the best metric to evaluate its performance. You have calculated both MSE and RMSE and found that both values are very close. Which metric should you choose to use in this case?**\n",
    "\n",
    "In this case, it is preferable to choose Root Mean Squared Error (RMSE) as the evaluation metric. RMSE is preferred when dealing with polynomial regression models because it provides a measure of the average magnitude of the errors in the same units as the target variable (i.e., house prices), making it easier to interpret the performance of the model. Since MSE and RMSE are very close, RMSE would be the more interpretable choice.\n",
    "\n",
    "**Q5. You are comparing the performance of different SVM regression models using different kernels (linear, polynomial, and RBF) and are trying to select the best evaluation metric. Which metric would be most appropriate if your goal is to measure how well the model explains the variance in the target variable?**\n",
    "\n",
    "If the goal is to measure how well the model explains the variance in the target variable, R-squared (coefficient of determination) would be the most appropriate evaluation metric. R-squared measures the proportion of variance in the target variable that is explained by the model. A higher R-squared value indicates a better fit of the model to the data, making it suitable for comparing the performance of different SVM regression models with different kernels."
   ]
  },
  {
   "cell_type": "code",
   "execution_count": null,
   "id": "c6f597b1-5c8d-4ac4-bc3d-5d2e0e52f333",
   "metadata": {},
   "outputs": [],
   "source": []
  },
  {
   "cell_type": "code",
   "execution_count": 14,
   "id": "b6d60051-39d3-46c2-9077-1b490437f777",
   "metadata": {},
   "outputs": [
    {
     "name": "stdout",
     "output_type": "stream",
     "text": [
      "Collecting gdown\n",
      "  Obtaining dependency information for gdown from https://files.pythonhosted.org/packages/cb/56/f4845ed78723a4eb8eb22bcfcb46e1157a462c78c0a5ed318c68c98f9a79/gdown-5.1.0-py3-none-any.whl.metadata\n",
      "  Downloading gdown-5.1.0-py3-none-any.whl.metadata (5.7 kB)\n",
      "Requirement already satisfied: beautifulsoup4 in c:\\users\\sumit bhot\\appdata\\local\\programs\\python\\python311\\lib\\site-packages (from gdown) (4.12.2)\n",
      "Collecting filelock (from gdown)\n",
      "  Obtaining dependency information for filelock from https://files.pythonhosted.org/packages/81/54/84d42a0bee35edba99dee7b59a8d4970eccdd44b99fe728ed912106fc781/filelock-3.13.1-py3-none-any.whl.metadata\n",
      "  Downloading filelock-3.13.1-py3-none-any.whl.metadata (2.8 kB)\n",
      "Requirement already satisfied: requests[socks] in c:\\users\\sumit bhot\\appdata\\local\\programs\\python\\python311\\lib\\site-packages (from gdown) (2.31.0)\n",
      "Collecting tqdm (from gdown)\n",
      "  Obtaining dependency information for tqdm from https://files.pythonhosted.org/packages/2a/14/e75e52d521442e2fcc9f1df3c5e456aead034203d4797867980de558ab34/tqdm-4.66.2-py3-none-any.whl.metadata\n",
      "  Downloading tqdm-4.66.2-py3-none-any.whl.metadata (57 kB)\n",
      "     ---------------------------------------- 0.0/57.6 kB ? eta -:--:--\n",
      "     ---------------------------------------- 0.0/57.6 kB ? eta -:--:--\n",
      "     ------- -------------------------------- 10.2/57.6 kB ? eta -:--:--\n",
      "     --------------------------------- ---- 51.2/57.6 kB 525.1 kB/s eta 0:00:01\n",
      "     -------------------------------------- 57.6/57.6 kB 509.1 kB/s eta 0:00:00\n",
      "Requirement already satisfied: soupsieve>1.2 in c:\\users\\sumit bhot\\appdata\\local\\programs\\python\\python311\\lib\\site-packages (from beautifulsoup4->gdown) (2.5)\n",
      "Requirement already satisfied: charset-normalizer<4,>=2 in c:\\users\\sumit bhot\\appdata\\local\\programs\\python\\python311\\lib\\site-packages (from requests[socks]->gdown) (3.3.2)\n",
      "Requirement already satisfied: idna<4,>=2.5 in c:\\users\\sumit bhot\\appdata\\local\\programs\\python\\python311\\lib\\site-packages (from requests[socks]->gdown) (3.6)\n",
      "Requirement already satisfied: urllib3<3,>=1.21.1 in c:\\users\\sumit bhot\\appdata\\local\\programs\\python\\python311\\lib\\site-packages (from requests[socks]->gdown) (2.1.0)\n",
      "Requirement already satisfied: certifi>=2017.4.17 in c:\\users\\sumit bhot\\appdata\\local\\programs\\python\\python311\\lib\\site-packages (from requests[socks]->gdown) (2023.11.17)\n",
      "Collecting PySocks!=1.5.7,>=1.5.6 (from requests[socks]->gdown)\n",
      "  Obtaining dependency information for PySocks!=1.5.7,>=1.5.6 from https://files.pythonhosted.org/packages/8d/59/b4572118e098ac8e46e399a1dd0f2d85403ce8bbaad9ec79373ed6badaf9/PySocks-1.7.1-py3-none-any.whl.metadata\n",
      "  Downloading PySocks-1.7.1-py3-none-any.whl.metadata (13 kB)\n",
      "Requirement already satisfied: colorama in c:\\users\\sumit bhot\\appdata\\local\\programs\\python\\python311\\lib\\site-packages (from tqdm->gdown) (0.4.6)\n",
      "Downloading gdown-5.1.0-py3-none-any.whl (17 kB)\n",
      "Downloading filelock-3.13.1-py3-none-any.whl (11 kB)\n",
      "Downloading tqdm-4.66.2-py3-none-any.whl (78 kB)\n",
      "   ---------------------------------------- 0.0/78.3 kB ? eta -:--:--\n",
      "   ------------------------------- -------- 61.4/78.3 kB 3.2 MB/s eta 0:00:01\n",
      "   ---------------------------------------- 78.3/78.3 kB 1.1 MB/s eta 0:00:00\n",
      "Downloading PySocks-1.7.1-py3-none-any.whl (16 kB)\n",
      "Installing collected packages: tqdm, PySocks, filelock, gdown\n",
      "Successfully installed PySocks-1.7.1 filelock-3.13.1 gdown-5.1.0 tqdm-4.66.2\n"
     ]
    },
    {
     "name": "stderr",
     "output_type": "stream",
     "text": [
      "\n",
      "[notice] A new release of pip is available: 23.2.1 -> 24.0\n",
      "[notice] To update, run: C:\\Users\\sumit bhot\\AppData\\Local\\Programs\\Python\\Python311\\python.exe -m pip install --upgrade pip\n"
     ]
    }
   ],
   "source": [
    "!pip install gdown"
   ]
  },
  {
   "cell_type": "code",
   "execution_count": 16,
   "id": "89fbe406-1186-4d5a-a321-a5761e47757b",
   "metadata": {},
   "outputs": [],
   "source": []
  },
  {
   "cell_type": "code",
   "execution_count": null,
   "id": "6c06b19f-2f8d-4db8-811c-809259dfd7ef",
   "metadata": {},
   "outputs": [],
   "source": []
  }
 ],
 "metadata": {
  "kernelspec": {
   "display_name": "Python 3 (ipykernel)",
   "language": "python",
   "name": "python3"
  },
  "language_info": {
   "codemirror_mode": {
    "name": "ipython",
    "version": 3
   },
   "file_extension": ".py",
   "mimetype": "text/x-python",
   "name": "python",
   "nbconvert_exporter": "python",
   "pygments_lexer": "ipython3",
   "version": "3.11.5"
  }
 },
 "nbformat": 4,
 "nbformat_minor": 5
}
