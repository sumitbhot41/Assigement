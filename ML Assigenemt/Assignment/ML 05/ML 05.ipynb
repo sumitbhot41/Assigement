{
 "cells": [
  {
   "cell_type": "raw",
   "id": "08211fe5-ef6c-4673-9f86-98330d72b920",
   "metadata": {},
   "source": [
    "Q1. Pearson correlation coefficient measures the strength and direction of the linear relationship between two continuous variables. Given the amount of time students spend studying for an exam and their final exam scores, let's calculate the Pearson correlation coefficient and interpret the result."
   ]
  },
  {
   "cell_type": "raw",
   "id": "931d649f-3b94-42de-bd7e-d1b2fb3660e3",
   "metadata": {},
   "source": [
    "1. Pearson correlation coefficient between the amount of time students spend studying for an exam and their final exam scores:\n",
    "\n",
    "Suppose the data collected for 10 students is as follows:\n",
    "Time Studying (hours)\tFinal Exam Score\n",
    "2\t70\n",
    "3\t75\n",
    "4\t80\n",
    "5\t85\n",
    "6\t90\n",
    "7\t95\n",
    "8\t100\n",
    "9\t105\n",
    "10\t110\n",
    "11\t115"
   ]
  },
  {
   "cell_type": "raw",
   "id": "fa79acc1-fc26-456a-8623-0c961e071f17",
   "metadata": {},
   "source": [
    "import numpy as np\n",
    "\n",
    "# Data\n",
    "time_studying = np.array([2, 3, 4, 5, 6, 7, 8, 9, 10, 11])\n",
    "final_scores = np.array([70, 75, 80, 85, 90, 95, 100, 105, 110, 115])\n",
    "\n",
    "# Calculate Pearson correlation coefficient\n",
    "pearson_corr_coef = np.corrcoef(time_studying, final_scores)[0, 1]\n",
    "\n",
    "print(\"Pearson correlation coefficient:\", pearson_corr_coef)"
   ]
  },
  {
   "cell_type": "code",
   "execution_count": null,
   "id": "aa0295f0-45e0-40a4-8ffd-5f821acb1272",
   "metadata": {},
   "outputs": [],
   "source": [
    "Q2. Spearman's rank correlation between the amount of sleep individuals get each night and their overall job satisfaction level:\n",
    "\n",
    "Suppose the data collected for 10 individuals is as follows:"
   ]
  },
  {
   "cell_type": "code",
   "execution_count": null,
   "id": "4cf45caf-77d1-4b57-82f8-2d1a912ec1a9",
   "metadata": {},
   "outputs": [],
   "source": [
    "Amount of Sleep (hours)\tJob Satisfaction Level\n",
    "7\t6\n",
    "6\t5\n",
    "8\t8\n",
    "5\t3\n",
    "7\t7\n",
    "9\t9\n",
    "6\t4\n",
    "8\t8\n",
    "5\t3\n",
    "7\t6"
   ]
  },
  {
   "cell_type": "code",
   "execution_count": 2,
   "id": "6603d2b8-45cc-4ac1-b9d3-f33b1532711c",
   "metadata": {},
   "outputs": [
    {
     "name": "stdout",
     "output_type": "stream",
     "text": [
      "Spearman's rank correlation coefficient: 0.9875771574795098\n"
     ]
    }
   ],
   "source": [
    "import scipy.stats\n",
    "import numpy as np\n",
    "# Data\n",
    "amount_of_sleep = np.array([7, 6, 8, 5, 7, 9, 6, 8, 5, 7])\n",
    "job_satisfaction = np.array([6, 5, 8, 3, 7, 9, 4, 8, 3, 6])\n",
    "\n",
    "# Calculate Spearman's rank correlation coefficient\n",
    "spearman_corr_coef = scipy.stats.spearmanr(amount_of_sleep, job_satisfaction).correlation\n",
    "\n",
    "print(\"Spearman's rank correlation coefficient:\", spearman_corr_coef)"
   ]
  },
  {
   "cell_type": "raw",
   "id": "faf3cba3-061c-401c-b5d2-0a53bf6e0f1c",
   "metadata": {},
   "source": [
    "Q3. Relationship between the number of hours of exercise per week and body mass index (BMI):\n",
    "\n",
    "Suppose you have collected data on both variables for 50 participants.\n",
    "For demonstration purposes, let's generate some random data for the number of hours of exercise per week and BMI:"
   ]
  },
  {
   "cell_type": "code",
   "execution_count": 4,
   "id": "5765e7b0-d921-4927-9311-7c0ecc5779d5",
   "metadata": {},
   "outputs": [
    {
     "name": "stdout",
     "output_type": "stream",
     "text": [
      "Pearson correlation coefficient: 0.03650751096178137\n",
      "Spearman's rank correlation coefficient: 0.024562538764528918\n"
     ]
    }
   ],
   "source": [
    "import numpy as np\n",
    "\n",
    "# Generating random data for demonstration\n",
    "np.random.seed(0)\n",
    "hours_of_exercise = np.random.randint(1, 10, 50)  # Random hours of exercise per week\n",
    "bmi = np.random.uniform(18, 35, 50)  # Random BMI values\n",
    "\n",
    "# Calculate Pearson correlation coefficient\n",
    "pearson_corr_coef = np.corrcoef(hours_of_exercise, bmi)[0, 1]\n",
    "\n",
    "# Calculate Spearman's rank correlation coefficient\n",
    "spearman_corr_coef = scipy.stats.spearmanr(hours_of_exercise, bmi).correlation\n",
    "\n",
    "print(\"Pearson correlation coefficient:\", pearson_corr_coef)\n",
    "print(\"Spearman's rank correlation coefficient:\", spearman_corr_coef)\n"
   ]
  },
  {
   "cell_type": "code",
   "execution_count": null,
   "id": "31e0bf60-af07-4603-be12-ca60e972d575",
   "metadata": {},
   "outputs": [],
   "source": [
    "Q4. Relationship between the number of hours individuals spend watching television per day and their level of physical activity:"
   ]
  },
  {
   "cell_type": "code",
   "execution_count": null,
   "id": "377281c5-4f5c-424d-985b-720b4d12fb74",
   "metadata": {},
   "outputs": [],
   "source": [
    "Suppose the researcher collected data on both variables from a sample of 50 participants.\n",
    "For this scenario, let's assume we have actual data for the number of hours individuals spend watching television per day and their level of physical activity:"
   ]
  },
  {
   "cell_type": "code",
   "execution_count": null,
   "id": "b382122f-d84c-43a9-9185-c07548355e1d",
   "metadata": {},
   "outputs": [],
   "source": [
    "import numpy as np\n",
    "import scipy.stats\n",
    "\n",
    "# Assuming we have actual data\n",
    "hours_tv = np.array([2, 3, 1, 4, 2, 5, 3, 2, 1, 4, 3, 2, 5, 4, 1, 2, 3, 4, 2, 5, 3, 2, 1, 4, 3, \n",
    "                     2, 5, 4, 1, 2, 3, 4, 2, 5, 3, 2, 1, 4, 3, 2, 5, 4, 1, 2, 3, 4, 2, 5, 3])\n",
    "physical_activity = np.array([3, 2, 4, 1, 3, 2, 4, 1, 3, 2, 4, 1, 3, 2, 4, 1, 3, 2, 4, 1, 3, 2, 4, 1, \n",
    "                              3, 2, 4, 1, 3, 2, 4, 1, 3, 2, 4, 1, 3, 2, 4, 1, 3, 2, 4, 1, 3, 2, 4, 1])\n",
    "\n",
    "# Calculate Pearson correlation coefficient\n",
    "pearson_corr_coef_tv = np.corrcoef(hours_tv, physical_activity)[0, 1]\n",
    "\n",
    "print(\"Pearson correlation coefficient between hours of TV and physical activity:\", pearson_corr_coef_tv)\n"
   ]
  },
  {
   "cell_type": "raw",
   "id": "b8cc27b1-6388-457f-b7f2-86faf4e08c3f",
   "metadata": {},
   "source": [
    "Interpretation: The Pearson correlation coefficient measures the strength and direction of the linear relationship between the number of hours individuals spend watching television per day and their level of physical activity. A positive coefficient indicates a positive linear relationship, while a negative coefficient indicates a negative linear relationship. The coefficient value ranges from -1 to 1, where 1 indicates a perfect positive linear relationship, -1 indicates a perfect negative linear relationship, and 0 indicates no linear relationship."
   ]
  },
  {
   "cell_type": "code",
   "execution_count": null,
   "id": "c2c952ed-12ac-41b1-99bc-97a57eda6350",
   "metadata": {},
   "outputs": [],
   "source": [
    "Q6. A company is interested in examining the relationship between the number of sales calls made per day\n",
    "and the number of sales made per week. The company collected data on both variables from a sample of\n",
    "30 sales representatives. Calculate the Pearson correlation coefficient between these two variables."
   ]
  },
  {
   "cell_type": "code",
   "execution_count": 5,
   "id": "9ef6c868-b430-4c1c-88e7-a0f5e29ec1ea",
   "metadata": {},
   "outputs": [
    {
     "name": "stdout",
     "output_type": "stream",
     "text": [
      "Pearson correlation coefficient between sales calls per day and sales per week: 0.39475932154089566\n"
     ]
    }
   ],
   "source": [
    "import numpy as np\n",
    "\n",
    "# Assuming we have actual data for the number of sales calls made per day and the number of sales made per week\n",
    "sales_calls_per_day = np.array([20, 25, 22, 18, 30, 28, 15, 17, 23, 26, 21, 19, 24, 27, 16, 29, 31, 20, 25, 22, \n",
    "                                18, 30, 28, 15, 17, 23, 26, 21, 19, 24])\n",
    "sales_per_week = np.array([5, 6, 4, 7, 8, 6, 5, 6, 4, 7, 8, 6, 5, 6, 4, 7, 8, 6, 5, 6, 4, 7, 8, 6, 5, 6, 4, \n",
    "                            7, 8, 6])\n",
    "\n",
    "# Calculate Pearson correlation coefficient\n",
    "pearson_corr_coef_sales = np.corrcoef(sales_calls_per_day, sales_per_week)[0, 1]\n",
    "\n",
    "print(\"Pearson correlation coefficient between sales calls per day and sales per week:\", pearson_corr_coef_sales)\n"
   ]
  },
  {
   "cell_type": "code",
   "execution_count": null,
   "id": "82a89187-bea9-43f6-8423-92bfa9bcf2f5",
   "metadata": {},
   "outputs": [],
   "source": []
  },
  {
   "cell_type": "code",
   "execution_count": null,
   "id": "b42fa837-b9eb-4a9c-a3f8-3b8c137e7348",
   "metadata": {},
   "outputs": [],
   "source": []
  },
  {
   "cell_type": "code",
   "execution_count": null,
   "id": "dd666604-1f4a-4bab-aa5e-5102755a6025",
   "metadata": {},
   "outputs": [],
   "source": []
  },
  {
   "cell_type": "code",
   "execution_count": null,
   "id": "4cfcd070-05ea-47d0-a999-31911e641607",
   "metadata": {},
   "outputs": [],
   "source": []
  },
  {
   "cell_type": "code",
   "execution_count": null,
   "id": "891fc31a-575c-4535-af86-d301f2b46d47",
   "metadata": {},
   "outputs": [],
   "source": []
  }
 ],
 "metadata": {
  "kernelspec": {
   "display_name": "Python 3 (ipykernel)",
   "language": "python",
   "name": "python3"
  },
  "language_info": {
   "codemirror_mode": {
    "name": "ipython",
    "version": 3
   },
   "file_extension": ".py",
   "mimetype": "text/x-python",
   "name": "python",
   "nbconvert_exporter": "python",
   "pygments_lexer": "ipython3",
   "version": "3.11.5"
  }
 },
 "nbformat": 4,
 "nbformat_minor": 5
}
