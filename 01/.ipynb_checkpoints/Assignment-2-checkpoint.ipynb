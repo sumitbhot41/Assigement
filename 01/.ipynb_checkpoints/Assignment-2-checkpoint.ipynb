{
 "cells": [
  {
   "cell_type": "code",
   "execution_count": null,
   "id": "833e3de3-e1b5-4abc-baf2-c2629cedc423",
   "metadata": {},
   "outputs": [],
   "source": []
  },
  {
   "cell_type": "code",
   "execution_count": null,
   "id": "d7e88314-d4f4-4877-ae59-4cc174344871",
   "metadata": {},
   "outputs": [],
   "source": [
    "Q1. How do you comment code in Python? What are the different types of comments?"
   ]
  },
  {
   "cell_type": "code",
   "execution_count": null,
   "id": "3c3b46ff-1f23-4de8-8d05-bb171c5c2f19",
   "metadata": {},
   "outputs": [],
   "source": [
    "Comments in Python are used to explain the code and make it more readable. There are two types of comments:\n",
    "Single-line comments: These start with a hash symbol (#) and extend to the end of the physical line.\n",
    "Multi-line comments: These are enclosed within triple quotes (''' or \"\"\") and can span multiple lines."
   ]
  },
  {
   "cell_type": "code",
   "execution_count": null,
   "id": "8e4c6517-6322-4852-8025-168629b61f10",
   "metadata": {},
   "outputs": [],
   "source": [
    "Q2 What are variables in Python? How do you declare and assign values to variables?"
   ]
  },
  {
   "cell_type": "code",
   "execution_count": null,
   "id": "8fd4e02d-d4e1-4699-8259-dedc8062b37d",
   "metadata": {},
   "outputs": [],
   "source": [
    "Variables are placeholders for storing data in computer memory. In Python, you declare variables by simply assigning a value to them using the equal (=) sign."
   ]
  },
  {
   "cell_type": "code",
   "execution_count": null,
   "id": "22c74558-3b83-4e51-b438-a16846d86d7f",
   "metadata": {},
   "outputs": [],
   "source": [
    "Q3 How do you convert one data type to another in Python?"
   ]
  },
  {
   "cell_type": "code",
   "execution_count": null,
   "id": "7e5006d8-ce72-4d2f-bf35-d76414a3ab4c",
   "metadata": {},
   "outputs": [],
   "source": [
    "we can convert data types in Python using type casting functions such as int(), float(), str(), list()"
   ]
  },
  {
   "cell_type": "code",
   "execution_count": null,
   "id": "0070e606-d42e-4882-9ba8-fc7b101a5bd9",
   "metadata": {},
   "outputs": [],
   "source": [
    "Q4. How do you write and execute a Python script from the command line?\n",
    "\n"
   ]
  },
  {
   "cell_type": "code",
   "execution_count": null,
   "id": "4a3c522c-0068-4a30-891c-183f1f62c60e",
   "metadata": {},
   "outputs": [],
   "source": [
    "You write a Python script using a text editor and save it with a .py extension. To execute the script from the command line, you navigate to the directory containing the script and type python script_name.py."
   ]
  },
  {
   "cell_type": "code",
   "execution_count": null,
   "id": "ae4a4b7f-ac9b-49e7-8e08-905f16599487",
   "metadata": {},
   "outputs": [],
   "source": [
    "Q5. Given a list my_list = [1, 2, 3, 4, 5], write the code to slice the list and obtain the sub-list [2, 3].\n",
    "\n"
   ]
  },
  {
   "cell_type": "code",
   "execution_count": null,
   "id": "76ddff90-67bd-4b0c-9405-6b91dd9326c1",
   "metadata": {},
   "outputs": [],
   "source": [
    "ans :my_list = [1, 2, 3, 4, 5]\n",
    "sub_list = my_list[1:3]"
   ]
  },
  {
   "cell_type": "code",
   "execution_count": null,
   "id": "5bb3a072-f62e-4801-8543-fa2b96bfd262",
   "metadata": {},
   "outputs": [],
   "source": [
    "Q6. What is a complex number in mathematics, and how is it represented in Python?"
   ]
  },
  {
   "cell_type": "code",
   "execution_count": null,
   "id": "28a9d375-f95b-4471-8383-68d64cb3a43e",
   "metadata": {},
   "outputs": [],
   "source": [
    "A complex number is a number that comprises a real part and an imaginary part. In Python, complex numbers are represented using the complex() function or by directly writing them with a j suffix."
   ]
  },
  {
   "cell_type": "code",
   "execution_count": null,
   "id": "2b25f77f-8179-46e0-9b7e-3baa4d478556",
   "metadata": {},
   "outputs": [],
   "source": [
    "code:z = complex(3, 4)  # 3 + 4j"
   ]
  },
  {
   "cell_type": "code",
   "execution_count": null,
   "id": "12d6025b-b43f-46af-ba6f-372e0bc7c4d7",
   "metadata": {},
   "outputs": [],
   "source": [
    "Q7. What is the correct way to declare a variable named age and assign the value 25 to it?"
   ]
  },
  {
   "cell_type": "code",
   "execution_count": null,
   "id": "0ddea563-6bb5-42fa-9654-53e20003564f",
   "metadata": {},
   "outputs": [],
   "source": [
    "age = 25"
   ]
  },
  {
   "cell_type": "code",
   "execution_count": null,
   "id": "ad7c7fdb-c037-472e-9a20-b76cac82ab62",
   "metadata": {},
   "outputs": [],
   "source": [
    "Q8. Declare a variable named price and assign the value 9.99 to it. What data type does this variable belong to?"
   ]
  },
  {
   "cell_type": "code",
   "execution_count": null,
   "id": "b005c141-ef2c-49f7-bc15-d351638842c3",
   "metadata": {},
   "outputs": [],
   "source": [
    "price = 9.99"
   ]
  },
  {
   "cell_type": "code",
   "execution_count": null,
   "id": "ec784b4e-4f7c-4606-8e69-53cf8f452bcd",
   "metadata": {},
   "outputs": [],
   "source": [
    "Q9. Create a variable named name and assign your full name to it as a string. How would you print the value of this variable?"
   ]
  },
  {
   "cell_type": "code",
   "execution_count": null,
   "id": "22556801-2303-44e2-b0d8-dbd8e0abcd40",
   "metadata": {},
   "outputs": [],
   "source": [
    "name = \"PW skills\"\n",
    "print(name)"
   ]
  },
  {
   "cell_type": "code",
   "execution_count": null,
   "id": "80c74ec7-5a99-4fbb-9db0-ce91730f6644",
   "metadata": {},
   "outputs": [],
   "source": [
    "Q10. Given the string \"Hello, World!\", extract the substring \"World\"."
   ]
  },
  {
   "cell_type": "code",
   "execution_count": null,
   "id": "5e9400ff-f7bd-4ca8-8743-d2aceab466e3",
   "metadata": {},
   "outputs": [],
   "source": [
    "'python s = \"Hello, World!\" substring = s[7:12]"
   ]
  },
  {
   "cell_type": "code",
   "execution_count": null,
   "id": "a0d5c873-e902-4f30-a6ef-52b1795481bd",
   "metadata": {},
   "outputs": [],
   "source": [
    "Q11. Create a variable named \"is_student\" and assign it a boolean value indicating whether you are currently a student or not."
   ]
  },
  {
   "cell_type": "code",
   "execution_count": null,
   "id": "b49916f8-823b-4988-a553-0c93839df126",
   "metadata": {},
   "outputs": [],
   "source": [
    "python is_student = True # or False, depending on whether you are currently a student or not."
   ]
  },
  {
   "cell_type": "code",
   "execution_count": null,
   "id": "39b27496-f893-4195-9673-564cbfe0ab1c",
   "metadata": {},
   "outputs": [],
   "source": []
  },
  {
   "cell_type": "code",
   "execution_count": null,
   "id": "3d2aa9b7-4835-488b-b137-45dbd0594887",
   "metadata": {},
   "outputs": [],
   "source": []
  },
  {
   "cell_type": "code",
   "execution_count": null,
   "id": "4693a12d-5bc6-4fbc-8408-f23263ce95de",
   "metadata": {},
   "outputs": [],
   "source": []
  }
 ],
 "metadata": {
  "kernelspec": {
   "display_name": "Python 3 (ipykernel)",
   "language": "python",
   "name": "python3"
  },
  "language_info": {
   "codemirror_mode": {
    "name": "ipython",
    "version": 3
   },
   "file_extension": ".py",
   "mimetype": "text/x-python",
   "name": "python",
   "nbconvert_exporter": "python",
   "pygments_lexer": "ipython3",
   "version": "3.11.5"
  }
 },
 "nbformat": 4,
 "nbformat_minor": 5
}
