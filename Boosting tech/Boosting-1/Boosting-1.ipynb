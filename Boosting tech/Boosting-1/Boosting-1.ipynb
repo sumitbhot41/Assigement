{
 "cells": [
  {
   "cell_type": "markdown",
   "id": "fda058ed-f238-48db-bfbb-7f7e3a8164a2",
   "metadata": {},
   "source": [
    "Q1. What is boosting in machine learning?\n",
    "Q2. What are the advantages and limitations of using boosting techniques?\n",
    "Q3. Explain how boosting works.\n",
    "Q4. What are the different types of boosting algorithms?\n",
    "Q5. What are some common parameters in boosting algorithms?\n",
    "Q6. How do boosting algorithms combine weak learners to create a strong learner?\n",
    "Q7. Explain the concept of AdaBoost algorithm and its working.\n",
    "Q8. What is the loss function used in AdaBoost algorithm?\n",
    "Q9. How does the AdaBoost algorithm update the weights of misclassified samples?\n",
    "Q10. What is the effect of increasing the number of estimators in AdaBoost algorithm?"
   ]
  },
  {
   "cell_type": "code",
   "execution_count": null,
   "id": "7882c4c5-680c-4256-8e3a-d6994de4f865",
   "metadata": {},
   "outputs": [],
   "source": []
  }
 ],
 "metadata": {
  "kernelspec": {
   "display_name": "Python 3 (ipykernel)",
   "language": "python",
   "name": "python3"
  },
  "language_info": {
   "codemirror_mode": {
    "name": "ipython",
    "version": 3
   },
   "file_extension": ".py",
   "mimetype": "text/x-python",
   "name": "python",
   "nbconvert_exporter": "python",
   "pygments_lexer": "ipython3",
   "version": "3.11.5"
  }
 },
 "nbformat": 4,
 "nbformat_minor": 5
}
