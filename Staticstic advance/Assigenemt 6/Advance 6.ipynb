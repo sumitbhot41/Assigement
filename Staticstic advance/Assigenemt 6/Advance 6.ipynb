{
 "cells": [
  {
   "cell_type": "code",
   "execution_count": null,
   "id": "87f667aa-cc66-47e2-ab89-e45de275c36c",
   "metadata": {},
   "outputs": [],
   "source": [
    "Q1: Assumptions required to use ANOVA:\n",
    "\n",
    "Independence: Observations within each group are independent of each other.\n",
    "Normality: The dependent variable follows a normal distribution within each group.\n",
    "Homogeneity of variances: Variances of the dependent variable are equal across all groups.\n",
    "Examples of violations:\n",
    "\n",
    "Violation of independence: If observations within groups are not independent, such as repeated measures on the same subjects without proper accounting for dependency.\n",
    "Violation of normality: If the dependent variable is not normally distributed within each group, ANOVA results may not be reliable, especially with small sample sizes.\n",
    "Violation of homogeneity of variances: If variances are not equal across groups, ANOVA results may be biased, and post-hoc tests may be invalid."
   ]
  },
  {
   "cell_type": "code",
   "execution_count": null,
   "id": "70e0e619-f38b-4b1e-a44e-82e55ae05161",
   "metadata": {},
   "outputs": [],
   "source": [
    "Q2: Three types of ANOVA and their usage:\n",
    "\n",
    "One-way ANOVA: Used when comparing the means of three or more independent groups on a single continuous dependent variable.\n",
    "Two-way ANOVA: Used when there are two independent categorical variables (factors), and we want to examine their main effects and interaction effects on a continuous dependent variable.\n",
    "Repeated measures ANOVA: Used when the same participants are measured under different conditions or at multiple time points."
   ]
  },
  {
   "cell_type": "raw",
   "id": "cd02f7a8-7f4e-4845-a7f4-143d03e14493",
   "metadata": {},
   "source": [
    "Q3: Partitioning of variance in ANOVA:\n",
    "\n",
    "ANOVA partitions the total variance in the data into different components: the variance explained by the model (due to factors), and the residual variance (unexplained variance).\n",
    "Understanding this concept is important because it helps us understand how much of the variance in the dependent variable is accounted for by the factors being studied."
   ]
  },
  {
   "cell_type": "code",
   "execution_count": 1,
   "id": "7181faf2-4a01-4aa4-a1c4-834b15e5bc05",
   "metadata": {},
   "outputs": [
    {
     "name": "stdout",
     "output_type": "stream",
     "text": [
      "Total Sum of Squares (SST): 76.2164606163377\n",
      "Explained Sum of Squares (SSE): 0.855727520039736\n",
      "Residual Sum of Squares (SSR): 75.36073309629796\n"
     ]
    }
   ],
   "source": [
    "import numpy as np\n",
    "import scipy.stats as stats\n",
    "\n",
    "# Example data\n",
    "groups = 3\n",
    "observations_per_group = 20\n",
    "data = np.random.randn(groups, observations_per_group)\n",
    "\n",
    "# Calculate mean of all observations\n",
    "overall_mean = np.mean(data)\n",
    "\n",
    "# Calculate Total Sum of Squares (SST)\n",
    "SST = np.sum((data - overall_mean)**2)\n",
    "\n",
    "# Calculate Explained Sum of Squares (SSE)\n",
    "group_means = np.mean(data, axis=1)\n",
    "SSE = np.sum(observations_per_group * (group_means - overall_mean)**2)\n",
    "\n",
    "# Calculate Residual Sum of Squares (SSR)\n",
    "SSR = SST - SSE\n",
    "\n",
    "print(\"Total Sum of Squares (SST):\", SST)\n",
    "print(\"Explained Sum of Squares (SSE):\", SSE)\n",
    "print(\"Residual Sum of Squares (SSR):\", SSR)"
   ]
  },
  {
   "cell_type": "code",
   "execution_count": 21,
   "id": "15eb1677-2bec-4c0a-94ea-6f6c95d35d89",
   "metadata": {},
   "outputs": [
    {
     "ename": "NameError",
     "evalue": "name 'df' is not defined",
     "output_type": "error",
     "traceback": [
      "\u001b[1;31m---------------------------------------------------------------------------\u001b[0m",
      "\u001b[1;31mNameError\u001b[0m                                 Traceback (most recent call last)",
      "Cell \u001b[1;32mIn[21], line 9\u001b[0m\n\u001b[0;32m      2\u001b[0m \u001b[38;5;28;01mfrom\u001b[39;00m \u001b[38;5;21;01mstatsmodels\u001b[39;00m\u001b[38;5;21;01m.\u001b[39;00m\u001b[38;5;21;01mformula\u001b[39;00m\u001b[38;5;21;01m.\u001b[39;00m\u001b[38;5;21;01mapi\u001b[39;00m \u001b[38;5;28;01mimport\u001b[39;00m ols\n\u001b[0;32m      4\u001b[0m \u001b[38;5;66;03m# Assuming data is arranged in a DataFrame with columns: 'Software', 'Experience', and 'Time'\u001b[39;00m\n\u001b[0;32m      5\u001b[0m \u001b[38;5;66;03m# 'Software': Program A, Program B, Program C\u001b[39;00m\n\u001b[0;32m      6\u001b[0m \u001b[38;5;66;03m# 'Experience': Novice, Experienced\u001b[39;00m\n\u001b[0;32m      7\u001b[0m \n\u001b[0;32m      8\u001b[0m \u001b[38;5;66;03m# Fit the ANOVA model\u001b[39;00m\n\u001b[1;32m----> 9\u001b[0m model \u001b[38;5;241m=\u001b[39m ols(\u001b[38;5;124m'\u001b[39m\u001b[38;5;124mTime ~ C(Software) * C(Experience)\u001b[39m\u001b[38;5;124m'\u001b[39m, data\u001b[38;5;241m=\u001b[39m\u001b[43mdf\u001b[49m)\u001b[38;5;241m.\u001b[39mfit()\n\u001b[0;32m     11\u001b[0m \u001b[38;5;66;03m# Perform ANOVA\u001b[39;00m\n\u001b[0;32m     12\u001b[0m anova_table \u001b[38;5;241m=\u001b[39m sm\u001b[38;5;241m.\u001b[39mstats\u001b[38;5;241m.\u001b[39manova_lm(model, typ\u001b[38;5;241m=\u001b[39m\u001b[38;5;241m2\u001b[39m)\n",
      "\u001b[1;31mNameError\u001b[0m: name 'df' is not defined"
     ]
    }
   ],
   "source": [
    "import statsmodels.api as sm\n",
    "from statsmodels.formula.api import ols\n",
    "\n",
    "# Assuming data is arranged in a DataFrame with columns: 'Software', 'Experience', and 'Time'\n",
    "# 'Software': Program A, Program B, Program C\n",
    "# 'Experience': Novice, Experienced\n",
    "\n",
    "# Fit the ANOVA model\n",
    "model = ols('Time ~ C(Software) * C(Experience)', data=df).fit()\n",
    "\n",
    "# Perform ANOVA\n",
    "anova_table = sm.stats.anova_lm(model, typ=2)\n",
    "\n",
    "# Extract the main effects and interaction effect\n",
    "software_effect = anova_table.loc['C(Software)', 'F']\n",
    "experience_effect = anova_table.loc['C(Experience)', 'F']\n",
    "interaction_effect = anova_table.loc['C(Software):C(Experience)', 'F']\n",
    "\n",
    "print(\"Main effect of Software:\", software_effect)\n",
    "print(\"Main effect of Experience:\", experience_effect)\n",
    "print(\"Interaction effect:\", interaction_effect)\n"
   ]
  },
  {
   "cell_type": "code",
   "execution_count": 22,
   "id": "53841f61-28ae-4d67-855b-b54620b6af44",
   "metadata": {},
   "outputs": [],
   "source": [
    "import pandas as pd\n",
    "\n",
    "# Example data\n",
    "data = {\n",
    "    'Software': ['A', 'A', 'B', 'B', 'C', 'C'],  # Program A, Program A, Program B, ...\n",
    "    'Experience': ['Novice', 'Experienced', 'Novice', 'Experienced', 'Novice', 'Experienced'],\n",
    "    'Time': [10, 15, 20, 25, 30, 35]  # Time measurements for each combination of Software and Experience\n",
    "}\n",
    "\n",
    "# Create DataFrame\n",
    "df = pd.DataFrame(data)\n"
   ]
  },
  {
   "cell_type": "raw",
   "id": "e59e6910-8974-4d4f-a04c-365a8e527eb3",
   "metadata": {},
   "source": [
    "Q6: Interpretation of one-way ANOVA results:\n",
    "\n",
    "F-statistic of 5.23 with a p-value of 0.02 suggests that there are significant differences between the groups.\n",
    "We reject the null hypothesis that the means of all groups are equal at the specified significance level (e.g., 0.05).\n",
    "Therefore, we can conclude that there are statistically significant differences in mean weight loss among the three diets."
   ]
  },
  {
   "cell_type": "code",
   "execution_count": null,
   "id": "78292f5c-4661-42c1-8163-832f8fd37e8b",
   "metadata": {},
   "outputs": [],
   "source": [
    "7: Handling missing data in repeated measures ANOVA:\n",
    "\n",
    "Various methods can be used, such as mean imputation, regression imputation, or multiple imputation.\n",
    "Consequences of using different methods include biased estimates of treatment effects, inflated or deflated standard errors, and potential distortion of p-values."
   ]
  },
  {
   "cell_type": "code",
   "execution_count": null,
   "id": "7d0a650d-77e2-488a-8b0d-ec1101413949",
   "metadata": {},
   "outputs": [],
   "source": [
    "Q8: Common post-hoc tests used after ANOVA:\n",
    "\n",
    "Tukey's HSD (Honestly Significant Difference): Used to determine which specific groups differ significantly from each other.\n",
    "Bonferroni correction: Adjusts the significance threshold for multiple comparisons to control for familywise error rate.\n",
    "Scheffé's method: Similar to Tukey's HSD but more conservative, suitable for unequal sample sizes and unequal variances."
   ]
  },
  {
   "cell_type": "code",
   "execution_count": 5,
   "id": "492f1b23-78cb-409d-9c18-1b41b373dda6",
   "metadata": {},
   "outputs": [],
   "source": [
    "import scipy.stats as stats"
   ]
  },
  {
   "cell_type": "code",
   "execution_count": 19,
   "id": "a294828b-0327-4de5-af6c-fb310c5fdc4d",
   "metadata": {},
   "outputs": [
    {
     "name": "stdout",
     "output_type": "stream",
     "text": [
      "F-statistic: 2.0\n",
      "p-value: 0.177978515625\n"
     ]
    }
   ],
   "source": [
    "import scipy.stats as stats\n",
    "\n",
    "# Example data\n",
    "data = {\n",
    "    'Diet_A': [1, 2, 3, 4, 5],  # Replace with actual weight loss data for Diet A\n",
    "    'Diet_B': [2, 3, 4, 5, 6],  # Replace with actual weight loss data for Diet B\n",
    "    'Diet_C': [3, 4, 5, 6, 7]   # Replace with actual weight loss data for Diet C\n",
    "}\n",
    "\n",
    "# Perform one-way ANOVA\n",
    "F_statistic, p_value = stats.f_oneway(data['Diet_A'], data['Diet_B'], data['Diet_C'])\n",
    "\n",
    "print(\"F-statistic:\", F_statistic)\n",
    "print(\"p-value:\", p_value)\n",
    "# Interpretation: If p-value < 0.05, there are significant differences in mean weight loss among the three diets.\n"
   ]
  },
  {
   "cell_type": "code",
   "execution_count": null,
   "id": "a57599ba-43dd-4d7a-a5ce-15cf68772f16",
   "metadata": {},
   "outputs": [],
   "source": [
    "\n",
    "import statsmodels.api as sm\n",
    "from statsmodels.formula.api import ols\n",
    "\n",
    "# Example data\n",
    "# Assuming data is in a DataFrame with columns: 'Time', 'Software', 'Experience'\n",
    "\n",
    "# Fit OLS regression model\n",
    "model = ols('Time ~ C(Software) * C(Experience)', data=df).fit()\n",
    "\n",
    "# Perform ANOVA and store the results in an ANOVA table\n",
    "anova_table = sm.stats.anova_lm(model, typ=2)\n",
    "\n",
    "# Print ANOVA table\n",
    "print(anova_table)"
   ]
  },
  {
   "cell_type": "code",
   "execution_count": 13,
   "id": "4a9c12ec-cade-48a6-b179-bf8af31b44ac",
   "metadata": {},
   "outputs": [
    {
     "name": "stdout",
     "output_type": "stream",
     "text": [
      "t-statistic: 2.2725233814421393\n",
      "p-value: 0.05268253876201326\n"
     ]
    }
   ],
   "source": [
    "import scipy.stats as stats\n",
    "\n",
    "# Example data\n",
    "control_group = [85, 78, 92, 88, 90]  # list of test scores for control group\n",
    "experimental_group = [75, 80, 70, 85, 82]  # list of test scores for experimental group\n",
    "\n",
    "# Perform two-sample t-test\n",
    "t_statistic, p_value = stats.ttest_ind(control_group, experimental_group)\n",
    "\n",
    "print(\"t-statistic:\", t_statistic)\n",
    "print(\"p-value:\", p_value)\n",
    "# Interpretation: If p-value < 0.05, there is a significant difference in test scores between the two groups.\n"
   ]
  },
  {
   "cell_type": "code",
   "execution_count": 9,
   "id": "06f4f185-a230-4874-8553-5f6fee0303b9",
   "metadata": {},
   "outputs": [],
   "source": [
    "import scipy.stats as stats"
   ]
  },
  {
   "cell_type": "code",
   "execution_count": 16,
   "id": "2f4da85f-5ce7-404c-9ed4-180049f933fe",
   "metadata": {},
   "outputs": [
    {
     "name": "stdout",
     "output_type": "stream",
     "text": [
      "Collecting statsmodels\n",
      "  Obtaining dependency information for statsmodels from https://files.pythonhosted.org/packages/9a/b2/13833f94076dcc2709137fee92157ef5a0099a11ddff4f4b7cb301b35357/statsmodels-0.14.1-cp311-cp311-win_amd64.whl.metadata\n",
      "  Downloading statsmodels-0.14.1-cp311-cp311-win_amd64.whl.metadata (9.8 kB)\n",
      "Requirement already satisfied: numpy<2,>=1.18 in c:\\users\\sumit bhot\\appdata\\local\\programs\\python\\python311\\lib\\site-packages (from statsmodels) (1.26.2)\n",
      "Requirement already satisfied: scipy!=1.9.2,>=1.4 in c:\\users\\sumit bhot\\appdata\\local\\programs\\python\\python311\\lib\\site-packages (from statsmodels) (1.11.4)\n",
      "Requirement already satisfied: pandas!=2.1.0,>=1.0 in c:\\users\\sumit bhot\\appdata\\local\\programs\\python\\python311\\lib\\site-packages (from statsmodels) (2.1.3)\n",
      "Collecting patsy>=0.5.4 (from statsmodels)\n",
      "  Obtaining dependency information for patsy>=0.5.4 from https://files.pythonhosted.org/packages/43/f3/1d311a09c34f14f5973bb0bb0dc3a6e007e1eda90b5492d082689936ca51/patsy-0.5.6-py2.py3-none-any.whl.metadata\n",
      "  Downloading patsy-0.5.6-py2.py3-none-any.whl.metadata (3.5 kB)\n",
      "Requirement already satisfied: packaging>=21.3 in c:\\users\\sumit bhot\\appdata\\local\\programs\\python\\python311\\lib\\site-packages (from statsmodels) (23.2)\n",
      "Requirement already satisfied: python-dateutil>=2.8.2 in c:\\users\\sumit bhot\\appdata\\local\\programs\\python\\python311\\lib\\site-packages (from pandas!=2.1.0,>=1.0->statsmodels) (2.8.2)\n",
      "Requirement already satisfied: pytz>=2020.1 in c:\\users\\sumit bhot\\appdata\\local\\programs\\python\\python311\\lib\\site-packages (from pandas!=2.1.0,>=1.0->statsmodels) (2023.3.post1)\n",
      "Requirement already satisfied: tzdata>=2022.1 in c:\\users\\sumit bhot\\appdata\\local\\programs\\python\\python311\\lib\\site-packages (from pandas!=2.1.0,>=1.0->statsmodels) (2023.3)\n",
      "Requirement already satisfied: six in c:\\users\\sumit bhot\\appdata\\local\\programs\\python\\python311\\lib\\site-packages (from patsy>=0.5.4->statsmodels) (1.16.0)\n",
      "Downloading statsmodels-0.14.1-cp311-cp311-win_amd64.whl (9.9 MB)\n",
      "   ---------------------------------------- 0.0/9.9 MB ? eta -:--:--\n",
      "   ---------------------------------------- 0.0/9.9 MB ? eta -:--:--\n",
      "   ---------------------------------------- 0.0/9.9 MB 435.7 kB/s eta 0:00:23\n",
      "   ---------------------------------------- 0.1/9.9 MB 544.7 kB/s eta 0:00:18\n",
      "    --------------------------------------- 0.2/9.9 MB 1.2 MB/s eta 0:00:09\n",
      "   - -------------------------------------- 0.3/9.9 MB 1.6 MB/s eta 0:00:06\n",
      "   -- ------------------------------------- 0.5/9.9 MB 2.3 MB/s eta 0:00:04\n",
      "   --- ------------------------------------ 0.9/9.9 MB 3.4 MB/s eta 0:00:03\n",
      "   ----- ---------------------------------- 1.4/9.9 MB 4.5 MB/s eta 0:00:02\n",
      "   -------- ------------------------------- 2.0/9.9 MB 5.6 MB/s eta 0:00:02\n",
      "   ---------- ----------------------------- 2.5/9.9 MB 6.1 MB/s eta 0:00:02\n",
      "   ------------ --------------------------- 3.0/9.9 MB 6.6 MB/s eta 0:00:02\n",
      "   -------------- ------------------------- 3.5/9.9 MB 7.1 MB/s eta 0:00:01\n",
      "   --------------- ------------------------ 3.8/9.9 MB 7.4 MB/s eta 0:00:01\n",
      "   --------------- ------------------------ 3.8/9.9 MB 7.4 MB/s eta 0:00:01\n",
      "   --------------- ------------------------ 3.8/9.9 MB 7.4 MB/s eta 0:00:01\n",
      "   --------------- ------------------------ 3.8/9.9 MB 7.4 MB/s eta 0:00:01\n",
      "   ---------------- ----------------------- 4.1/9.9 MB 6.1 MB/s eta 0:00:01\n",
      "   ----------------- ---------------------- 4.3/9.9 MB 6.0 MB/s eta 0:00:01\n",
      "   ------------------ --------------------- 4.6/9.9 MB 5.9 MB/s eta 0:00:01\n",
      "   ------------------- -------------------- 4.9/9.9 MB 5.9 MB/s eta 0:00:01\n",
      "   --------------------- ------------------ 5.2/9.9 MB 6.0 MB/s eta 0:00:01\n",
      "   ---------------------- ----------------- 5.5/9.9 MB 6.0 MB/s eta 0:00:01\n",
      "   ----------------------- ---------------- 5.8/9.9 MB 6.0 MB/s eta 0:00:01\n",
      "   ------------------------ --------------- 6.1/9.9 MB 6.0 MB/s eta 0:00:01\n",
      "   ------------------------- -------------- 6.3/9.9 MB 6.0 MB/s eta 0:00:01\n",
      "   ---------------------------- ----------- 7.0/9.9 MB 6.3 MB/s eta 0:00:01\n",
      "   ------------------------------ --------- 7.5/9.9 MB 6.5 MB/s eta 0:00:01\n",
      "   -------------------------------- ------- 8.0/9.9 MB 6.7 MB/s eta 0:00:01\n",
      "   ---------------------------------- ----- 8.6/9.9 MB 6.9 MB/s eta 0:00:01\n",
      "   ------------------------------------- -- 9.2/9.9 MB 7.1 MB/s eta 0:00:01\n",
      "   ---------------------------------------  9.7/9.9 MB 7.3 MB/s eta 0:00:01\n",
      "   ---------------------------------------  9.9/9.9 MB 7.2 MB/s eta 0:00:01\n",
      "   ---------------------------------------- 9.9/9.9 MB 7.1 MB/s eta 0:00:00\n",
      "Downloading patsy-0.5.6-py2.py3-none-any.whl (233 kB)\n",
      "   ---------------------------------------- 0.0/233.9 kB ? eta -:--:--\n",
      "   --------------------------------------- 233.9/233.9 kB 14.0 MB/s eta 0:00:00\n",
      "Installing collected packages: patsy, statsmodels\n",
      "Successfully installed patsy-0.5.6 statsmodels-0.14.1\n",
      "Note: you may need to restart the kernel to use updated packages.\n"
     ]
    },
    {
     "name": "stderr",
     "output_type": "stream",
     "text": [
      "\n",
      "[notice] A new release of pip is available: 23.2.1 -> 24.0\n",
      "[notice] To update, run: C:\\Users\\sumit bhot\\AppData\\Local\\Programs\\Python\\Python311\\python.exe -m pip install --upgrade pip\n"
     ]
    }
   ],
   "source": [
    "pip install statsmodels\n"
   ]
  },
  {
   "cell_type": "code",
   "execution_count": null,
   "id": "196fe163-64c2-42e8-bc7e-d00018e2f253",
   "metadata": {},
   "outputs": [],
   "source": []
  },
  {
   "cell_type": "code",
   "execution_count": null,
   "id": "9a6bdd61-2443-4f12-9b6a-f8ea074c5f36",
   "metadata": {},
   "outputs": [],
   "source": []
  }
 ],
 "metadata": {
  "kernelspec": {
   "display_name": "Python 3 (ipykernel)",
   "language": "python",
   "name": "python3"
  },
  "language_info": {
   "codemirror_mode": {
    "name": "ipython",
    "version": 3
   },
   "file_extension": ".py",
   "mimetype": "text/x-python",
   "name": "python",
   "nbconvert_exporter": "python",
   "pygments_lexer": "ipython3",
   "version": "3.11.5"
  }
 },
 "nbformat": 4,
 "nbformat_minor": 5
}
