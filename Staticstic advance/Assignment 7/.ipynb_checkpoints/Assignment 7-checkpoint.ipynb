{
 "cells": [
  {
   "cell_type": "code",
   "execution_count": null,
   "id": "0b39b74a-75b0-4c82-8234-30c2c21a9749",
   "metadata": {},
   "outputs": [],
   "source": [
    "Q1. Python function for calculating the F-value and corresponding p-value for a variance ratio test"
   ]
  },
  {
   "cell_type": "code",
   "execution_count": 1,
   "id": "3a42ec9d-08c8-401e-96e1-61f289c3f591",
   "metadata": {},
   "outputs": [
    {
     "name": "stdout",
     "output_type": "stream",
     "text": [
      "F-value: 0.25\n",
      "p-value: 1.792\n"
     ]
    }
   ],
   "source": [
    "import numpy as np\n",
    "from scipy.stats import f\n",
    "\n",
    "def calculate_f_value(data1, data2):\n",
    "    dof1 = len(data1) - 1\n",
    "    dof2 = len(data2) - 1\n",
    "    var1 = np.var(data1, ddof=1)\n",
    "    var2 = np.var(data2, ddof=1)\n",
    "    \n",
    "    f_value = var1 / var2\n",
    "    p_value = f.sf(f_value, dof1, dof2) * 2  # two-tailed test\n",
    "    \n",
    "    return f_value, p_value\n",
    "\n",
    "# Example usage:\n",
    "data1 = [1, 2, 3, 4, 5]\n",
    "data2 = [2, 4, 6, 8, 10]\n",
    "f_value, p_value = calculate_f_value(data1, data2)\n",
    "print(\"F-value:\", f_value)\n",
    "print(\"p-value:\", p_value)\n"
   ]
  },
  {
   "cell_type": "code",
   "execution_count": null,
   "id": "e12637a0-2986-4db3-9ee5-472e3489e5c3",
   "metadata": {},
   "outputs": [],
   "source": [
    "Q2. Python function for calculating the critical F-value for a two-tailed test:\n",
    "\n",
    "    "
   ]
  },
  {
   "cell_type": "code",
   "execution_count": 2,
   "id": "3492b54d-4e76-4176-9074-0a3e1348badb",
   "metadata": {},
   "outputs": [
    {
     "name": "stdout",
     "output_type": "stream",
     "text": [
      "Critical F-value: 3.858698666273216\n"
     ]
    }
   ],
   "source": [
    "def calculate_critical_f_value(alpha, dfn, dfd):\n",
    "    return f.ppf(1 - alpha / 2, dfn, dfd)\n",
    "\n",
    "# Example usage:\n",
    "alpha = 0.05\n",
    "dfn = 3  # degrees of freedom for numerator\n",
    "dfd = 20  # degrees of freedom for denominator\n",
    "critical_f_value = calculate_critical_f_value(alpha, dfn, dfd)\n",
    "print(\"Critical F-value:\", critical_f_value)\n"
   ]
  },
  {
   "cell_type": "code",
   "execution_count": null,
   "id": "689a0841-5662-4ef0-9994-f6b1ea27b686",
   "metadata": {},
   "outputs": [],
   "source": [
    "Q3. Python program for generating random samples from two normal distributions and conducting an F-test:"
   ]
  },
  {
   "cell_type": "code",
   "execution_count": 3,
   "id": "45073df6-8075-4f5e-82f6-7ba4f266c28a",
   "metadata": {},
   "outputs": [
    {
     "name": "stdout",
     "output_type": "stream",
     "text": [
      "F-value: 1.264236594699402\n",
      "Degrees of freedom: 99 99\n",
      "p-value: 0.2451546977629854\n"
     ]
    }
   ],
   "source": [
    "import numpy as np\n",
    "from scipy.stats import f\n",
    "\n",
    "def f_test(data1, data2):\n",
    "    var1 = np.var(data1, ddof=1)\n",
    "    var2 = np.var(data2, ddof=1)\n",
    "    dof1 = len(data1) - 1\n",
    "    dof2 = len(data2) - 1\n",
    "    \n",
    "    f_value = var1 / var2\n",
    "    p_value = f.sf(f_value, dof1, dof2) * 2  # two-tailed test\n",
    "    \n",
    "    return f_value, dof1, dof2, p_value\n",
    "\n",
    "# Example usage:\n",
    "data1 = np.random.normal(loc=0, scale=1, size=100)\n",
    "data2 = np.random.normal(loc=0.5, scale=1, size=100)\n",
    "f_value, dof1, dof2, p_value = f_test(data1, data2)\n",
    "print(\"F-value:\", f_value)\n",
    "print(\"Degrees of freedom:\", dof1, dof2)\n",
    "print(\"p-value:\", p_value)\n"
   ]
  },
  {
   "cell_type": "code",
   "execution_count": null,
   "id": "4c04e5a2-fb56-47e9-9f96-3ff802152340",
   "metadata": {},
   "outputs": [],
   "source": [
    "\n",
    "Q4. Conducting an F-test for the given scenario:"
   ]
  },
  {
   "cell_type": "code",
   "execution_count": 4,
   "id": "35bc2d6f-4093-4cc4-b424-abd60dfed14a",
   "metadata": {},
   "outputs": [
    {
     "name": "stdout",
     "output_type": "stream",
     "text": [
      "Fail to reject null hypothesis. Variances are not significantly different.\n"
     ]
    }
   ],
   "source": [
    "from scipy.stats import f\n",
    "\n",
    "# Given data\n",
    "variance1 = 10\n",
    "variance2 = 15\n",
    "n = 12\n",
    "alpha = 0.05\n",
    "\n",
    "# Degrees of freedom\n",
    "dfn = n - 1\n",
    "dfd = n - 1\n",
    "\n",
    "# Calculating F-statistic\n",
    "F = variance1 / variance2\n",
    "\n",
    "# Critical F-value\n",
    "critical_F = f.ppf(1 - alpha / 2, dfn, dfd)\n",
    "\n",
    "# Checking if F is greater than critical F-value\n",
    "if F > critical_F:\n",
    "    print(\"Reject null hypothesis. Variances are significantly different.\")\n",
    "else:\n",
    "    print(\"Fail to reject null hypothesis. Variances are not significantly different.\")\n"
   ]
  },
  {
   "cell_type": "code",
   "execution_count": null,
   "id": "1219ed04-8b7a-49fc-a945-b86845635396",
   "metadata": {},
   "outputs": [],
   "source": [
    "Q5. Conducting an F-test for the given scenario:"
   ]
  },
  {
   "cell_type": "code",
   "execution_count": null,
   "id": "f666fe70-c041-4287-8bc7-7dab74d0cf2d",
   "metadata": {},
   "outputs": [],
   "source": [
    "Given:\n",
    "\n",
    "Claimed variance (σ_claimed²) = 0.005\n",
    "Sample size (n) = 25\n",
    "Sample variance (s²) = 0.006\n",
    "Significance level (α) = 0.01"
   ]
  },
  {
   "cell_type": "code",
   "execution_count": 5,
   "id": "70033a1d-5df8-413e-aba4-72ab38667e30",
   "metadata": {},
   "outputs": [
    {
     "name": "stdout",
     "output_type": "stream",
     "text": [
      "Fail to reject null hypothesis. Claim is justified.\n"
     ]
    }
   ],
   "source": [
    "from scipy.stats import f\n",
    "\n",
    "# Given data\n",
    "claimed_variance = 0.005\n",
    "sample_size = 25\n",
    "sample_variance = 0.006\n",
    "alpha = 0.01\n",
    "\n",
    "# Degrees of freedom\n",
    "dfn = sample_size - 1\n",
    "dfd = sample_size - 1\n",
    "\n",
    "# Calculating F-statistic\n",
    "F = sample_variance / claimed_variance\n",
    "\n",
    "# Critical F-value\n",
    "critical_F = f.ppf(1 - alpha / 2, dfn, dfd)\n",
    "\n",
    "# Checking if F is less than critical F-value\n",
    "if F < critical_F:\n",
    "    print(\"Fail to reject null hypothesis. Claim is justified.\")\n",
    "else:\n",
    "    print(\"Reject null hypothesis. Claim is not justified.\")\n"
   ]
  },
  {
   "cell_type": "code",
   "execution_count": null,
   "id": "9f802feb-05af-4341-96bf-b79854ae5d13",
   "metadata": {},
   "outputs": [],
   "source": [
    "Q6. Python function to calculate the mean and variance of an F-distribution:"
   ]
  },
  {
   "cell_type": "code",
   "execution_count": 6,
   "id": "c99efe2f-f5d3-4831-8c40-768209cc5747",
   "metadata": {},
   "outputs": [
    {
     "name": "stdout",
     "output_type": "stream",
     "text": [
      "Mean: 1.25\n",
      "Variance: 1.3541666666666667\n"
     ]
    }
   ],
   "source": [
    "def f_distribution_stats(dfn, dfd):\n",
    "    mean = dfd / (dfd - 2) if dfd > 2 else None\n",
    "    variance = 2 * (dfd ** 2 * (dfn + dfd - 2)) / (dfn * (dfd - 2) ** 2 * (dfd - 4)) if dfd > 4 else None\n",
    "    return mean, variance\n",
    "\n",
    "# Example usage:\n",
    "dfn = 5\n",
    "dfd = 10\n",
    "mean, variance = f_distribution_stats(dfn, dfd)\n",
    "print(\"Mean:\", mean)\n",
    "print(\"Variance:\", variance)\n"
   ]
  },
  {
   "cell_type": "code",
   "execution_count": null,
   "id": "aa0e054e-754a-476b-8099-3bfd4bda7e7c",
   "metadata": {},
   "outputs": [],
   "source": [
    "Q7. Conducting an F-test for the given scenario:\n",
    "Sample 1 variance (s₁²) = 25\n",
    "Sample 2 variance (s₂²) = 20\n",
    "Sample size for sample 1 = 10\n",
    "Sample size for sample 2 = 15\n",
    "Significance level (α) = 0.10"
   ]
  },
  {
   "cell_type": "code",
   "execution_count": 7,
   "id": "a08fa8a4-f60d-4a78-8c7d-b05d92756676",
   "metadata": {},
   "outputs": [
    {
     "name": "stdout",
     "output_type": "stream",
     "text": [
      "Fail to reject null hypothesis. Variances are not significantly different.\n"
     ]
    }
   ],
   "source": [
    "from scipy.stats import f\n",
    "\n",
    "# Given data\n",
    "sample_variance1 = 25\n",
    "sample_variance2 = 20\n",
    "n1 = 10\n",
    "n2 = 15\n",
    "alpha = 0.10\n",
    "\n",
    "# Degrees of freedom\n",
    "dfn = n1 - 1\n",
    "dfd = n2 - 1\n",
    "\n",
    "# Calculating F-statistic\n",
    "F = sample_variance1 / sample_variance2\n",
    "\n",
    "# Critical F-value\n",
    "critical_F = f.ppf(1 - alpha / 2, dfn, dfd)\n",
    "\n",
    "# Checking if F is greater than critical F-value\n",
    "if F > critical_F:\n",
    "    print(\"Reject null hypothesis. Variances are significantly different.\")\n",
    "else:\n",
    "    print(\"Fail to reject null hypothesis. Variances are not significantly different.\")\n"
   ]
  },
  {
   "cell_type": "code",
   "execution_count": null,
   "id": "a83e1988-bd8e-4f39-ab99-5a1ff434916a",
   "metadata": {},
   "outputs": [],
   "source": [
    "8. Conducting an F-test for the waiting times at two different restaurants:\n",
    "\n",
    "Given:\n",
    "\n",
    "Waiting times for Restaurant A: [24, 25, 28, 23, 22, 20, 27]\n",
    "Waiting times for Restaurant B: [31, 33, 35, 30, 32, 36]\n",
    "Significance level (α) = 0.05"
   ]
  },
  {
   "cell_type": "code",
   "execution_count": 8,
   "id": "184ccc03-a42d-46aa-adfb-c2641bd2f85b",
   "metadata": {},
   "outputs": [
    {
     "name": "stdout",
     "output_type": "stream",
     "text": [
      "Fail to reject null hypothesis. Variances are not significantly different.\n"
     ]
    }
   ],
   "source": [
    "from scipy.stats import f\n",
    "\n",
    "# Given data\n",
    "waiting_times_A = [24, 25, 28, 23, 22, 20, 27]\n",
    "waiting_times_B = [31, 33, 35, 30, 32, 36]\n",
    "alpha = 0.05\n",
    "\n",
    "# Sample variances\n",
    "variance_A = np.var(waiting_times_A, ddof=1)\n",
    "variance_B = np.var(waiting_times_B, ddof=1)\n",
    "\n",
    "# Degrees of freedom\n",
    "n_A = len(waiting_times_A)\n",
    "n_B = len(waiting_times_B)\n",
    "dfn = n_A - 1\n",
    "dfd = n_B - 1\n",
    "\n",
    "# Calculating F-statistic\n",
    "F = variance_A / variance_B\n",
    "\n",
    "# Critical F-value\n",
    "critical_F = f.ppf(1 - alpha / 2, dfn, dfd)\n",
    "\n",
    "# Checking if F is greater than critical F-value\n",
    "if F > critical_F:\n",
    "    print(\"Reject null hypothesis. Variances are significantly different.\")\n",
    "else:\n",
    "    print(\"Fail to reject null hypothesis. Variances are not significantly different.\")\n"
   ]
  },
  {
   "cell_type": "code",
   "execution_count": null,
   "id": "8852c7fe-4748-4404-a021-485a5a287bc6",
   "metadata": {},
   "outputs": [],
   "source": [
    "9. Conducting an F-test for the test scores of two groups of students:\n",
    "\n",
    "Given:\n",
    "\n",
    "Test scores for Group A: [80, 85, 90, 92, 87, 83]\n",
    "Test scores for Group B: [75, 78, 82, 79, 81, 84]\n",
    "Significance level (α) = 0.01"
   ]
  },
  {
   "cell_type": "code",
   "execution_count": 9,
   "id": "c2296db6-2573-4548-a52a-6be1ea3eedfc",
   "metadata": {},
   "outputs": [
    {
     "name": "stdout",
     "output_type": "stream",
     "text": [
      "Fail to reject null hypothesis. Variances are not significantly different.\n"
     ]
    }
   ],
   "source": [
    "from scipy.stats import f\n",
    "\n",
    "# Given data\n",
    "test_scores_A = [80, 85, 90, 92, 87, 83]\n",
    "test_scores_B = [75, 78, 82, 79, 81, 84]\n",
    "alpha = 0.01\n",
    "\n",
    "# Sample variances\n",
    "variance_A = np.var(test_scores_A, ddof=1)\n",
    "variance_B = np.var(test_scores_B, ddof=1)\n",
    "\n",
    "# Degrees of freedom\n",
    "n_A = len(test_scores_A)\n",
    "n_B = len(test_scores_B)\n",
    "dfn = n_A - 1\n",
    "dfd = n_B - 1\n",
    "\n",
    "# Calculating F-statistic\n",
    "F = variance_A / variance_B\n",
    "\n",
    "# Critical F-value\n",
    "critical_F = f.ppf(1 - alpha / 2, dfn, dfd)\n",
    "\n",
    "# Checking if F is greater than critical F-value\n",
    "if F > critical_F:\n",
    "    print(\"Reject null hypothesis. Variances are significantly different.\")\n",
    "else:\n",
    "    print(\"Fail to reject null hypothesis. Variances are not significantly different.\")\n"
   ]
  },
  {
   "cell_type": "code",
   "execution_count": null,
   "id": "7dd3218b-0fcf-4382-a2cd-5d35cf51f1c5",
   "metadata": {},
   "outputs": [],
   "source": []
  },
  {
   "cell_type": "code",
   "execution_count": null,
   "id": "444db871-c7c7-44e7-944c-d42f6e9d1248",
   "metadata": {},
   "outputs": [],
   "source": []
  },
  {
   "cell_type": "code",
   "execution_count": null,
   "id": "33688e46-9998-4541-978d-e4860fdafcef",
   "metadata": {},
   "outputs": [],
   "source": []
  },
  {
   "cell_type": "code",
   "execution_count": null,
   "id": "2b438846-222d-4fb2-b8a4-5086846ca2d7",
   "metadata": {},
   "outputs": [],
   "source": []
  },
  {
   "cell_type": "code",
   "execution_count": null,
   "id": "547be1bd-404e-4a11-a78c-66e520fe1c8c",
   "metadata": {},
   "outputs": [],
   "source": []
  },
  {
   "cell_type": "code",
   "execution_count": null,
   "id": "be02bb11-3c5e-4d76-9155-2fc3742e5fea",
   "metadata": {},
   "outputs": [],
   "source": []
  },
  {
   "cell_type": "code",
   "execution_count": null,
   "id": "891dd854-8b3d-4a7b-8db0-01b3684c893d",
   "metadata": {},
   "outputs": [],
   "source": []
  },
  {
   "cell_type": "code",
   "execution_count": null,
   "id": "ea925192-7549-4681-9f49-5b8f8f653e04",
   "metadata": {},
   "outputs": [],
   "source": []
  },
  {
   "cell_type": "code",
   "execution_count": null,
   "id": "24d891cd-5664-4d3d-97ca-9b787314fd13",
   "metadata": {},
   "outputs": [],
   "source": []
  },
  {
   "cell_type": "code",
   "execution_count": null,
   "id": "74ae6ef3-dca7-4792-8d6b-ac388d26c02a",
   "metadata": {},
   "outputs": [],
   "source": []
  },
  {
   "cell_type": "code",
   "execution_count": null,
   "id": "70941c90-9744-47aa-95aa-18b9843803dd",
   "metadata": {},
   "outputs": [],
   "source": []
  },
  {
   "cell_type": "code",
   "execution_count": null,
   "id": "3e6f388c-3246-43b2-953a-f0233c790893",
   "metadata": {},
   "outputs": [],
   "source": []
  },
  {
   "cell_type": "code",
   "execution_count": null,
   "id": "bd88e021-b0d7-4429-ae6a-30946c288a99",
   "metadata": {},
   "outputs": [],
   "source": []
  },
  {
   "cell_type": "code",
   "execution_count": null,
   "id": "98a7e1fa-8658-40aa-a013-a0f578432c5f",
   "metadata": {},
   "outputs": [],
   "source": []
  },
  {
   "cell_type": "code",
   "execution_count": null,
   "id": "82aa07a3-148a-4941-9d50-4cfeca275b02",
   "metadata": {},
   "outputs": [],
   "source": []
  },
  {
   "cell_type": "code",
   "execution_count": null,
   "id": "c5e940f2-0c6d-4e82-9857-8f6b8ec00f38",
   "metadata": {},
   "outputs": [],
   "source": []
  }
 ],
 "metadata": {
  "kernelspec": {
   "display_name": "Python 3 (ipykernel)",
   "language": "python",
   "name": "python3"
  },
  "language_info": {
   "codemirror_mode": {
    "name": "ipython",
    "version": 3
   },
   "file_extension": ".py",
   "mimetype": "text/x-python",
   "name": "python",
   "nbconvert_exporter": "python",
   "pygments_lexer": "ipython3",
   "version": "3.11.5"
  }
 },
 "nbformat": 4,
 "nbformat_minor": 5
}
