{
 "cells": [
  {
   "cell_type": "code",
   "execution_count": null,
   "id": "f925978f-c9e3-4cd7-af28-33a6e7086675",
   "metadata": {},
   "outputs": [],
   "source": [
    "Q1. Explain GET and POST methods."
   ]
  },
  {
   "cell_type": "raw",
   "id": "7a4c5815-ee7f-406d-abc3-fbf31b5f802a",
   "metadata": {},
   "source": [
    "\n",
    "Q1. Explain GET and POST methods.\n",
    "\n",
    "GET Method:\n",
    "\n",
    "The GET method is used to request data from a specified resource.\n",
    "When a client sends a GET request to a server, it retrieves data from the server without modifying anything on the server's side.\n",
    "GET requests can be cached, bookmarked, and shared, making them suitable for retrieving data that does not change frequently.\n",
    "GET requests have length limitations and should not be used for sensitive data, such as passwords, as the data is visible in the URL.\n",
    "POST Method:\n",
    "\n",
    "The POST method is used to submit data to be processed to a specified resource.\n",
    "When a client sends a POST request to a server, it sends data in the request body, which can then be processed by the server.\n",
    "POST requests are not cached, bookmarked, or shared, making them suitable for submitting sensitive data or modifying server-side resources.\n",
    "POST requests have no length limitations, allowing for the submission of large amounts of data."
   ]
  },
  {
   "cell_type": "code",
   "execution_count": null,
   "id": "600b659c-d0c6-495b-9858-97a6ee062d56",
   "metadata": {},
   "outputs": [],
   "source": [
    "Q2. Why is request used in Flask?"
   ]
  },
  {
   "cell_type": "raw",
   "id": "328f9006-3ee1-487e-a7e0-31f11d425895",
   "metadata": {},
   "source": [
    "The request object in Flask is used to access incoming request data, such as form data, query parameters, cookies, headers, and files uploaded with the request. It allows Flask applications to process and manipulate data submitted by clients in HTTP requests.\n",
    "\n",
    "The request object provides attributes and methods to access different parts of the request data, making it easy for developers to retrieve and use information sent by clients in their applications."
   ]
  },
  {
   "cell_type": "code",
   "execution_count": null,
   "id": "fb08d5c6-2694-4c3b-b276-f27edf1cc69b",
   "metadata": {},
   "outputs": [],
   "source": [
    "Q3. Why is redirect() used in Flask?"
   ]
  },
  {
   "cell_type": "raw",
   "id": "86e39881-bdad-45f4-b5b9-fb22dd37cace",
   "metadata": {},
   "source": [
    "The redirect() function in Flask is used to redirect the client to a different URL. It is commonly used to handle HTTP redirections in web applications, such as after form submissions or when accessing protected routes.\n",
    "\n",
    "Redirecting users to different URLs can be useful for various purposes, such as implementing login/logout functionality, handling form submissions, or redirecting users to a different page after performing an action."
   ]
  },
  {
   "cell_type": "code",
   "execution_count": null,
   "id": "a658e46f-0c2e-4e9a-bf0c-615261a7dcdb",
   "metadata": {},
   "outputs": [],
   "source": [
    "Q4. What are templates in Flask? Why is the render_template() function used?"
   ]
  },
  {
   "cell_type": "raw",
   "id": "b1d3da02-a67b-4350-9047-ced63a058ae7",
   "metadata": {},
   "source": [
    "Templates in Flask are HTML files with placeholders for dynamic content. They allow developers to separate the presentation layer from the application logic, making it easier to manage and maintain complex web applications.\n",
    "\n",
    "The render_template() function in Flask is used to render templates by replacing placeholders with actual data. It takes the name of the template file and any additional data needed to populate the template. The function then generates the HTML content to be sent back to the client.\n",
    "\n",
    "Using templates and the render_template() function helps improve code organization, facilitates code reuse, and enhances the maintainability of Flask applications by separating HTML markup from Python cod"
   ]
  },
  {
   "cell_type": "code",
   "execution_count": null,
   "id": "6c42fbb5-1264-4bd4-84bb-f9c17e0a77e2",
   "metadata": {},
   "outputs": [],
   "source": [
    "Q5. Create a simple API. Use Postman to test it. Attach the screenshot of the output in the Jupyter Notebook."
   ]
  },
  {
   "cell_type": "code",
   "execution_count": null,
   "id": "62c9d120-7a15-485b-8883-881b1c1ae924",
   "metadata": {},
   "outputs": [],
   "source": [
    "from flask import Flask, jsonify\n",
    "\n",
    "app = Flask(__name__)\n",
    "\n",
    "@app.route('/api/hello', methods=['GET'])\n",
    "def hello():\n",
    "    return jsonify({'message': 'Hello, world!'})\n",
    "\n",
    "if __name__ == '__main__':\n",
    "    app.run(debug=True)"
   ]
  },
  {
   "cell_type": "code",
   "execution_count": null,
   "id": "821b1737-491d-4270-b05e-aa8a89805a18",
   "metadata": {},
   "outputs": [],
   "source": []
  }
 ],
 "metadata": {
  "kernelspec": {
   "display_name": "Python 3 (ipykernel)",
   "language": "python",
   "name": "python3"
  },
  "language_info": {
   "codemirror_mode": {
    "name": "ipython",
    "version": 3
   },
   "file_extension": ".py",
   "mimetype": "text/x-python",
   "name": "python",
   "nbconvert_exporter": "python",
   "pygments_lexer": "ipython3",
   "version": "3.11.5"
  }
 },
 "nbformat": 4,
 "nbformat_minor": 5
}
