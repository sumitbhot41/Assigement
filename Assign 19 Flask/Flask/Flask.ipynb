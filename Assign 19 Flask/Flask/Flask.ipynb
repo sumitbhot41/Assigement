{
 "cells": [
  {
   "cell_type": "code",
   "execution_count": null,
   "id": "858307a2-47b7-4d54-9183-c638bdb52e6e",
   "metadata": {},
   "outputs": [],
   "source": [
    "\n",
    "Q1. What is Flask Framework? What are the advantages of Flask Framework?"
   ]
  },
  {
   "cell_type": "raw",
   "id": "0085201d-f542-4335-8576-64449a80b969",
   "metadata": {},
   "source": [
    "Flask is a lightweight web application framework written in Python. It is designed to be simple and easy to use, yet powerful enough to build complex web applications. Flask provides tools, libraries, and patterns to help developers quickly create web applications without the overhead of a full-fledged framework."
   ]
  },
  {
   "cell_type": "code",
   "execution_count": null,
   "id": "96b497c0-28a4-46a5-ada5-5945eed061e3",
   "metadata": {},
   "outputs": [],
   "source": [
    "Advantages of Flask Framework:"
   ]
  },
  {
   "cell_type": "markdown",
   "id": "d117dd41-aa1e-480b-b1db-8af803a49301",
   "metadata": {},
   "source": [
    "Simplicity: Flask follows a minimalist design philosophy, making it easy to learn and use for developers of all skill levels.\n",
    "Flexibility: Flask allows developers to choose their own tools and libraries for various components, such as database ORM, templating engine, and authentication.\n",
    "Modularity: Flask encourages modular design by providing extensions for common functionalities, allowing developers to add or remove features as needed.\n",
    "Jinja2 Templating: Flask uses the Jinja2 templating engine, which provides powerful templating features for generating dynamic HTML content.\n",
    "Werkzeug WSGI Toolkit: Flask is built on top of the Werkzeug WSGI toolkit, which provides low-level utilities for handling HTTP requests and responses.\n",
    "Community and Ecosystem: Flask has a vibrant community and a rich ecosystem of extensions and plugins, offering additional functionalities such as authentication, caching, and RESTful APIs.\n",
    "Lightweight: Flask has minimal dependencies and a small codebase, resulting in faster application startup times and lower memory footprint."
   ]
  },
  {
   "cell_type": "code",
   "execution_count": null,
   "id": "9d859c5d-c8d3-4a20-b08b-b2b76c2e21c0",
   "metadata": {},
   "outputs": [],
   "source": [
    "Q3. What is App routing in Flask? Why do we use app routes?"
   ]
  },
  {
   "cell_type": "raw",
   "id": "7c0ea79c-bd49-43bf-8373-a01fffc54c06",
   "metadata": {},
   "source": [
    "App routing in Flask refers to the process of mapping URL paths to view functions or endpoints within a Flask application. This mapping is achieved using the @app.route() decorator, where the decorator's argument specifies the URL path.\n",
    "\n",
    "We use app routes in Flask to define the behavior of our web application for different URL paths. Each route corresponds to a specific endpoint or view function, which generates the HTTP response to be sent back to the client. By defining routes, we can create a logical structure for our web application, enabling users to navigate between different pages or access different functionalities."
   ]
  },
  {
   "cell_type": "code",
   "execution_count": null,
   "id": "95fea089-037a-4dcd-93d1-2df6d03da043",
   "metadata": {},
   "outputs": [],
   "source": [
    "Q2Q2. Create a simple Flask application to display ‘Hello World!!’. Attach the screenshot of the output in Jupyter Notebook."
   ]
  },
  {
   "cell_type": "code",
   "execution_count": null,
   "id": "e1f7257f-dae9-452d-afce-f0410497fa5b",
   "metadata": {},
   "outputs": [],
   "source": [
    "from flask import Flask\n",
    "\n",
    "app = Flask(__name__)\n",
    "\n",
    "@app.route(\"/\")\n",
    "def hello_world():\n",
    "    return \"<h1>Hello, World!</h1>\"\n",
    "\n",
    "if __name__==\"__main__\":\n",
    "    app.run(host=\"0.0.0.0\")\n"
   ]
  },
  {
   "cell_type": "code",
   "execution_count": null,
   "id": "0dc00502-906e-4a3b-9922-a2eb3b71a507",
   "metadata": {},
   "outputs": [],
   "source": [
    "Q4. Create a “/welcome” route to display the welcome message “Welcome to ABC Corporation” and a “/” route to show the following details:\n",
    "Company Name: ABC Corporation\n",
    "Location: India\n",
    "Contact Detail: 999-999-9999\n",
    "Attach the screenshot of the output in Jupyter Notebook."
   ]
  },
  {
   "cell_type": "code",
   "execution_count": null,
   "id": "be29a1e5-55fc-4477-a191-277c00089e12",
   "metadata": {},
   "outputs": [],
   "source": [
    "from flask import Flask\n",
    "\n",
    "app = Flask(__name__)\n",
    "\n",
    "@app.route('/')\n",
    "def index():\n",
    "    return \"\"\"Company Name: ABC Corporation<br>\n",
    "               Location: India<br>\n",
    "               Contact Detail: 999-999-9999\"\"\"\n",
    "\n",
    "@app.route('/welcome')\n",
    "def welcome():\n",
    "    return 'Welcome to ABC Corporation'\n",
    "\n",
    "if __name__ == '__main__':\n",
    "    app.run(debug=True)"
   ]
  },
  {
   "cell_type": "code",
   "execution_count": null,
   "id": "22c67088-cbe6-48a3-a3ff-b9e4902ea789",
   "metadata": {},
   "outputs": [],
   "source": [
    "Q5 What function is used in Flask for URL Building? Write a Python code to demonstrate the working of the url_for() function."
   ]
  },
  {
   "cell_type": "raw",
   "id": "b5e5f009-1528-4990-a083-aff84a0760f3",
   "metadata": {},
   "source": [
    "The url_for() function in Flask is used for URL building. It generates a URL for the specified endpoint, taking into account the URL rules defined in the application."
   ]
  },
  {
   "cell_type": "code",
   "execution_count": null,
   "id": "d4900aff-0494-4fdd-9d5b-7bef477553e0",
   "metadata": {},
   "outputs": [],
   "source": [
    "from flask import Flask, url_for\n",
    "\n",
    "app = Flask(__name__)\n",
    "\n",
    "@app.route('/')\n",
    "def index():\n",
    "    return 'Index Page'\n",
    "\n",
    "@app.route('/user/<username>')\n",
    "def profile(username):\n",
    "    return f'{username}\\'s profile'\n",
    "\n",
    "@app.route('/hello')\n",
    "def hello():\n",
    "    return 'Hello World'\n",
    "\n",
    "if __name__ == '__main__':\n",
    "    with app.test_request_context():\n",
    "        print(url_for('index'))\n",
    "        print(url_for('profile', username='John Doe'))\n",
    "        print(url_for('hello'))"
   ]
  },
  {
   "cell_type": "code",
   "execution_count": null,
   "id": "9a928233-79b5-4076-b4d3-1ec32cae24cc",
   "metadata": {},
   "outputs": [],
   "source": []
  }
 ],
 "metadata": {
  "kernelspec": {
   "display_name": "Python 3 (ipykernel)",
   "language": "python",
   "name": "python3"
  },
  "language_info": {
   "codemirror_mode": {
    "name": "ipython",
    "version": 3
   },
   "file_extension": ".py",
   "mimetype": "text/x-python",
   "name": "python",
   "nbconvert_exporter": "python",
   "pygments_lexer": "ipython3",
   "version": "3.11.5"
  }
 },
 "nbformat": 4,
 "nbformat_minor": 5
}
