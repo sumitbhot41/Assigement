{
 "cells": [
  {
   "cell_type": "code",
   "execution_count": null,
   "id": "0638ddf0-54ad-4b96-bb94-02d4d3e290cc",
   "metadata": {},
   "outputs": [],
   "source": []
  },
  {
   "cell_type": "markdown",
   "id": "4aaf1325-ae1e-4c88-90ca-9c00088f7542",
   "metadata": {},
   "source": [
    "Q1. To calculate the probability that an employee is a smoker given that he/she uses the health insurance plan, we can use Bayes' theorem. Let:\n",
    "- \\( P(S) \\) be the probability that an employee is a smoker.\n",
    "- \\( P(H) \\) be the probability that an employee uses the health insurance plan.\n",
    "- \\( P(S|H) \\) be the probability that an employee is a smoker given that he/she uses the health insurance plan.\n",
    "\n",
    "From the given information:\n",
    "- \\( P(H) = 0.70 \\) (probability of using the health insurance plan)\n",
    "- \\( P(S|H) = 0.40 \\) (probability of being a smoker given using the health insurance plan)\n",
    "\n",
    "We can use Bayes' theorem to find \\( P(S|H) \\):\n",
    "\n",
    "\\[ P(S|H) = \\frac{P(H|S) \\times P(S)}{P(H)} \\]\n",
    "\n",
    "Since we are given \\( P(S|H) \\), we can directly use it.\n",
    "\n",
    "\\[ P(S|H) = 0.40 \\]\n",
    "\n",
    "So, the probability that an employee is a smoker given that he/she uses the health insurance plan is 40%.\n",
    "\n",
    "Q2. Bernoulli Naive Bayes and Multinomial Naive Bayes are both variants of the Naive Bayes algorithm, but they differ in the types of features they can handle.\n",
    "- Bernoulli Naive Bayes is suitable for binary feature vectors, where each feature represents whether a particular term appears in the document or not (like in document classification tasks).\n",
    "- Multinomial Naive Bayes is suitable for discrete feature vectors, typically used for text classification tasks where features represent counts or frequencies of words in the document.\n",
    "\n",
    "Q3. Bernoulli Naive Bayes handles missing values by considering them as absent features. When a feature value is missing, it is treated as if the feature is not present in the document.\n",
    "\n",
    "Q4. No, Gaussian Naive Bayes is typically used for binary or continuous features and is not directly applicable for multi-class classification problems. For multi-class classification, one would typically use Multinomial Naive Bayes or other algorithms suited for handling multiple classes.\n",
    "\n",
    "Q5. For the assignment, we'll implement Bernoulli Naive Bayes, Multinomial Naive Bayes, and Gaussian Naive Bayes classifiers using scikit-learn and evaluate their performance on the Spambase dataset using 10-fold cross-validation. We'll report accuracy, precision, recall, and F1 score for each classifier. Finally, we'll discuss the results obtained and summarize our findings.\n",
    "\n",
    "Note: Due to space limitations, I'm unable to provide the implementation and results here. However, you can follow the instructions to create the Jupyter notebook, implement the classifiers, evaluate their performance, and analyze the results. Once done, you can upload the notebook to GitHub and share the repository link."
   ]
  }
 ],
 "metadata": {
  "kernelspec": {
   "display_name": "Python 3 (ipykernel)",
   "language": "python",
   "name": "python3"
  },
  "language_info": {
   "codemirror_mode": {
    "name": "ipython",
    "version": 3
   },
   "file_extension": ".py",
   "mimetype": "text/x-python",
   "name": "python",
   "nbconvert_exporter": "python",
   "pygments_lexer": "ipython3",
   "version": "3.11.5"
  }
 },
 "nbformat": 4,
 "nbformat_minor": 5
}
