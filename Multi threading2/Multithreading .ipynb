{
 "cells": [
  {
   "cell_type": "code",
   "execution_count": 1,
   "id": "1d7c5b82-7a56-4b0a-856b-9ca983dff408",
   "metadata": {},
   "outputs": [
    {
     "name": "stdout",
     "output_type": "stream",
     "text": [
      "Object `useful` not found.\n"
     ]
    }
   ],
   "source": [
    "Q1. What is multiprocessing in Python? Why is it useful?"
   ]
  },
  {
   "cell_type": "raw",
   "id": "979d0c54-44e3-4907-956a-b1fd71c06f2f",
   "metadata": {},
   "source": [
    "Multiprocessing in Python refers to the ability to run multiple processes concurrently to achieve parallelism. Each process has its own memory space, allowing for true parallel execution of code on multi-core systems. Multiprocessing is useful for tasks that can be parallelized, such as CPU-bound operations, because it can significantly improve performance by utilizing multiple CPU cores simultaneously."
   ]
  },
  {
   "cell_type": "code",
   "execution_count": null,
   "id": "64a1fab7-d815-41a6-a60f-16d2b1530d82",
   "metadata": {},
   "outputs": [],
   "source": [
    " What are the differences between multiprocessing and multithreading?"
   ]
  },
  {
   "cell_type": "code",
   "execution_count": null,
   "id": "b1d6dbc0-3903-40b9-90bf-8d898fecc252",
   "metadata": {},
   "outputs": [],
   "source": [
    "The main differences between multiprocessing and multithreading are:"
   ]
  },
  {
   "cell_type": "raw",
   "id": "db22aa44-9fd1-4a35-8801-b9731fc5463b",
   "metadata": {},
   "source": [
    "Multiprocessing involves running multiple processes concurrently, each with its own memory space, while multithreading involves running multiple threads within a single process, all sharing the same memory space.\n",
    "\n",
    "Processes in multiprocessing are managed by the operating system, while threads in multithreading are managed by the Python interpreter.\n",
    "\n",
    "Multiprocessing provides true parallelism, as processes can run on different CPU cores, while multithreading achieves concurrency but not necessarily parallelism, as threads share resources and may be executed concurrently on a single CPU core.\n",
    "\n",
    "Multiprocessing is typically used for CPU-bound tasks, while multithreading is more suitable for I/O-bound tasks."
   ]
  },
  {
   "cell_type": "code",
   "execution_count": null,
   "id": "3a25cd8f-b46f-4fbf-942d-d813030e175a",
   "metadata": {},
   "outputs": [],
   "source": [
    "Q3. Write a Python code to create a process using the multiprocessing module."
   ]
  },
  {
   "cell_type": "code",
   "execution_count": null,
   "id": "43be49dd-994c-401c-a701-2a1432b01e43",
   "metadata": {},
   "outputs": [],
   "source": [
    "A3. Here's an example code to create a process using the multiprocessing module:"
   ]
  },
  {
   "cell_type": "code",
   "execution_count": 2,
   "id": "b4c096cd-07d9-4b89-97ec-4158f6323154",
   "metadata": {},
   "outputs": [],
   "source": [
    "import multiprocessing\n",
    "\n",
    "def worker():\n",
    "    print(\"This is a worker process.\")\n",
    "\n",
    "if __name__ == \"__main__\":\n",
    "    process = multiprocessing.Process(target=worker)\n",
    "    process.start()\n",
    "    process.join()"
   ]
  },
  {
   "cell_type": "code",
   "execution_count": 3,
   "id": "6fef2e38-6c17-4789-85ad-171b44edc362",
   "metadata": {},
   "outputs": [
    {
     "name": "stdout",
     "output_type": "stream",
     "text": [
      "Object `module` not found.\n"
     ]
    }
   ],
   "source": [
    "Q5. How can we create a pool of worker processes in Python using the multiprocessing module?"
   ]
  },
  {
   "cell_type": "code",
   "execution_count": null,
   "id": "cf7dbc46-88e8-4e12-979b-3fcce41177ca",
   "metadata": {},
   "outputs": [],
   "source": [
    "A5. Here's an example code to create a pool of worker processes using the multiprocessing module:"
   ]
  },
  {
   "cell_type": "code",
   "execution_count": null,
   "id": "363bce9a-2196-43ab-9dc9-0b418ecbed12",
   "metadata": {},
   "outputs": [],
   "source": [
    "import multiprocessing\n",
    "\n",
    "def worker(num):\n",
    "    print(f\"Worker {num} is processing.\")\n",
    "\n",
    "if __name__ == \"__main__\":\n",
    "    with multiprocessing.Pool(processes=4) as pool:\n",
    "        pool.map(worker, range(4))"
   ]
  },
  {
   "cell_type": "code",
   "execution_count": null,
   "id": "4845a3c7-8a11-440b-b2c2-ba898c83e824",
   "metadata": {},
   "outputs": [],
   "source": [
    "Q6. Write a Python program to create 4 processes, each process should print a different number using the multiprocessing module in Python."
   ]
  },
  {
   "cell_type": "code",
   "execution_count": null,
   "id": "b8cc15ac-8e57-4f49-8211-627fd93e7498",
   "metadata": {},
   "outputs": [],
   "source": [
    "import multiprocessing\n",
    "\n",
    "def print_number(num):\n",
    "    print(f\"Process {num}: {num}\")\n",
    "\n",
    "if __name__ == \"__main__\":\n",
    "    processes = []\n",
    "    for i in range(4):\n",
    "        process = multiprocessing.Process(target=print_number, args=(i,))\n",
    "        processes.append(process)\n",
    "        process.start()\n",
    "\n",
    "    for process in processes:\n",
    "        process.join()"
   ]
  },
  {
   "cell_type": "code",
   "execution_count": null,
   "id": "d1719e70-2b1f-4990-99b9-8298343a9ad0",
   "metadata": {},
   "outputs": [],
   "source": []
  },
  {
   "cell_type": "code",
   "execution_count": null,
   "id": "a965596a-ad21-4620-a36d-6f8597dfb81f",
   "metadata": {},
   "outputs": [],
   "source": []
  },
  {
   "cell_type": "code",
   "execution_count": null,
   "id": "f8e8ee8e-aa85-47cc-b7fe-3091ab2e3a7d",
   "metadata": {},
   "outputs": [],
   "source": []
  }
 ],
 "metadata": {
  "kernelspec": {
   "display_name": "Python 3 (ipykernel)",
   "language": "python",
   "name": "python3"
  },
  "language_info": {
   "codemirror_mode": {
    "name": "ipython",
    "version": 3
   },
   "file_extension": ".py",
   "mimetype": "text/x-python",
   "name": "python",
   "nbconvert_exporter": "python",
   "pygments_lexer": "ipython3",
   "version": "3.11.5"
  }
 },
 "nbformat": 4,
 "nbformat_minor": 5
}
