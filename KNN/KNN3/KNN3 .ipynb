{
 "cells": [
  {
   "cell_type": "code",
   "execution_count": null,
   "id": "2c56c539-494e-448a-8771-f02f56f1e90b",
   "metadata": {},
   "outputs": [],
   "source": [
    "Q1. Write a Python code to implement the KNN classifier algorithm on load_iris dataset in\n",
    "sklearn.datasets.\n",
    "Q2. Write a Python code to implement the KNN regressor algorithm on load_boston dataset in\n",
    "sklearn.datasets.\n",
    "Q3. Write a Python code snippet to find the optimal value of K for the KNN classifier algorithm using\n",
    "cross-validation on load_iris dataset in sklearn.datasets.\n",
    "Q4. Implement the KNN regressor algorithm with feature scaling on load_boston dataset in\n",
    "sklearn.datasets.\n",
    "Q5. Write a Python code snippet to implement the KNN classifier algorithm with weighted voting on\n",
    "load_iris dataset in sklearn.datasets.\n",
    "Q6. Implement a function to standardise the features before applying KNN classifier.\n",
    "Q7. Write a Python function to calculate the euclidean distance between two points.\n",
    "Q8. Write a Python function to calculate the manhattan distance between two points."
   ]
  },
  {
   "cell_type": "code",
   "execution_count": 1,
   "id": "f78b2dad-4dba-4abc-a1ac-ca8da66ca1f4",
   "metadata": {},
   "outputs": [
    {
     "name": "stdout",
     "output_type": "stream",
     "text": [
      "Accuracy: 1.0\n"
     ]
    }
   ],
   "source": [
    "from sklearn.datasets import load_iris\n",
    "from sklearn.model_selection import train_test_split\n",
    "from sklearn.neighbors import KNeighborsClassifier\n",
    "from sklearn.metrics import accuracy_score\n",
    "\n",
    "# Load the dataset\n",
    "iris = load_iris()\n",
    "X, y = iris.data, iris.target\n",
    "\n",
    "# Split the dataset into training and testing sets\n",
    "X_train, X_test, y_train, y_test = train_test_split(X, y, test_size=0.2, random_state=42)\n",
    "\n",
    "# Initialize and train the KNN classifier\n",
    "knn_classifier = KNeighborsClassifier()\n",
    "knn_classifier.fit(X_train, y_train)\n",
    "\n",
    "# Make predictions\n",
    "y_pred = knn_classifier.predict(X_test)\n",
    "\n",
    "# Evaluate the model\n",
    "accuracy = accuracy_score(y_test, y_pred)\n",
    "print(\"Accuracy:\", accuracy)\n"
   ]
  },
  {
   "cell_type": "code",
   "execution_count": 5,
   "id": "ba5df438-027c-4cb8-805a-27170d3d21ea",
   "metadata": {},
   "outputs": [
    {
     "name": "stdout",
     "output_type": "stream",
     "text": [
      "Mean Squared Error: 1.1186823858768293\n"
     ]
    }
   ],
   "source": [
    "from sklearn.datasets import fetch_california_housing\n",
    "from sklearn.model_selection import train_test_split\n",
    "from sklearn.neighbors import KNeighborsRegressor\n",
    "from sklearn.metrics import mean_squared_error\n",
    "\n",
    "# Load the dataset\n",
    "housing = fetch_california_housing()\n",
    "X, y = housing.data, housing.target\n",
    "\n",
    "# Split the dataset into training and testing sets\n",
    "X_train, X_test, y_train, y_test = train_test_split(X, y, test_size=0.2, random_state=42)\n",
    "\n",
    "# Initialize and train the KNN regressor\n",
    "knn_regressor = KNeighborsRegressor()\n",
    "knn_regressor.fit(X_train, y_train)\n",
    "\n",
    "# Make predictions\n",
    "y_pred = knn_regressor.predict(X_test)\n",
    "\n",
    "# Evaluate the model\n",
    "mse = mean_squared_error(y_test, y_pred)\n",
    "print(\"Mean Squared Error:\", mse)\n"
   ]
  },
  {
   "cell_type": "code",
   "execution_count": 7,
   "id": "6f806182-e7d6-43ca-8208-ba212dca6d9e",
   "metadata": {},
   "outputs": [
    {
     "name": "stdout",
     "output_type": "stream",
     "text": [
      "K = 1, Mean Accuracy = 0.96\n",
      "K = 2, Mean Accuracy = 0.9466666666666665\n",
      "K = 3, Mean Accuracy = 0.9666666666666668\n",
      "K = 4, Mean Accuracy = 0.9733333333333334\n",
      "K = 5, Mean Accuracy = 0.9733333333333334\n",
      "K = 6, Mean Accuracy = 0.9800000000000001\n",
      "K = 7, Mean Accuracy = 0.9800000000000001\n",
      "K = 8, Mean Accuracy = 0.9666666666666668\n",
      "K = 9, Mean Accuracy = 0.9733333333333334\n",
      "K = 10, Mean Accuracy = 0.9800000000000001\n"
     ]
    }
   ],
   "source": [
    "from sklearn.datasets import load_iris\n",
    "from sklearn.model_selection import cross_val_score\n",
    "from sklearn.neighbors import KNeighborsClassifier\n",
    "\n",
    "# Load the dataset\n",
    "iris = load_iris()\n",
    "X, y = iris.data, iris.target\n",
    "\n",
    "# Perform cross-validation to find the optimal value of K\n",
    "for k in range(1, 11):\n",
    "    knn_classifier = KNeighborsClassifier(n_neighbors=k)\n",
    "    scores = cross_val_score(knn_classifier, X, y, cv=5)\n",
    "    print(f\"K = {k}, Mean Accuracy = {scores.mean()}\")\n"
   ]
  },
  {
   "cell_type": "code",
   "execution_count": 8,
   "id": "a05468cb-d00e-48ce-b0d8-77ed83c67f3f",
   "metadata": {},
   "outputs": [
    {
     "name": "stdout",
     "output_type": "stream",
     "text": [
      "Mean Squared Error with Feature Scaling: 0.010666666666666661\n"
     ]
    }
   ],
   "source": [
    "from sklearn.preprocessing import StandardScaler\n",
    "\n",
    "# Scale the features\n",
    "scaler = StandardScaler()\n",
    "X_scaled = scaler.fit_transform(X)\n",
    "\n",
    "# Split the scaled dataset into training and testing sets\n",
    "X_train_scaled, X_test_scaled, y_train, y_test = train_test_split(X_scaled, y, test_size=0.2, random_state=42)\n",
    "\n",
    "# Initialize and train the KNN regressor with scaled features\n",
    "knn_regressor_scaled = KNeighborsRegressor()\n",
    "knn_regressor_scaled.fit(X_train_scaled, y_train)\n",
    "\n",
    "# Make predictions\n",
    "y_pred_scaled = knn_regressor_scaled.predict(X_test_scaled)\n",
    "\n",
    "# Evaluate the model\n",
    "mse_scaled = mean_squared_error(y_test, y_pred_scaled)\n",
    "print(\"Mean Squared Error with Feature Scaling:\", mse_scaled)"
   ]
  },
  {
   "cell_type": "code",
   "execution_count": 10,
   "id": "5cd53064-d1dd-42e8-921d-b74466d03c92",
   "metadata": {},
   "outputs": [
    {
     "name": "stdout",
     "output_type": "stream",
     "text": [
      "Accuracy with Weighted Voting: 1.0\n"
     ]
    }
   ],
   "source": [
    "from sklearn.datasets import load_iris\n",
    "from sklearn.model_selection import train_test_split\n",
    "from sklearn.neighbors import KNeighborsClassifier\n",
    "from sklearn.metrics import accuracy_score\n",
    "\n",
    "# Load the dataset\n",
    "iris = load_iris()\n",
    "X, y = iris.data, iris.target\n",
    "\n",
    "# Split the dataset into training and testing sets\n",
    "X_train, X_test, y_train, y_test = train_test_split(X, y, test_size=0.2, random_state=42)\n",
    "\n",
    "# Initialize and train the KNN classifier with weighted voting\n",
    "knn_classifier_weighted = KNeighborsClassifier(weights='distance')\n",
    "knn_classifier_weighted.fit(X_train, y_train)\n",
    "\n",
    "# Make predictions\n",
    "y_pred_weighted = knn_classifier_weighted.predict(X_test)\n",
    "\n",
    "# Evaluate the model\n",
    "accuracy_weighted = accuracy_score(y_test, y_pred_weighted)\n",
    "print(\"Accuracy with Weighted Voting:\", accuracy_weighted)\n"
   ]
  },
  {
   "cell_type": "code",
   "execution_count": 11,
   "id": "36416b74-982f-4de7-9c2c-c389aeb43e76",
   "metadata": {},
   "outputs": [],
   "source": [
    "def standardize_features(X):\n",
    "    scaler = StandardScaler()\n",
    "    X_scaled = scaler.fit_transform(X)\n",
    "    return X_scaled\n",
    "\n",
    "# Usage:\n",
    "X_train_scaled = standardize_features(X_train)\n",
    "X_test_scaled = standardize_features(X_test)"
   ]
  },
  {
   "cell_type": "code",
   "execution_count": 12,
   "id": "ace21019-ba88-4535-9be3-b40647b61aec",
   "metadata": {},
   "outputs": [
    {
     "name": "stdout",
     "output_type": "stream",
     "text": [
      "Euclidean Distance: 5.196152422706632\n"
     ]
    }
   ],
   "source": [
    "import numpy as np\n",
    "\n",
    "def euclidean_distance(point1, point2):\n",
    "    return np.sqrt(np.sum((point1 - point2)**2))\n",
    "\n",
    "# Usage:\n",
    "distance = euclidean_distance(np.array([1, 2, 3]), np.array([4, 5, 6]))\n",
    "print(\"Euclidean Distance:\", distance)"
   ]
  },
  {
   "cell_type": "code",
   "execution_count": 13,
   "id": "d88de254-d27b-4f2d-a254-e64a170181fc",
   "metadata": {},
   "outputs": [
    {
     "name": "stdout",
     "output_type": "stream",
     "text": [
      "Manhattan Distance: 9\n"
     ]
    }
   ],
   "source": [
    "def manhattan_distance(point1, point2):\n",
    "    return np.sum(np.abs(point1 - point2))\n",
    "\n",
    "# Usage:\n",
    "distance = manhattan_distance(np.array([1, 2, 3]), np.array([4, 5, 6]))\n",
    "print(\"Manhattan Distance:\", distance)"
   ]
  },
  {
   "cell_type": "code",
   "execution_count": null,
   "id": "4936ed38-1beb-4323-9b50-8420daa3de35",
   "metadata": {},
   "outputs": [],
   "source": []
  }
 ],
 "metadata": {
  "kernelspec": {
   "display_name": "Python 3 (ipykernel)",
   "language": "python",
   "name": "python3"
  },
  "language_info": {
   "codemirror_mode": {
    "name": "ipython",
    "version": 3
   },
   "file_extension": ".py",
   "mimetype": "text/x-python",
   "name": "python",
   "nbconvert_exporter": "python",
   "pygments_lexer": "ipython3",
   "version": "3.11.5"
  }
 },
 "nbformat": 4,
 "nbformat_minor": 5
}
