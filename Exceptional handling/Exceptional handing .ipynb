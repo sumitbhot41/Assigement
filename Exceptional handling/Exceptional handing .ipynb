{
 "cells": [
  {
   "cell_type": "code",
   "execution_count": null,
   "id": "ace3ab1f-1979-4e91-a294-f5d6ef271149",
   "metadata": {},
   "outputs": [],
   "source": [
    "Q1 What is an Exception in Python? Write the difference between Exceptions and syntax errors."
   ]
  },
  {
   "cell_type": "raw",
   "id": "e80fe132-c79b-47ef-a2ff-e22b92539bb9",
   "metadata": {},
   "source": [
    " In Python, an exception is an error that occurs during the execution of a program. It disrupts the normal flow of the program's instructions. Exceptions can occur for various reasons, such as invalid user input, file not found, or division by zero. The main difference between exceptions and syntax errors is that syntax errors occur when the code is not properly written according to the syntax rules of Python, whereas exceptions occur during the execution of the code due to unexpected situations."
   ]
  },
  {
   "cell_type": "code",
   "execution_count": null,
   "id": "6e7217cb-123b-434a-a8a9-b5625e8a4195",
   "metadata": {},
   "outputs": [],
   "source": [
    "Q2 What happens when an exception is not handled? Explain with an example."
   ]
  },
  {
   "cell_type": "raw",
   "id": "74b1e0f5-30ec-40b9-acc5-f0b00df5d462",
   "metadata": {},
   "source": [
    "When an exception is not handled, it propagates up the call stack until it is caught by an appropriate exception handler or until it reaches the top-level scope, causing the program to terminate abruptly. For example:"
   ]
  },
  {
   "cell_type": "code",
   "execution_count": null,
   "id": "75bc53c2-2110-4f4a-af90-1b8a95259073",
   "metadata": {},
   "outputs": [],
   "source": [
    "Q3 which Python statements are used to catch and handle exceptions? Explain with an example"
   ]
  },
  {
   "cell_type": "raw",
   "id": "66c5ff6a-a9ec-4b73-a8ac-76936cf991b4",
   "metadata": {},
   "source": [
    " Python try, except, finally, and raise statements are used to catch and handle exceptions."
   ]
  },
  {
   "cell_type": "code",
   "execution_count": 2,
   "id": "060641d4-ab16-4208-abdc-3fe948a5e4ae",
   "metadata": {},
   "outputs": [
    {
     "name": "stdin",
     "output_type": "stream",
     "text": [
      "Enter a number:  5\n"
     ]
    },
    {
     "name": "stdout",
     "output_type": "stream",
     "text": [
      "Result: 2.0\n",
      "No exceptions occurred.\n",
      "This will always execute, regardless of exceptions.\n"
     ]
    }
   ],
   "source": [
    "try:\n",
    "    num = int(input(\"Enter a number: \"))\n",
    "    result = 10 / num\n",
    "    print(\"Result:\", result)\n",
    "except ZeroDivisionError:\n",
    "    print(\"Cannot divide by zero!\")\n",
    "except ValueError:\n",
    "    print(\"Please enter a valid number!\")\n",
    "else:\n",
    "    print(\"No exceptions occurred.\")\n",
    "finally:\n",
    "    print(\"This will always execute, regardless of exceptions.\")"
   ]
  },
  {
   "cell_type": "code",
   "execution_count": null,
   "id": "329847db-0e3c-4a21-a2ef-e088c549ec09",
   "metadata": {},
   "outputs": [],
   "source": [
    "Q4 Explain with an example: try, else, finally, and raise."
   ]
  },
  {
   "cell_type": "code",
   "execution_count": 3,
   "id": "ebb515b1-11ec-4a4b-a413-ad7c13e925f0",
   "metadata": {},
   "outputs": [
    {
     "name": "stdin",
     "output_type": "stream",
     "text": [
      "Enter a positive number:  1\n"
     ]
    },
    {
     "name": "stdout",
     "output_type": "stream",
     "text": [
      "You entered a positive number.\n",
      "This will always execute, regardless of exceptions.\n"
     ]
    }
   ],
   "source": [
    "try:\n",
    "    num = int(input(\"Enter a positive number: \"))\n",
    "    if num <= 0:\n",
    "        raise ValueError(\"Number must be positive\")\n",
    "except ValueError as ve:\n",
    "    print(ve)\n",
    "else:\n",
    "    print(\"You entered a positive number.\")\n",
    "finally:\n",
    "    print(\"This will always execute, regardless of exceptions.\")"
   ]
  },
  {
   "cell_type": "raw",
   "id": "6d5ddea7-aa9a-49a6-b9ab-baf3b1acfe2b",
   "metadata": {},
   "source": [
    "Q5 Custom exceptions in Python are user-defined exception classes that allow programmers to define their own types of exceptions. We need custom exceptions to provide more descriptive error messages and to differentiate between different types of errors in our programs."
   ]
  },
  {
   "cell_type": "code",
   "execution_count": 4,
   "id": "0c165e17-266f-4ce6-909e-5542928eed12",
   "metadata": {},
   "outputs": [
    {
     "name": "stdin",
     "output_type": "stream",
     "text": [
      "Enter your email:  sumit@gmail.com\n"
     ]
    }
   ],
   "source": [
    "class InvalidEmailError(Exception):\n",
    "    def __init__(self, email):\n",
    "        self.email = email\n",
    "\n",
    "try:\n",
    "    email = input(\"Enter your email: \")\n",
    "    if \"@\" not in email:\n",
    "        raise InvalidEmailError(\"Invalid email format\")\n",
    "except InvalidEmailError as e:\n",
    "    print(e)"
   ]
  },
  {
   "cell_type": "code",
   "execution_count": null,
   "id": "2b8a510d-24fa-4ad6-aa31-f605a8fcaab7",
   "metadata": {},
   "outputs": [],
   "source": [
    "Q6. Create a custom exception class. Use this class to handle an exception."
   ]
  },
  {
   "cell_type": "code",
   "execution_count": 6,
   "id": "ca7c99db-742e-4551-96ba-b3d77e5f84e2",
   "metadata": {},
   "outputs": [
    {
     "name": "stdout",
     "output_type": "stream",
     "text": [
      "Negative numbers are not allowed\n"
     ]
    }
   ],
   "source": [
    "class NegativeNumberError(Exception):\n",
    "    def __init__(self, value):\n",
    "        self.value = value\n",
    "\n",
    "def square_root(num):\n",
    "    if num < 0:\n",
    "        raise NegativeNumberError(\"Negative numbers are not allowed\")\n",
    "    return num ** 0.5\n",
    "\n",
    "try:\n",
    "    result = square_root(-4)\n",
    "    print(\"Square root:\", result)\n",
    "except NegativeNumberError as e:\n",
    "    print(e)"
   ]
  },
  {
   "cell_type": "code",
   "execution_count": null,
   "id": "2e914f72-c498-4a79-ad61-86bfedf39cdb",
   "metadata": {},
   "outputs": [],
   "source": []
  },
  {
   "cell_type": "code",
   "execution_count": null,
   "id": "528b384b-19db-4cfe-bb54-9183b90ac307",
   "metadata": {},
   "outputs": [],
   "source": []
  },
  {
   "cell_type": "code",
   "execution_count": null,
   "id": "5ee6583d-9106-490b-92ce-567225b30e1f",
   "metadata": {},
   "outputs": [],
   "source": []
  }
 ],
 "metadata": {
  "kernelspec": {
   "display_name": "Python 3 (ipykernel)",
   "language": "python",
   "name": "python3"
  },
  "language_info": {
   "codemirror_mode": {
    "name": "ipython",
    "version": 3
   },
   "file_extension": ".py",
   "mimetype": "text/x-python",
   "name": "python",
   "nbconvert_exporter": "python",
   "pygments_lexer": "ipython3",
   "version": "3.11.5"
  }
 },
 "nbformat": 4,
 "nbformat_minor": 5
}
