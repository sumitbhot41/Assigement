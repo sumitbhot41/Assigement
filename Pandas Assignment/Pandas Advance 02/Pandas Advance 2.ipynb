{
 "cells": [
  {
   "cell_type": "code",
   "execution_count": null,
   "id": "6abe9022-fcbb-4e6d-a3d6-8d4274f4bac4",
   "metadata": {},
   "outputs": [],
   "source": [
    "Q1: Code to print data present in the second row of the DataFrame "
   ]
  },
  {
   "cell_type": "code",
   "execution_count": 5,
   "id": "80ba12e3-525c-4f1e-a39d-1c8e3b8da834",
   "metadata": {},
   "outputs": [
    {
     "name": "stdout",
     "output_type": "stream",
     "text": [
      "course_name    Machine Learning\n",
      "duration                      3\n",
      "Name: 1, dtype: object\n"
     ]
    }
   ],
   "source": [
    "import pandas as pd\n",
    "course_name = ['Data Science', 'Machine Learning','big Data','Data Engineer']\n",
    "duration = [2,3,6,4]\n",
    "df = pd.DataFrame(data = {'course_name' : course_name, 'duration' : duration})\n",
    "\n",
    "print(df.iloc[1])"
   ]
  },
  {
   "cell_type": "code",
   "execution_count": null,
   "id": "141b93a5-549a-4466-afbd-d819c5c489fd",
   "metadata": {},
   "outputs": [],
   "source": [
    "Difference between loc and iloc in pandas.DataFrame"
   ]
  },
  {
   "cell_type": "raw",
   "id": "ecb2b4d8-283d-4dbd-905b-5dc7e2d2af4b",
   "metadata": {},
   "source": [
    "loc: It is used to access a group of rows and columns by labels or a boolean array.\n",
    "iloc: It is used to access a group of rows and columns by integer position."
   ]
  },
  {
   "cell_type": "code",
   "execution_count": null,
   "id": "e2db915b-f3dc-4d9c-836f-f0ba29d24648",
   "metadata": {},
   "outputs": [],
   "source": [
    "Q3: Reindex the given DataFrame and find output for both new_df.loc[2] and new_df.iloc[2]"
   ]
  },
  {
   "cell_type": "code",
   "execution_count": 6,
   "id": "d719643c-a0f7-40cd-bfe5-2e9a1755df0b",
   "metadata": {},
   "outputs": [
    {
     "name": "stdout",
     "output_type": "stream",
     "text": [
      "Output for new_df.loc[2]:\n",
      "course_name    big Data\n",
      "duration              6\n",
      "Name: 2, dtype: object\n",
      "\n",
      "Output for new_df.iloc[2]:\n",
      "course_name    Machine Learning\n",
      "duration                      3\n",
      "Name: 1, dtype: object\n"
     ]
    }
   ],
   "source": [
    "reindex = [3, 0, 1, 2]\n",
    "new_df = df.reindex(reindex)\n",
    "print(\"Output for new_df.loc[2]:\")\n",
    "print(new_df.loc[2])\n",
    "print(\"\\nOutput for new_df.iloc[2]:\")\n",
    "print(new_df.iloc[2])"
   ]
  },
  {
   "cell_type": "code",
   "execution_count": null,
   "id": "b4e5a0c7-5337-4882-ac7e-7d767a0bd16f",
   "metadata": {},
   "outputs": [],
   "source": [
    "Q4: Code to find mean of each column and standard deviation of 'column_2'"
   ]
  },
  {
   "cell_type": "code",
   "execution_count": null,
   "id": "9987c693-ee88-4b8f-8d68-7f692adab718",
   "metadata": {},
   "outputs": [],
   "source": [
    "print(\"Mean of each column:\")\n",
    "print(df.mean())\n",
    "\n",
    "# (ii) Standard deviation of column 'column_2'\n",
    "print(\"Standard deviation of column 'column_2':\", df['column_2'].std())"
   ]
  },
  {
   "cell_type": "code",
   "execution_count": null,
   "id": "b3e8ea30-86f7-4a2e-9485-6eadf9d70126",
   "metadata": {},
   "outputs": [],
   "source": []
  },
  {
   "cell_type": "code",
   "execution_count": 8,
   "id": "88038175-cc49-4dec-8af5-a15363994523",
   "metadata": {},
   "outputs": [],
   "source": [
    "df.loc[1, 'column_2'] = 'string data'"
   ]
  },
  {
   "cell_type": "code",
   "execution_count": null,
   "id": "aea31b44-a459-4530-a6d4-d6de859e5c13",
   "metadata": {},
   "outputs": [],
   "source": [
    " Understanding of windows function in pandas and types"
   ]
  },
  {
   "cell_type": "code",
   "execution_count": null,
   "id": "697e2424-b88f-435e-a961-68041d80d024",
   "metadata": {},
   "outputs": [],
   "source": [
    "In pandas, a window function is a function that performs a calculation across a set of rows that are related to the current row. It is useful for calculating moving averages, cumulative sums, rolling statistics, etc.\n",
    "\n",
    "Types of window functions in pandas include:\n",
    "\n",
    "Rolling window functions (rolling() method)\n",
    "Expanding window functions (expanding() method)\n",
    "Exponentially weighted moving window functions (ewm() method)"
   ]
  },
  {
   "cell_type": "code",
   "execution_count": null,
   "id": "9220f02a-7dad-412c-9145-448f9d84fa16",
   "metadata": {},
   "outputs": [],
   "source": [
    "Q7: Code to print only the current month and year"
   ]
  },
  {
   "cell_type": "code",
   "execution_count": 9,
   "id": "23968ea3-6606-4fe0-baef-8d6f03d79ead",
   "metadata": {},
   "outputs": [
    {
     "name": "stdout",
     "output_type": "stream",
     "text": [
      "Current month and year: March 2024\n"
     ]
    }
   ],
   "source": [
    "\n",
    "current_date = pd.to_datetime('today')\n",
    "print(\"Current month and year:\", current_date.strftime('%B %Y'))"
   ]
  },
  {
   "cell_type": "code",
   "execution_count": null,
   "id": "0cd79065-e48f-41e7-bfcd-57a8113d36c1",
   "metadata": {},
   "outputs": [],
   "source": [
    "Python program to calculate difference between two dates using Pandas timedelta"
   ]
  },
  {
   "cell_type": "code",
   "execution_count": 10,
   "id": "00175359-b8b1-4ac5-b453-639bdbe067a2",
   "metadata": {},
   "outputs": [
    {
     "name": "stdin",
     "output_type": "stream",
     "text": [
      "Enter first date (YYYY-MM-DD):  2023-03-22\n",
      "Enter second date (YYYY-MM-DD):  2023-06-12\n"
     ]
    },
    {
     "name": "stdout",
     "output_type": "stream",
     "text": [
      "Difference between the two dates:\n",
      "Days: 82\n",
      "Hours: 0\n",
      "Minutes: 0\n"
     ]
    }
   ],
   "source": [
    "date1 = pd.to_datetime(input(\"Enter first date (YYYY-MM-DD): \"))\n",
    "date2 = pd.to_datetime(input(\"Enter second date (YYYY-MM-DD): \"))\n",
    "\n",
    "# Calculate difference\n",
    "difference = date2 - date1\n",
    "\n",
    "print(\"Difference between the two dates:\")\n",
    "print(\"Days:\", difference.days)\n",
    "print(\"Hours:\", difference.seconds // 3600)\n",
    "print(\"Minutes:\", (difference.seconds // 60) % 60)"
   ]
  },
  {
   "cell_type": "code",
   "execution_count": null,
   "id": "607e3007-7a45-48e9-831c-a71c1a87e0b1",
   "metadata": {},
   "outputs": [],
   "source": []
  },
  {
   "cell_type": "code",
   "execution_count": null,
   "id": "8339b50e-06b9-4d74-bfc9-4478366ec6ec",
   "metadata": {},
   "outputs": [],
   "source": []
  },
  {
   "cell_type": "code",
   "execution_count": null,
   "id": "0d0ef466-975e-4a4a-b71e-fd77e9ffbaf5",
   "metadata": {},
   "outputs": [],
   "source": []
  },
  {
   "cell_type": "code",
   "execution_count": null,
   "id": "c78f4ada-5465-460b-9616-eb6abf0a65e8",
   "metadata": {},
   "outputs": [],
   "source": []
  },
  {
   "cell_type": "code",
   "execution_count": null,
   "id": "0a6fcd0b-ff94-44ea-98d7-1c60b7f0910e",
   "metadata": {},
   "outputs": [],
   "source": []
  }
 ],
 "metadata": {
  "kernelspec": {
   "display_name": "Python 3 (ipykernel)",
   "language": "python",
   "name": "python3"
  },
  "language_info": {
   "codemirror_mode": {
    "name": "ipython",
    "version": 3
   },
   "file_extension": ".py",
   "mimetype": "text/x-python",
   "name": "python",
   "nbconvert_exporter": "python",
   "pygments_lexer": "ipython3",
   "version": "3.11.5"
  }
 },
 "nbformat": 4,
 "nbformat_minor": 5
}
