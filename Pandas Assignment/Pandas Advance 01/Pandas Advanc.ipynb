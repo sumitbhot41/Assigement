{
 "cells": [
  {
   "cell_type": "code",
   "execution_count": null,
   "id": "b9adc065-1074-4b96-a3d3-71bf07707fc2",
   "metadata": {},
   "outputs": [],
   "source": [
    "Q1 List any five functions of the pandas library with execution."
   ]
  },
  {
   "cell_type": "code",
   "execution_count": null,
   "id": "b8e7fe24-b585-4f64-8b90-61b68df1f142",
   "metadata": {},
   "outputs": [],
   "source": [
    "read_csv(): This function is used to read data from a CSV file into a DataFrame.\n",
    "head(): This function returns the first n rows of a DataFrame.\n",
    "describe(): This function generates descriptive statistics of the DataFrame.\n",
    "groupby(): This function is used to group DataFrame using a mapper or by a Series of columns.\n",
    "dropna(): This function is used to remove missing values from the DataFrame."
   ]
  },
  {
   "cell_type": "code",
   "execution_count": null,
   "id": "1c96c2a3-ae1d-429d-aaa3-40508154be42",
   "metadata": {},
   "outputs": [],
   "source": [
    "Q2: Python function to re-index the DataFrame"
   ]
  },
  {
   "cell_type": "code",
   "execution_count": 1,
   "id": "e4a5f6cb-6de1-4a81-ae88-970b3b9d567b",
   "metadata": {},
   "outputs": [
    {
     "name": "stdout",
     "output_type": "stream",
     "text": [
      "Original DataFrame:\n",
      "   A  B  C\n",
      "0  1  4  7\n",
      "1  2  5  8\n",
      "2  3  6  9\n",
      "\n",
      "DataFrame after re-indexing:\n",
      "   A  B  C\n",
      "1  1  4  7\n",
      "3  2  5  8\n",
      "5  3  6  9\n"
     ]
    }
   ],
   "source": [
    "import pandas as pd\n",
    "\n",
    "def reindex_dataframe(df):\n",
    "    new_index = range(1, len(df) * 2 + 1, 2)\n",
    "    df_reindexed = df.copy()\n",
    "    df_reindexed.index = new_index\n",
    "    return df_reindexed\n",
    "\n",
    "# Example usage:\n",
    "df = pd.DataFrame({'A': [1, 2, 3], 'B': [4, 5, 6], 'C': [7, 8, 9]})\n",
    "print(\"Original DataFrame:\")\n",
    "print(df)\n",
    "print(\"\\nDataFrame after re-indexing:\")\n",
    "print(reindex_dataframe(df))"
   ]
  },
  {
   "cell_type": "code",
   "execution_count": null,
   "id": "6ec9757d-50ee-4501-9380-594c53432646",
   "metadata": {},
   "outputs": [],
   "source": [
    "Q3: Python function to calculate sum of first three values in 'Values' column"
   ]
  },
  {
   "cell_type": "code",
   "execution_count": 2,
   "id": "e1565114-69fd-4953-8555-ffaa838e7607",
   "metadata": {},
   "outputs": [
    {
     "name": "stdout",
     "output_type": "stream",
     "text": [
      "DataFrame:\n",
      "   Values\n",
      "0      10\n",
      "1      20\n",
      "2      30\n",
      "3      40\n",
      "4      50\n",
      "Sum of the first three values: 60\n"
     ]
    }
   ],
   "source": [
    "\n",
    "def sum_first_three_values(df):\n",
    "    sum_values = df['Values'].head(3).sum()\n",
    "    print(\"Sum of the first three values:\", sum_values)\n",
    "\n",
    "# Example usage:\n",
    "df = pd.DataFrame({'Values': [10, 20, 30, 40, 50]})\n",
    "print(\"DataFrame:\")\n",
    "print(df)\n",
    "sum_first_three_values(df)"
   ]
  },
  {
   "cell_type": "code",
   "execution_count": null,
   "id": "103f910d-dc30-487e-a5fd-c229da896edc",
   "metadata": {},
   "outputs": [],
   "source": [
    "Q4: Python function to create a new column 'Word_Count'"
   ]
  },
  {
   "cell_type": "code",
   "execution_count": 3,
   "id": "e02348f3-c7fb-4dc8-a1b1-11ecef95090b",
   "metadata": {},
   "outputs": [
    {
     "name": "stdout",
     "output_type": "stream",
     "text": [
      "DataFrame before adding Word_Count column:\n",
      "                    Text\n",
      "0  This is a sample text\n",
      "1        Another example\n",
      "2      Python is awesome\n",
      "\n",
      "DataFrame after adding Word_Count column:\n",
      "                    Text  Word_Count\n",
      "0  This is a sample text           5\n",
      "1        Another example           2\n",
      "2      Python is awesome           3\n"
     ]
    }
   ],
   "source": [
    "\n",
    "def add_word_count_column(df):\n",
    "    df['Word_Count'] = df['Text'].apply(lambda x: len(str(x).split()))\n",
    "    return df\n",
    "\n",
    "# Example usage:\n",
    "df = pd.DataFrame({'Text': ['This is a sample text', 'Another example', 'Python is awesome']})\n",
    "print(\"DataFrame before adding Word_Count column:\")\n",
    "print(df)\n",
    "df = add_word_count_column(df)\n",
    "print(\"\\nDataFrame after adding Word_Count column:\")\n",
    "print(df)"
   ]
  },
  {
   "cell_type": "code",
   "execution_count": null,
   "id": "2e0ad881-2999-4b17-b4fb-b40f48b5e74a",
   "metadata": {},
   "outputs": [],
   "source": [
    "Q5: How are DataFrame.size() and DataFrame.shape() different?"
   ]
  },
  {
   "cell_type": "raw",
   "id": "944ddd55-51b5-4b8a-a917-7825a3d4e706",
   "metadata": {},
   "source": [
    "DataFrame.size(): This function returns the number of elements in the DataFrame. It counts all the elements, including NaN values.\n",
    "DataFrame.shape(): This attribute returns a tuple representing the dimensionality of the DataFrame. It gives the number of rows and columns in the DataFrame."
   ]
  },
  {
   "cell_type": "code",
   "execution_count": null,
   "id": "a0620022-e84a-450e-b5f2-b897d5a6d2ab",
   "metadata": {},
   "outputs": [],
   "source": [
    "Q6: Function to read an Excel file in Pandas"
   ]
  },
  {
   "cell_type": "code",
   "execution_count": null,
   "id": "8e238925-0334-498f-acf6-6ef98c72efca",
   "metadata": {},
   "outputs": [],
   "source": [
    "The function used to read an Excel file in Pandas is pd.read_excel()"
   ]
  },
  {
   "cell_type": "code",
   "execution_count": null,
   "id": "c7f32d6c-192f-4c82-90f9-ad9e229d6a69",
   "metadata": {},
   "outputs": [],
   "source": [
    "Q7: Python function to extract username from email addresses"
   ]
  },
  {
   "cell_type": "code",
   "execution_count": 5,
   "id": "ff2b2b3d-5585-47d2-81d9-fdce9b6ded4f",
   "metadata": {},
   "outputs": [
    {
     "name": "stdout",
     "output_type": "stream",
     "text": [
      "DataFrame before adding Username column:\n",
      "                    Email\n",
      "0    john.doe@example.com\n",
      "1  jane.smith@example.com\n",
      "\n",
      "DataFrame after adding Username column:\n",
      "                    Email    Username\n",
      "0    john.doe@example.com    john.doe\n",
      "1  jane.smith@example.com  jane.smith\n"
     ]
    }
   ],
   "source": [
    "def extract_username(df):\n",
    "    df['Username'] = df['Email'].str.split('@').str[0]\n",
    "    return df\n",
    "\n",
    "# Example usage:\n",
    "df = pd.DataFrame({'Email': ['john.doe@example.com', 'jane.smith@example.com']})\n",
    "print(\"DataFrame before adding Username column:\")\n",
    "print(df)\n",
    "df = extract_username(df)\n",
    "print(\"\\nDataFrame after adding Username column:\")\n",
    "print(df)"
   ]
  },
  {
   "cell_type": "code",
   "execution_count": null,
   "id": "4535eea9-8b8d-44a0-8dea-7c51ede3391c",
   "metadata": {},
   "outputs": [],
   "source": [
    "Q8: Python function to select rows based on conditions"
   ]
  },
  {
   "cell_type": "code",
   "execution_count": 4,
   "id": "02e42ee7-955d-4d0b-bb7e-5b3161c7d1bf",
   "metadata": {},
   "outputs": [
    {
     "name": "stdout",
     "output_type": "stream",
     "text": [
      "DataFrame:\n",
      "   A  B  C\n",
      "0  6  7  1\n",
      "1  4  9  2\n",
      "2  8  5  3\n",
      "\n",
      "Selected rows:\n",
      "   A  B  C\n",
      "0  6  7  1\n",
      "2  8  5  3\n"
     ]
    }
   ],
   "source": [
    "def select_rows(df):\n",
    "    selected_rows = df[(df['A'] > 5) & (df['B'] < 10)]\n",
    "    return selected_rows\n",
    "\n",
    "# Example usage:\n",
    "df = pd.DataFrame({'A': [6, 4, 8], 'B': [7, 9, 5], 'C': [1, 2, 3]})\n",
    "print(\"DataFrame:\")\n",
    "print(df)\n",
    "selected_df = select_rows(df)\n",
    "print(\"\\nSelected rows:\")\n",
    "print(selected_df)"
   ]
  },
  {
   "cell_type": "code",
   "execution_count": null,
   "id": "5d6e459a-0a2a-49ea-a20c-b54cacd06951",
   "metadata": {},
   "outputs": [],
   "source": []
  }
 ],
 "metadata": {
  "kernelspec": {
   "display_name": "Python 3 (ipykernel)",
   "language": "python",
   "name": "python3"
  },
  "language_info": {
   "codemirror_mode": {
    "name": "ipython",
    "version": 3
   },
   "file_extension": ".py",
   "mimetype": "text/x-python",
   "name": "python",
   "nbconvert_exporter": "python",
   "pygments_lexer": "ipython3",
   "version": "3.11.5"
  }
 },
 "nbformat": 4,
 "nbformat_minor": 5
}
